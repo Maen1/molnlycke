{
 "cells": [
  {
   "cell_type": "markdown",
   "id": "2329b67f-7024-42f0-b77d-8d92f40f2ee8",
   "metadata": {},
   "source": [
    "# Comparing the Effectiveness and Safety of Hydrocellular and Hydrocolloid Dressings"
   ]
  },
  {
   "cell_type": "code",
   "execution_count": 1,
   "id": "0c8b9572-a199-403b-98f8-62183b33169d",
   "metadata": {},
   "outputs": [],
   "source": [
    "from plotly.subplots import make_subplots\n",
    "import plotly.graph_objects as go\n",
    "import matplotlib.pyplot as plt\n",
    "import plotly.express as px\n",
    "import cufflinks as cf\n",
    "import pandas as pd\n",
    "import numpy as np\n",
    "%matplotlib inline"
   ]
  },
  {
   "cell_type": "code",
   "execution_count": 2,
   "id": "2b768bc1-3cee-4d76-86a1-14b12a1e63a4",
   "metadata": {
    "tags": []
   },
   "outputs": [
    {
     "data": {
      "text/html": [
       "        <script type=\"text/javascript\">\n",
       "        window.PlotlyConfig = {MathJaxConfig: 'local'};\n",
       "        if (window.MathJax && window.MathJax.Hub && window.MathJax.Hub.Config) {window.MathJax.Hub.Config({SVG: {font: \"STIX-Web\"}});}\n",
       "        if (typeof require !== 'undefined') {\n",
       "        require.undef(\"plotly\");\n",
       "        requirejs.config({\n",
       "            paths: {\n",
       "                'plotly': ['https://cdn.plot.ly/plotly-2.20.0.min']\n",
       "            }\n",
       "        });\n",
       "        require(['plotly'], function(Plotly) {\n",
       "            window._Plotly = Plotly;\n",
       "        });\n",
       "        }\n",
       "        </script>\n",
       "        "
      ]
     },
     "metadata": {},
     "output_type": "display_data"
    },
    {
     "data": {
      "text/html": [
       "        <script type=\"text/javascript\">\n",
       "        window.PlotlyConfig = {MathJaxConfig: 'local'};\n",
       "        if (window.MathJax && window.MathJax.Hub && window.MathJax.Hub.Config) {window.MathJax.Hub.Config({SVG: {font: \"STIX-Web\"}});}\n",
       "        if (typeof require !== 'undefined') {\n",
       "        require.undef(\"plotly\");\n",
       "        requirejs.config({\n",
       "            paths: {\n",
       "                'plotly': ['https://cdn.plot.ly/plotly-2.20.0.min']\n",
       "            }\n",
       "        });\n",
       "        require(['plotly'], function(Plotly) {\n",
       "            window._Plotly = Plotly;\n",
       "        });\n",
       "        }\n",
       "        </script>\n",
       "        "
      ]
     },
     "metadata": {},
     "output_type": "display_data"
    }
   ],
   "source": [
    "# Make Plotly work in Jupyter Notebook\n",
    "from plotly.offline import download_plotlyjs, init_notebook_mode, plot, iplot\n",
    "init_notebook_mode(connected=True)\n",
    "# Use Plotly locally\n",
    "cf.go_offline()"
   ]
  },
  {
   "cell_type": "markdown",
   "id": "56ef6e2f-87c3-4816-a31b-46c68713b01a",
   "metadata": {},
   "source": [
    "#### Files names\n",
    "coste_paciente, per revista.xlsx datos_analisis2 - english.xlsx"
   ]
  },
  {
   "cell_type": "code",
   "execution_count": 3,
   "id": "f86674b9-2fa9-4055-8260-9fa380c3b074",
   "metadata": {
    "tags": []
   },
   "outputs": [],
   "source": [
    "# path to the datasets folder with respect to notebook.\n",
    "path = \"../dataset/\" \n",
    "cost_path = path + \"coste_paciente, per revista.xlsx\" \n",
    "analysis_path = path + \"datos_analisis2 - english.xlsx\" "
   ]
  },
  {
   "cell_type": "markdown",
   "id": "cef58abc-abe6-403d-bff6-83b8583ddd0d",
   "metadata": {
    "tags": []
   },
   "source": [
    "## Cost Dataset"
   ]
  },
  {
   "cell_type": "code",
   "execution_count": 4,
   "id": "c2156902-558b-491b-a2f2-a5462f98efe6",
   "metadata": {
    "tags": []
   },
   "outputs": [
    {
     "data": {
      "text/html": [
       "<div>\n",
       "<style scoped>\n",
       "    .dataframe tbody tr th:only-of-type {\n",
       "        vertical-align: middle;\n",
       "    }\n",
       "\n",
       "    .dataframe tbody tr th {\n",
       "        vertical-align: top;\n",
       "    }\n",
       "\n",
       "    .dataframe thead th {\n",
       "        text-align: right;\n",
       "    }\n",
       "</style>\n",
       "<table border=\"1\" class=\"dataframe\">\n",
       "  <thead>\n",
       "    <tr style=\"text-align: right;\">\n",
       "      <th></th>\n",
       "      <th>ID CODE</th>\n",
       "      <th>Nurse costs</th>\n",
       "      <th>Dressing costs</th>\n",
       "      <th>Material costs</th>\n",
       "      <th>Secondary costs</th>\n",
       "      <th>Total costs</th>\n",
       "      <th>Dressing type</th>\n",
       "    </tr>\n",
       "  </thead>\n",
       "  <tbody>\n",
       "    <tr>\n",
       "      <th>0</th>\n",
       "      <td>10001</td>\n",
       "      <td>29.250</td>\n",
       "      <td>73.8</td>\n",
       "      <td>8.576</td>\n",
       "      <td>0.0</td>\n",
       "      <td>111.626</td>\n",
       "      <td>Hydrocolloid</td>\n",
       "    </tr>\n",
       "    <tr>\n",
       "      <th>1</th>\n",
       "      <td>30001</td>\n",
       "      <td>38.775</td>\n",
       "      <td>73.8</td>\n",
       "      <td>9.664</td>\n",
       "      <td>0.0</td>\n",
       "      <td>122.239</td>\n",
       "      <td>Hydrocolloid</td>\n",
       "    </tr>\n",
       "    <tr>\n",
       "      <th>2</th>\n",
       "      <td>30003</td>\n",
       "      <td>15.000</td>\n",
       "      <td>69.7</td>\n",
       "      <td>3.535</td>\n",
       "      <td>0.0</td>\n",
       "      <td>88.235</td>\n",
       "      <td>Hydrocolloid</td>\n",
       "    </tr>\n",
       "    <tr>\n",
       "      <th>3</th>\n",
       "      <td>30005</td>\n",
       "      <td>46.250</td>\n",
       "      <td>NaN</td>\n",
       "      <td>8.140</td>\n",
       "      <td>0.0</td>\n",
       "      <td>54.390</td>\n",
       "      <td>Hydrocolloid</td>\n",
       "    </tr>\n",
       "    <tr>\n",
       "      <th>4</th>\n",
       "      <td>30006</td>\n",
       "      <td>18.750</td>\n",
       "      <td>57.4</td>\n",
       "      <td>1.682</td>\n",
       "      <td>0.0</td>\n",
       "      <td>77.832</td>\n",
       "      <td>Hydrocolloid</td>\n",
       "    </tr>\n",
       "  </tbody>\n",
       "</table>\n",
       "</div>"
      ],
      "text/plain": [
       "   ID CODE  Nurse costs  Dressing costs  Material costs  Secondary costs  \\\n",
       "0    10001       29.250            73.8           8.576              0.0   \n",
       "1    30001       38.775            73.8           9.664              0.0   \n",
       "2    30003       15.000            69.7           3.535              0.0   \n",
       "3    30005       46.250             NaN           8.140              0.0   \n",
       "4    30006       18.750            57.4           1.682              0.0   \n",
       "\n",
       "   Total costs Dressing type  \n",
       "0      111.626  Hydrocolloid  \n",
       "1      122.239  Hydrocolloid  \n",
       "2       88.235  Hydrocolloid  \n",
       "3       54.390  Hydrocolloid  \n",
       "4       77.832  Hydrocolloid  "
      ]
     },
     "execution_count": 4,
     "metadata": {},
     "output_type": "execute_result"
    }
   ],
   "source": [
    "# read data from the excel file \n",
    "cost_df = pd.read_excel(cost_path)\n",
    "cost_df.head()"
   ]
  },
  {
   "cell_type": "code",
   "execution_count": 5,
   "id": "ca85e403-c8e4-4057-91ce-27cf9804728b",
   "metadata": {
    "tags": []
   },
   "outputs": [
    {
     "data": {
      "text/plain": [
       "ID CODE             0\n",
       "Nurse costs         0\n",
       "Dressing costs     12\n",
       "Material costs      0\n",
       "Secondary costs     0\n",
       "Total costs         0\n",
       "Dressing type       0\n",
       "dtype: int64"
      ]
     },
     "execution_count": 5,
     "metadata": {},
     "output_type": "execute_result"
    }
   ],
   "source": [
    "# checkout NA values \n",
    "cost_df.isnull().sum()  "
   ]
  },
  {
   "cell_type": "code",
   "execution_count": 6,
   "id": "2e3a46e5-3e27-4ca7-a88c-c56639b2ad95",
   "metadata": {
    "tags": []
   },
   "outputs": [
    {
     "data": {
      "text/plain": [
       "count    157.000000\n",
       "mean      59.128854\n",
       "std       32.224129\n",
       "min        4.100000\n",
       "25%       45.100000\n",
       "50%       59.520000\n",
       "75%       71.910000\n",
       "max      191.080000\n",
       "Name: Dressing costs, dtype: float64"
      ]
     },
     "execution_count": 6,
     "metadata": {},
     "output_type": "execute_result"
    }
   ],
   "source": [
    "#det the stats for the Dressing costs coloumn since it's the only coloumn with NA values\n",
    "cost_df['Dressing costs'].describe()"
   ]
  },
  {
   "cell_type": "code",
   "execution_count": 7,
   "id": "bb8c0991-f25a-4916-af42-1085f56d45e6",
   "metadata": {
    "tags": []
   },
   "outputs": [],
   "source": [
    "# Replace NA values with the mean of Dressing cost values.\n",
    "cost_df['Dressing costs'].fillna(cost_df['Dressing costs'].mean(), inplace=True) "
   ]
  },
  {
   "cell_type": "code",
   "execution_count": 8,
   "id": "c2531d89-7ee3-4d1f-a16c-19a7a7346862",
   "metadata": {
    "tags": []
   },
   "outputs": [],
   "source": [
    "# Add updated total cost columns to data frame after filling up the null values\n",
    "cost_df['updated total cost'] = cost_df['Nurse costs'] + cost_df['Dressing costs'] + cost_df['Material costs'] + cost_df['Secondary costs']"
   ]
  },
  {
   "cell_type": "code",
   "execution_count": 9,
   "id": "d2b7b62b-4d2a-4c82-90e4-89adead881fa",
   "metadata": {
    "tags": []
   },
   "outputs": [
    {
     "data": {
      "text/html": [
       "<div>\n",
       "<style scoped>\n",
       "    .dataframe tbody tr th:only-of-type {\n",
       "        vertical-align: middle;\n",
       "    }\n",
       "\n",
       "    .dataframe tbody tr th {\n",
       "        vertical-align: top;\n",
       "    }\n",
       "\n",
       "    .dataframe thead th {\n",
       "        text-align: right;\n",
       "    }\n",
       "</style>\n",
       "<table border=\"1\" class=\"dataframe\">\n",
       "  <thead>\n",
       "    <tr style=\"text-align: right;\">\n",
       "      <th></th>\n",
       "      <th>ID CODE</th>\n",
       "      <th>Nurse costs</th>\n",
       "      <th>Dressing costs</th>\n",
       "      <th>Material costs</th>\n",
       "      <th>Secondary costs</th>\n",
       "      <th>Total costs</th>\n",
       "      <th>Dressing type</th>\n",
       "      <th>updated total cost</th>\n",
       "    </tr>\n",
       "  </thead>\n",
       "  <tbody>\n",
       "    <tr>\n",
       "      <th>159</th>\n",
       "      <td>480007</td>\n",
       "      <td>23.750000</td>\n",
       "      <td>74.400000</td>\n",
       "      <td>14.40600</td>\n",
       "      <td>0.000</td>\n",
       "      <td>112.556000</td>\n",
       "      <td>Hydrocellular</td>\n",
       "      <td>112.556000</td>\n",
       "    </tr>\n",
       "    <tr>\n",
       "      <th>160</th>\n",
       "      <td>480008</td>\n",
       "      <td>22.250000</td>\n",
       "      <td>66.960000</td>\n",
       "      <td>10.46272</td>\n",
       "      <td>0.035</td>\n",
       "      <td>99.707720</td>\n",
       "      <td>Hydrocellular</td>\n",
       "      <td>99.707720</td>\n",
       "    </tr>\n",
       "    <tr>\n",
       "      <th>161</th>\n",
       "      <td>480011</td>\n",
       "      <td>24.266667</td>\n",
       "      <td>66.960000</td>\n",
       "      <td>7.88400</td>\n",
       "      <td>0.000</td>\n",
       "      <td>99.110667</td>\n",
       "      <td>Hydrocellular</td>\n",
       "      <td>99.110667</td>\n",
       "    </tr>\n",
       "    <tr>\n",
       "      <th>162</th>\n",
       "      <td>480012</td>\n",
       "      <td>18.750000</td>\n",
       "      <td>67.680000</td>\n",
       "      <td>4.63000</td>\n",
       "      <td>0.000</td>\n",
       "      <td>91.060000</td>\n",
       "      <td>Hydrocellular</td>\n",
       "      <td>91.060000</td>\n",
       "    </tr>\n",
       "    <tr>\n",
       "      <th>163</th>\n",
       "      <td>480014</td>\n",
       "      <td>31.250000</td>\n",
       "      <td>80.370000</td>\n",
       "      <td>9.81600</td>\n",
       "      <td>0.035</td>\n",
       "      <td>121.471000</td>\n",
       "      <td>Hydrocellular</td>\n",
       "      <td>121.471000</td>\n",
       "    </tr>\n",
       "    <tr>\n",
       "      <th>164</th>\n",
       "      <td>480016</td>\n",
       "      <td>12.500000</td>\n",
       "      <td>71.910000</td>\n",
       "      <td>6.75600</td>\n",
       "      <td>0.000</td>\n",
       "      <td>91.166000</td>\n",
       "      <td>Hydrocellular</td>\n",
       "      <td>91.166000</td>\n",
       "    </tr>\n",
       "    <tr>\n",
       "      <th>165</th>\n",
       "      <td>480018</td>\n",
       "      <td>27.500000</td>\n",
       "      <td>59.128854</td>\n",
       "      <td>8.99272</td>\n",
       "      <td>0.210</td>\n",
       "      <td>36.702720</td>\n",
       "      <td>Hydrocellular</td>\n",
       "      <td>95.831574</td>\n",
       "    </tr>\n",
       "    <tr>\n",
       "      <th>166</th>\n",
       "      <td>500001</td>\n",
       "      <td>7.500000</td>\n",
       "      <td>59.128854</td>\n",
       "      <td>1.90800</td>\n",
       "      <td>0.000</td>\n",
       "      <td>9.408000</td>\n",
       "      <td>Hydrocellular</td>\n",
       "      <td>68.536854</td>\n",
       "    </tr>\n",
       "    <tr>\n",
       "      <th>167</th>\n",
       "      <td>500002</td>\n",
       "      <td>17.500000</td>\n",
       "      <td>59.128854</td>\n",
       "      <td>4.44400</td>\n",
       "      <td>33.040</td>\n",
       "      <td>54.984000</td>\n",
       "      <td>Hydrocellular</td>\n",
       "      <td>114.112854</td>\n",
       "    </tr>\n",
       "    <tr>\n",
       "      <th>168</th>\n",
       "      <td>570002</td>\n",
       "      <td>8.000000</td>\n",
       "      <td>63.240000</td>\n",
       "      <td>3.43400</td>\n",
       "      <td>0.000</td>\n",
       "      <td>74.674000</td>\n",
       "      <td>Hydrocellular</td>\n",
       "      <td>74.674000</td>\n",
       "    </tr>\n",
       "  </tbody>\n",
       "</table>\n",
       "</div>"
      ],
      "text/plain": [
       "     ID CODE  Nurse costs  Dressing costs  Material costs  Secondary costs  \\\n",
       "159   480007    23.750000       74.400000        14.40600            0.000   \n",
       "160   480008    22.250000       66.960000        10.46272            0.035   \n",
       "161   480011    24.266667       66.960000         7.88400            0.000   \n",
       "162   480012    18.750000       67.680000         4.63000            0.000   \n",
       "163   480014    31.250000       80.370000         9.81600            0.035   \n",
       "164   480016    12.500000       71.910000         6.75600            0.000   \n",
       "165   480018    27.500000       59.128854         8.99272            0.210   \n",
       "166   500001     7.500000       59.128854         1.90800            0.000   \n",
       "167   500002    17.500000       59.128854         4.44400           33.040   \n",
       "168   570002     8.000000       63.240000         3.43400            0.000   \n",
       "\n",
       "     Total costs  Dressing type  updated total cost  \n",
       "159   112.556000  Hydrocellular          112.556000  \n",
       "160    99.707720  Hydrocellular           99.707720  \n",
       "161    99.110667  Hydrocellular           99.110667  \n",
       "162    91.060000  Hydrocellular           91.060000  \n",
       "163   121.471000  Hydrocellular          121.471000  \n",
       "164    91.166000  Hydrocellular           91.166000  \n",
       "165    36.702720  Hydrocellular           95.831574  \n",
       "166     9.408000  Hydrocellular           68.536854  \n",
       "167    54.984000  Hydrocellular          114.112854  \n",
       "168    74.674000  Hydrocellular           74.674000  "
      ]
     },
     "execution_count": 9,
     "metadata": {},
     "output_type": "execute_result"
    }
   ],
   "source": [
    "# Sanity check after adding new column\n",
    "cost_df.tail(10)"
   ]
  },
  {
   "cell_type": "code",
   "execution_count": 10,
   "id": "ddc0fa2d-4831-4b34-a5ee-3f30276fb388",
   "metadata": {
    "tags": []
   },
   "outputs": [
    {
     "data": {
      "application/vnd.plotly.v1+json": {
       "config": {
        "plotlyServerURL": "https://plot.ly"
       },
       "data": [
        {
         "domain": {
          "x": [
           0,
           1
          ],
          "y": [
           0,
           1
          ]
         },
         "hovertemplate": "Dressing type=%{label}<br>updated total cost=%{value}<extra></extra>",
         "labels": [
          "Hydrocolloid",
          "Hydrocolloid",
          "Hydrocolloid",
          "Hydrocolloid",
          "Hydrocolloid",
          "Hydrocolloid",
          "Hydrocolloid",
          "Hydrocolloid",
          "Hydrocolloid",
          "Hydrocolloid",
          "Hydrocolloid",
          "Hydrocolloid",
          "Hydrocolloid",
          "Hydrocolloid",
          "Hydrocolloid",
          "Hydrocolloid",
          "Hydrocolloid",
          "Hydrocolloid",
          "Hydrocolloid",
          "Hydrocolloid",
          "Hydrocolloid",
          "Hydrocolloid",
          "Hydrocolloid",
          "Hydrocolloid",
          "Hydrocolloid",
          "Hydrocolloid",
          "Hydrocolloid",
          "Hydrocolloid",
          "Hydrocolloid",
          "Hydrocolloid",
          "Hydrocolloid",
          "Hydrocolloid",
          "Hydrocolloid",
          "Hydrocolloid",
          "Hydrocolloid",
          "Hydrocolloid",
          "Hydrocolloid",
          "Hydrocolloid",
          "Hydrocolloid",
          "Hydrocolloid",
          "Hydrocolloid",
          "Hydrocolloid",
          "Hydrocolloid",
          "Hydrocolloid",
          "Hydrocolloid",
          "Hydrocolloid",
          "Hydrocolloid",
          "Hydrocolloid",
          "Hydrocolloid",
          "Hydrocolloid",
          "Hydrocolloid",
          "Hydrocolloid",
          "Hydrocolloid",
          "Hydrocolloid",
          "Hydrocolloid",
          "Hydrocolloid",
          "Hydrocolloid",
          "Hydrocolloid",
          "Hydrocolloid",
          "Hydrocolloid",
          "Hydrocolloid",
          "Hydrocolloid",
          "Hydrocolloid",
          "Hydrocolloid",
          "Hydrocolloid",
          "Hydrocolloid",
          "Hydrocolloid",
          "Hydrocolloid",
          "Hydrocolloid",
          "Hydrocolloid",
          "Hydrocolloid",
          "Hydrocolloid",
          "Hydrocolloid",
          "Hydrocolloid",
          "Hydrocolloid",
          "Hydrocolloid",
          "Hydrocolloid",
          "Hydrocolloid",
          "Hydrocolloid",
          "Hydrocolloid",
          "Hydrocolloid",
          "Hydrocolloid",
          "Hydrocolloid",
          "Hydrocolloid",
          "Hydrocolloid",
          "Hydrocellular",
          "Hydrocellular",
          "Hydrocellular",
          "Hydrocellular",
          "Hydrocellular",
          "Hydrocellular",
          "Hydrocellular",
          "Hydrocellular",
          "Hydrocellular",
          "Hydrocellular",
          "Hydrocellular",
          "Hydrocellular",
          "Hydrocellular",
          "Hydrocellular",
          "Hydrocellular",
          "Hydrocellular",
          "Hydrocellular",
          "Hydrocellular",
          "Hydrocellular",
          "Hydrocellular",
          "Hydrocellular",
          "Hydrocellular",
          "Hydrocellular",
          "Hydrocellular",
          "Hydrocellular",
          "Hydrocellular",
          "Hydrocellular",
          "Hydrocellular",
          "Hydrocellular",
          "Hydrocellular",
          "Hydrocellular",
          "Hydrocellular",
          "Hydrocellular",
          "Hydrocellular",
          "Hydrocellular",
          "Hydrocellular",
          "Hydrocellular",
          "Hydrocellular",
          "Hydrocellular",
          "Hydrocellular",
          "Hydrocellular",
          "Hydrocellular",
          "Hydrocellular",
          "Hydrocellular",
          "Hydrocellular",
          "Hydrocellular",
          "Hydrocellular",
          "Hydrocellular",
          "Hydrocellular",
          "Hydrocellular",
          "Hydrocellular",
          "Hydrocellular",
          "Hydrocellular",
          "Hydrocellular",
          "Hydrocellular",
          "Hydrocellular",
          "Hydrocellular",
          "Hydrocellular",
          "Hydrocellular",
          "Hydrocellular",
          "Hydrocellular",
          "Hydrocellular",
          "Hydrocellular",
          "Hydrocellular",
          "Hydrocellular",
          "Hydrocellular",
          "Hydrocellular",
          "Hydrocellular",
          "Hydrocellular",
          "Hydrocellular",
          "Hydrocellular",
          "Hydrocellular",
          "Hydrocellular",
          "Hydrocellular",
          "Hydrocellular",
          "Hydrocellular",
          "Hydrocellular",
          "Hydrocellular",
          "Hydrocellular",
          "Hydrocellular",
          "Hydrocellular",
          "Hydrocellular",
          "Hydrocellular",
          "Hydrocellular"
         ],
         "legendgroup": "",
         "name": "",
         "showlegend": true,
         "type": "pie",
         "values": [
          111.626,
          122.23899999999999,
          88.2349999999999,
          113.51885350318467,
          77.8319999999999,
          81.96199999999989,
          80.8389999999999,
          98.44199999999991,
          66.8579999999999,
          39.178000000000004,
          18.48,
          126.109,
          189.65572,
          15.446999999999997,
          55.781999999999904,
          32.016,
          73.2529999999999,
          361.60115999999994,
          97.2979999999999,
          93.428,
          85.1999999999999,
          137.08899999999997,
          15.884,
          60.6339999999999,
          73.70999999999988,
          78.1079999999999,
          118.88199999999999,
          85.1769999999999,
          58.5299999999999,
          103.2559999999999,
          87.9778333333333,
          96.82799999999989,
          124.69708,
          100.94112666666649,
          72.38055333333321,
          60.7979999999999,
          74.85600000000001,
          234.304,
          120.91085350318457,
          95.91600000000001,
          165.62472,
          89.06599999999989,
          106.3733599999999,
          13.386,
          148.09644,
          66.4199999999999,
          68.73871999999989,
          80.903,
          130.05616,
          117.8541599999999,
          134.51751999999993,
          117.71093350318468,
          34.678,
          18.5,
          109.5345,
          115.4019999999999,
          95.3833333333333,
          163.54299999999992,
          186.077,
          73.11485350318468,
          233.087999999999,
          192.62800000000001,
          146.77999999999992,
          60.915999999999904,
          45.152,
          73.1719999999999,
          62.97999999999979,
          30.029999999999998,
          64.7537199999999,
          72.64299999999989,
          101.2268333333332,
          112.39657999999991,
          19.185,
          77.54999999999991,
          76.89268683651801,
          211.98093999999998,
          68.2399999999999,
          115.55571999999991,
          111.07399999999998,
          141.35772,
          91.68999999999988,
          96.9339999999999,
          56.6229999999999,
          95.32999999999998,
          28.999333333333325,
          51.244,
          132.75,
          95.298,
          80.37485350318467,
          94.97800000000001,
          105.36485350318468,
          89.604,
          191.70072,
          118.69458,
          71.181,
          101.86872,
          77.53,
          114.754,
          50.36999999999999,
          93.244,
          114.054,
          60.020720000000004,
          83.30672,
          77.741,
          204.78999999999994,
          19.016,
          237.02200000000002,
          122.55272,
          65.002,
          91.856,
          100.6035,
          80.546,
          97.74600000000001,
          93.42750000000001,
          60.394,
          82.83300000000001,
          107.276,
          81.46200000000002,
          81.98800000000001,
          43.36936,
          68.396,
          94.846,
          55.25872,
          83.36716,
          88.69,
          56.44199999999999,
          70.04200000000002,
          76.1476666666666,
          129.223,
          54.898,
          122.99400000000001,
          131.298,
          97.446,
          196.934,
          89.163,
          99.58099999999999,
          130.339,
          53.516999999999996,
          39.20599999999999,
          140.52783333333332,
          92.68400000000001,
          72.50485350318468,
          60.828,
          72.18199999999999,
          104.428,
          144.0349999999999,
          157.85472,
          80.97399999999999,
          52.304,
          34.608720000000005,
          45.28199999999999,
          109.37,
          84.97800000000001,
          82.793,
          55.06936,
          46.56983333333333,
          102.43593350318466,
          57.92736,
          53.268,
          112.55600000000001,
          99.70772,
          99.1106666666666,
          91.06,
          121.471,
          91.166,
          95.83157350318467,
          68.53685350318467,
          114.11285350318468,
          74.674
         ]
        }
       ],
       "layout": {
        "autosize": true,
        "legend": {
         "tracegroupgap": 0
        },
        "template": {
         "data": {
          "bar": [
           {
            "error_x": {
             "color": "#2a3f5f"
            },
            "error_y": {
             "color": "#2a3f5f"
            },
            "marker": {
             "line": {
              "color": "#E5ECF6",
              "width": 0.5
             },
             "pattern": {
              "fillmode": "overlay",
              "size": 10,
              "solidity": 0.2
             }
            },
            "type": "bar"
           }
          ],
          "barpolar": [
           {
            "marker": {
             "line": {
              "color": "#E5ECF6",
              "width": 0.5
             },
             "pattern": {
              "fillmode": "overlay",
              "size": 10,
              "solidity": 0.2
             }
            },
            "type": "barpolar"
           }
          ],
          "carpet": [
           {
            "aaxis": {
             "endlinecolor": "#2a3f5f",
             "gridcolor": "white",
             "linecolor": "white",
             "minorgridcolor": "white",
             "startlinecolor": "#2a3f5f"
            },
            "baxis": {
             "endlinecolor": "#2a3f5f",
             "gridcolor": "white",
             "linecolor": "white",
             "minorgridcolor": "white",
             "startlinecolor": "#2a3f5f"
            },
            "type": "carpet"
           }
          ],
          "choropleth": [
           {
            "colorbar": {
             "outlinewidth": 0,
             "ticks": ""
            },
            "type": "choropleth"
           }
          ],
          "contour": [
           {
            "colorbar": {
             "outlinewidth": 0,
             "ticks": ""
            },
            "colorscale": [
             [
              0,
              "#0d0887"
             ],
             [
              0.1111111111111111,
              "#46039f"
             ],
             [
              0.2222222222222222,
              "#7201a8"
             ],
             [
              0.3333333333333333,
              "#9c179e"
             ],
             [
              0.4444444444444444,
              "#bd3786"
             ],
             [
              0.5555555555555556,
              "#d8576b"
             ],
             [
              0.6666666666666666,
              "#ed7953"
             ],
             [
              0.7777777777777778,
              "#fb9f3a"
             ],
             [
              0.8888888888888888,
              "#fdca26"
             ],
             [
              1,
              "#f0f921"
             ]
            ],
            "type": "contour"
           }
          ],
          "contourcarpet": [
           {
            "colorbar": {
             "outlinewidth": 0,
             "ticks": ""
            },
            "type": "contourcarpet"
           }
          ],
          "heatmap": [
           {
            "colorbar": {
             "outlinewidth": 0,
             "ticks": ""
            },
            "colorscale": [
             [
              0,
              "#0d0887"
             ],
             [
              0.1111111111111111,
              "#46039f"
             ],
             [
              0.2222222222222222,
              "#7201a8"
             ],
             [
              0.3333333333333333,
              "#9c179e"
             ],
             [
              0.4444444444444444,
              "#bd3786"
             ],
             [
              0.5555555555555556,
              "#d8576b"
             ],
             [
              0.6666666666666666,
              "#ed7953"
             ],
             [
              0.7777777777777778,
              "#fb9f3a"
             ],
             [
              0.8888888888888888,
              "#fdca26"
             ],
             [
              1,
              "#f0f921"
             ]
            ],
            "type": "heatmap"
           }
          ],
          "heatmapgl": [
           {
            "colorbar": {
             "outlinewidth": 0,
             "ticks": ""
            },
            "colorscale": [
             [
              0,
              "#0d0887"
             ],
             [
              0.1111111111111111,
              "#46039f"
             ],
             [
              0.2222222222222222,
              "#7201a8"
             ],
             [
              0.3333333333333333,
              "#9c179e"
             ],
             [
              0.4444444444444444,
              "#bd3786"
             ],
             [
              0.5555555555555556,
              "#d8576b"
             ],
             [
              0.6666666666666666,
              "#ed7953"
             ],
             [
              0.7777777777777778,
              "#fb9f3a"
             ],
             [
              0.8888888888888888,
              "#fdca26"
             ],
             [
              1,
              "#f0f921"
             ]
            ],
            "type": "heatmapgl"
           }
          ],
          "histogram": [
           {
            "marker": {
             "pattern": {
              "fillmode": "overlay",
              "size": 10,
              "solidity": 0.2
             }
            },
            "type": "histogram"
           }
          ],
          "histogram2d": [
           {
            "colorbar": {
             "outlinewidth": 0,
             "ticks": ""
            },
            "colorscale": [
             [
              0,
              "#0d0887"
             ],
             [
              0.1111111111111111,
              "#46039f"
             ],
             [
              0.2222222222222222,
              "#7201a8"
             ],
             [
              0.3333333333333333,
              "#9c179e"
             ],
             [
              0.4444444444444444,
              "#bd3786"
             ],
             [
              0.5555555555555556,
              "#d8576b"
             ],
             [
              0.6666666666666666,
              "#ed7953"
             ],
             [
              0.7777777777777778,
              "#fb9f3a"
             ],
             [
              0.8888888888888888,
              "#fdca26"
             ],
             [
              1,
              "#f0f921"
             ]
            ],
            "type": "histogram2d"
           }
          ],
          "histogram2dcontour": [
           {
            "colorbar": {
             "outlinewidth": 0,
             "ticks": ""
            },
            "colorscale": [
             [
              0,
              "#0d0887"
             ],
             [
              0.1111111111111111,
              "#46039f"
             ],
             [
              0.2222222222222222,
              "#7201a8"
             ],
             [
              0.3333333333333333,
              "#9c179e"
             ],
             [
              0.4444444444444444,
              "#bd3786"
             ],
             [
              0.5555555555555556,
              "#d8576b"
             ],
             [
              0.6666666666666666,
              "#ed7953"
             ],
             [
              0.7777777777777778,
              "#fb9f3a"
             ],
             [
              0.8888888888888888,
              "#fdca26"
             ],
             [
              1,
              "#f0f921"
             ]
            ],
            "type": "histogram2dcontour"
           }
          ],
          "mesh3d": [
           {
            "colorbar": {
             "outlinewidth": 0,
             "ticks": ""
            },
            "type": "mesh3d"
           }
          ],
          "parcoords": [
           {
            "line": {
             "colorbar": {
              "outlinewidth": 0,
              "ticks": ""
             }
            },
            "type": "parcoords"
           }
          ],
          "pie": [
           {
            "automargin": true,
            "type": "pie"
           }
          ],
          "scatter": [
           {
            "fillpattern": {
             "fillmode": "overlay",
             "size": 10,
             "solidity": 0.2
            },
            "type": "scatter"
           }
          ],
          "scatter3d": [
           {
            "line": {
             "colorbar": {
              "outlinewidth": 0,
              "ticks": ""
             }
            },
            "marker": {
             "colorbar": {
              "outlinewidth": 0,
              "ticks": ""
             }
            },
            "type": "scatter3d"
           }
          ],
          "scattercarpet": [
           {
            "marker": {
             "colorbar": {
              "outlinewidth": 0,
              "ticks": ""
             }
            },
            "type": "scattercarpet"
           }
          ],
          "scattergeo": [
           {
            "marker": {
             "colorbar": {
              "outlinewidth": 0,
              "ticks": ""
             }
            },
            "type": "scattergeo"
           }
          ],
          "scattergl": [
           {
            "marker": {
             "colorbar": {
              "outlinewidth": 0,
              "ticks": ""
             }
            },
            "type": "scattergl"
           }
          ],
          "scattermapbox": [
           {
            "marker": {
             "colorbar": {
              "outlinewidth": 0,
              "ticks": ""
             }
            },
            "type": "scattermapbox"
           }
          ],
          "scatterpolar": [
           {
            "marker": {
             "colorbar": {
              "outlinewidth": 0,
              "ticks": ""
             }
            },
            "type": "scatterpolar"
           }
          ],
          "scatterpolargl": [
           {
            "marker": {
             "colorbar": {
              "outlinewidth": 0,
              "ticks": ""
             }
            },
            "type": "scatterpolargl"
           }
          ],
          "scatterternary": [
           {
            "marker": {
             "colorbar": {
              "outlinewidth": 0,
              "ticks": ""
             }
            },
            "type": "scatterternary"
           }
          ],
          "surface": [
           {
            "colorbar": {
             "outlinewidth": 0,
             "ticks": ""
            },
            "colorscale": [
             [
              0,
              "#0d0887"
             ],
             [
              0.1111111111111111,
              "#46039f"
             ],
             [
              0.2222222222222222,
              "#7201a8"
             ],
             [
              0.3333333333333333,
              "#9c179e"
             ],
             [
              0.4444444444444444,
              "#bd3786"
             ],
             [
              0.5555555555555556,
              "#d8576b"
             ],
             [
              0.6666666666666666,
              "#ed7953"
             ],
             [
              0.7777777777777778,
              "#fb9f3a"
             ],
             [
              0.8888888888888888,
              "#fdca26"
             ],
             [
              1,
              "#f0f921"
             ]
            ],
            "type": "surface"
           }
          ],
          "table": [
           {
            "cells": {
             "fill": {
              "color": "#EBF0F8"
             },
             "line": {
              "color": "white"
             }
            },
            "header": {
             "fill": {
              "color": "#C8D4E3"
             },
             "line": {
              "color": "white"
             }
            },
            "type": "table"
           }
          ]
         },
         "layout": {
          "annotationdefaults": {
           "arrowcolor": "#2a3f5f",
           "arrowhead": 0,
           "arrowwidth": 1
          },
          "autotypenumbers": "strict",
          "coloraxis": {
           "colorbar": {
            "outlinewidth": 0,
            "ticks": ""
           }
          },
          "colorscale": {
           "diverging": [
            [
             0,
             "#8e0152"
            ],
            [
             0.1,
             "#c51b7d"
            ],
            [
             0.2,
             "#de77ae"
            ],
            [
             0.3,
             "#f1b6da"
            ],
            [
             0.4,
             "#fde0ef"
            ],
            [
             0.5,
             "#f7f7f7"
            ],
            [
             0.6,
             "#e6f5d0"
            ],
            [
             0.7,
             "#b8e186"
            ],
            [
             0.8,
             "#7fbc41"
            ],
            [
             0.9,
             "#4d9221"
            ],
            [
             1,
             "#276419"
            ]
           ],
           "sequential": [
            [
             0,
             "#0d0887"
            ],
            [
             0.1111111111111111,
             "#46039f"
            ],
            [
             0.2222222222222222,
             "#7201a8"
            ],
            [
             0.3333333333333333,
             "#9c179e"
            ],
            [
             0.4444444444444444,
             "#bd3786"
            ],
            [
             0.5555555555555556,
             "#d8576b"
            ],
            [
             0.6666666666666666,
             "#ed7953"
            ],
            [
             0.7777777777777778,
             "#fb9f3a"
            ],
            [
             0.8888888888888888,
             "#fdca26"
            ],
            [
             1,
             "#f0f921"
            ]
           ],
           "sequentialminus": [
            [
             0,
             "#0d0887"
            ],
            [
             0.1111111111111111,
             "#46039f"
            ],
            [
             0.2222222222222222,
             "#7201a8"
            ],
            [
             0.3333333333333333,
             "#9c179e"
            ],
            [
             0.4444444444444444,
             "#bd3786"
            ],
            [
             0.5555555555555556,
             "#d8576b"
            ],
            [
             0.6666666666666666,
             "#ed7953"
            ],
            [
             0.7777777777777778,
             "#fb9f3a"
            ],
            [
             0.8888888888888888,
             "#fdca26"
            ],
            [
             1,
             "#f0f921"
            ]
           ]
          },
          "colorway": [
           "#636efa",
           "#EF553B",
           "#00cc96",
           "#ab63fa",
           "#FFA15A",
           "#19d3f3",
           "#FF6692",
           "#B6E880",
           "#FF97FF",
           "#FECB52"
          ],
          "font": {
           "color": "#2a3f5f"
          },
          "geo": {
           "bgcolor": "white",
           "lakecolor": "white",
           "landcolor": "#E5ECF6",
           "showlakes": true,
           "showland": true,
           "subunitcolor": "white"
          },
          "hoverlabel": {
           "align": "left"
          },
          "hovermode": "closest",
          "mapbox": {
           "style": "light"
          },
          "paper_bgcolor": "white",
          "plot_bgcolor": "#E5ECF6",
          "polar": {
           "angularaxis": {
            "gridcolor": "white",
            "linecolor": "white",
            "ticks": ""
           },
           "bgcolor": "#E5ECF6",
           "radialaxis": {
            "gridcolor": "white",
            "linecolor": "white",
            "ticks": ""
           }
          },
          "scene": {
           "xaxis": {
            "backgroundcolor": "#E5ECF6",
            "gridcolor": "white",
            "gridwidth": 2,
            "linecolor": "white",
            "showbackground": true,
            "ticks": "",
            "zerolinecolor": "white"
           },
           "yaxis": {
            "backgroundcolor": "#E5ECF6",
            "gridcolor": "white",
            "gridwidth": 2,
            "linecolor": "white",
            "showbackground": true,
            "ticks": "",
            "zerolinecolor": "white"
           },
           "zaxis": {
            "backgroundcolor": "#E5ECF6",
            "gridcolor": "white",
            "gridwidth": 2,
            "linecolor": "white",
            "showbackground": true,
            "ticks": "",
            "zerolinecolor": "white"
           }
          },
          "shapedefaults": {
           "line": {
            "color": "#2a3f5f"
           }
          },
          "ternary": {
           "aaxis": {
            "gridcolor": "white",
            "linecolor": "white",
            "ticks": ""
           },
           "baxis": {
            "gridcolor": "white",
            "linecolor": "white",
            "ticks": ""
           },
           "bgcolor": "#E5ECF6",
           "caxis": {
            "gridcolor": "white",
            "linecolor": "white",
            "ticks": ""
           }
          },
          "title": {
           "x": 0.05
          },
          "xaxis": {
           "automargin": true,
           "gridcolor": "white",
           "linecolor": "white",
           "ticks": "",
           "title": {
            "standoff": 15
           },
           "zerolinecolor": "white",
           "zerolinewidth": 2
          },
          "yaxis": {
           "automargin": true,
           "gridcolor": "white",
           "linecolor": "white",
           "ticks": "",
           "title": {
            "standoff": 15
           },
           "zerolinecolor": "white",
           "zerolinewidth": 2
          }
         }
        },
        "title": {
         "text": "Hydrocellular vs Hydrocolloid Total Cost"
        }
       }
      },
      "image/png": "[encoded data removed]",
      "text/html": [
       "<div>                            <div id=\"271bae3e-9dd7-4957-94bc-9d8833920669\" class=\"plotly-graph-div\" style=\"height:525px; width:100%;\"></div>            <script type=\"text/javascript\">                require([\"plotly\"], function(Plotly) {                    window.PLOTLYENV=window.PLOTLYENV || {};                                    if (document.getElementById(\"271bae3e-9dd7-4957-94bc-9d8833920669\")) {                    Plotly.newPlot(                        \"271bae3e-9dd7-4957-94bc-9d8833920669\",                        [{\"domain\":{\"x\":[0.0,1.0],\"y\":[0.0,1.0]},\"hovertemplate\":\"Dressing type=%{label}<br>updated total cost=%{value}<extra></extra>\",\"labels\":[\"Hydrocolloid\",\"Hydrocolloid\",\"Hydrocolloid\",\"Hydrocolloid\",\"Hydrocolloid\",\"Hydrocolloid\",\"Hydrocolloid\",\"Hydrocolloid\",\"Hydrocolloid\",\"Hydrocolloid\",\"Hydrocolloid\",\"Hydrocolloid\",\"Hydrocolloid\",\"Hydrocolloid\",\"Hydrocolloid\",\"Hydrocolloid\",\"Hydrocolloid\",\"Hydrocolloid\",\"Hydrocolloid\",\"Hydrocolloid\",\"Hydrocolloid\",\"Hydrocolloid\",\"Hydrocolloid\",\"Hydrocolloid\",\"Hydrocolloid\",\"Hydrocolloid\",\"Hydrocolloid\",\"Hydrocolloid\",\"Hydrocolloid\",\"Hydrocolloid\",\"Hydrocolloid\",\"Hydrocolloid\",\"Hydrocolloid\",\"Hydrocolloid\",\"Hydrocolloid\",\"Hydrocolloid\",\"Hydrocolloid\",\"Hydrocolloid\",\"Hydrocolloid\",\"Hydrocolloid\",\"Hydrocolloid\",\"Hydrocolloid\",\"Hydrocolloid\",\"Hydrocolloid\",\"Hydrocolloid\",\"Hydrocolloid\",\"Hydrocolloid\",\"Hydrocolloid\",\"Hydrocolloid\",\"Hydrocolloid\",\"Hydrocolloid\",\"Hydrocolloid\",\"Hydrocolloid\",\"Hydrocolloid\",\"Hydrocolloid\",\"Hydrocolloid\",\"Hydrocolloid\",\"Hydrocolloid\",\"Hydrocolloid\",\"Hydrocolloid\",\"Hydrocolloid\",\"Hydrocolloid\",\"Hydrocolloid\",\"Hydrocolloid\",\"Hydrocolloid\",\"Hydrocolloid\",\"Hydrocolloid\",\"Hydrocolloid\",\"Hydrocolloid\",\"Hydrocolloid\",\"Hydrocolloid\",\"Hydrocolloid\",\"Hydrocolloid\",\"Hydrocolloid\",\"Hydrocolloid\",\"Hydrocolloid\",\"Hydrocolloid\",\"Hydrocolloid\",\"Hydrocolloid\",\"Hydrocolloid\",\"Hydrocolloid\",\"Hydrocolloid\",\"Hydrocolloid\",\"Hydrocolloid\",\"Hydrocolloid\",\"Hydrocellular\",\"Hydrocellular\",\"Hydrocellular\",\"Hydrocellular\",\"Hydrocellular\",\"Hydrocellular\",\"Hydrocellular\",\"Hydrocellular\",\"Hydrocellular\",\"Hydrocellular\",\"Hydrocellular\",\"Hydrocellular\",\"Hydrocellular\",\"Hydrocellular\",\"Hydrocellular\",\"Hydrocellular\",\"Hydrocellular\",\"Hydrocellular\",\"Hydrocellular\",\"Hydrocellular\",\"Hydrocellular\",\"Hydrocellular\",\"Hydrocellular\",\"Hydrocellular\",\"Hydrocellular\",\"Hydrocellular\",\"Hydrocellular\",\"Hydrocellular\",\"Hydrocellular\",\"Hydrocellular\",\"Hydrocellular\",\"Hydrocellular\",\"Hydrocellular\",\"Hydrocellular\",\"Hydrocellular\",\"Hydrocellular\",\"Hydrocellular\",\"Hydrocellular\",\"Hydrocellular\",\"Hydrocellular\",\"Hydrocellular\",\"Hydrocellular\",\"Hydrocellular\",\"Hydrocellular\",\"Hydrocellular\",\"Hydrocellular\",\"Hydrocellular\",\"Hydrocellular\",\"Hydrocellular\",\"Hydrocellular\",\"Hydrocellular\",\"Hydrocellular\",\"Hydrocellular\",\"Hydrocellular\",\"Hydrocellular\",\"Hydrocellular\",\"Hydrocellular\",\"Hydrocellular\",\"Hydrocellular\",\"Hydrocellular\",\"Hydrocellular\",\"Hydrocellular\",\"Hydrocellular\",\"Hydrocellular\",\"Hydrocellular\",\"Hydrocellular\",\"Hydrocellular\",\"Hydrocellular\",\"Hydrocellular\",\"Hydrocellular\",\"Hydrocellular\",\"Hydrocellular\",\"Hydrocellular\",\"Hydrocellular\",\"Hydrocellular\",\"Hydrocellular\",\"Hydrocellular\",\"Hydrocellular\",\"Hydrocellular\",\"Hydrocellular\",\"Hydrocellular\",\"Hydrocellular\",\"Hydrocellular\",\"Hydrocellular\"],\"legendgroup\":\"\",\"name\":\"\",\"showlegend\":true,\"values\":[111.626,122.23899999999999,88.2349999999999,113.51885350318467,77.8319999999999,81.96199999999989,80.8389999999999,98.44199999999991,66.8579999999999,39.178000000000004,18.48,126.109,189.65572,15.446999999999997,55.781999999999904,32.016,73.2529999999999,361.60115999999994,97.2979999999999,93.428,85.1999999999999,137.08899999999997,15.884,60.6339999999999,73.70999999999988,78.1079999999999,118.88199999999999,85.1769999999999,58.5299999999999,103.2559999999999,87.9778333333333,96.82799999999989,124.69708,100.94112666666649,72.38055333333321,60.7979999999999,74.85600000000001,234.304,120.91085350318457,95.91600000000001,165.62472,89.06599999999989,106.3733599999999,13.386,148.09644,66.4199999999999,68.73871999999989,80.903,130.05616,117.8541599999999,134.51751999999993,117.71093350318468,34.678,18.5,109.5345,115.4019999999999,95.3833333333333,163.54299999999992,186.077,73.11485350318468,233.087999999999,192.62800000000001,146.77999999999992,60.915999999999904,45.152,73.1719999999999,62.97999999999979,30.029999999999998,64.7537199999999,72.64299999999989,101.2268333333332,112.39657999999991,19.185,77.54999999999991,76.89268683651801,211.98093999999998,68.2399999999999,115.55571999999991,111.07399999999998,141.35772,91.68999999999988,96.9339999999999,56.6229999999999,95.32999999999998,28.999333333333325,51.244,132.75,95.298,80.37485350318467,94.97800000000001,105.36485350318468,89.604,191.70072,118.69458,71.181,101.86872,77.53,114.754,50.36999999999999,93.244,114.054,60.020720000000004,83.30672,77.741,204.78999999999994,19.016,237.02200000000002,122.55272,65.002,91.856,100.6035,80.546,97.74600000000001,93.42750000000001,60.394,82.83300000000001,107.276,81.46200000000002,81.98800000000001,43.36936,68.396,94.846,55.25872,83.36716,88.69,56.44199999999999,70.04200000000002,76.1476666666666,129.223,54.898,122.99400000000001,131.298,97.446,196.934,89.163,99.58099999999999,130.339,53.516999999999996,39.20599999999999,140.52783333333332,92.68400000000001,72.50485350318468,60.828,72.18199999999999,104.428,144.0349999999999,157.85472,80.97399999999999,52.304,34.608720000000005,45.28199999999999,109.37,84.97800000000001,82.793,55.06936,46.56983333333333,102.43593350318466,57.92736,53.268,112.55600000000001,99.70772,99.1106666666666,91.06,121.471,91.166,95.83157350318467,68.53685350318467,114.11285350318468,74.674],\"type\":\"pie\"}],                        {\"template\":{\"data\":{\"histogram2dcontour\":[{\"type\":\"histogram2dcontour\",\"colorbar\":{\"outlinewidth\":0,\"ticks\":\"\"},\"colorscale\":[[0.0,\"#0d0887\"],[0.1111111111111111,\"#46039f\"],[0.2222222222222222,\"#7201a8\"],[0.3333333333333333,\"#9c179e\"],[0.4444444444444444,\"#bd3786\"],[0.5555555555555556,\"#d8576b\"],[0.6666666666666666,\"#ed7953\"],[0.7777777777777778,\"#fb9f3a\"],[0.8888888888888888,\"#fdca26\"],[1.0,\"#f0f921\"]]}],\"choropleth\":[{\"type\":\"choropleth\",\"colorbar\":{\"outlinewidth\":0,\"ticks\":\"\"}}],\"histogram2d\":[{\"type\":\"histogram2d\",\"colorbar\":{\"outlinewidth\":0,\"ticks\":\"\"},\"colorscale\":[[0.0,\"#0d0887\"],[0.1111111111111111,\"#46039f\"],[0.2222222222222222,\"#7201a8\"],[0.3333333333333333,\"#9c179e\"],[0.4444444444444444,\"#bd3786\"],[0.5555555555555556,\"#d8576b\"],[0.6666666666666666,\"#ed7953\"],[0.7777777777777778,\"#fb9f3a\"],[0.8888888888888888,\"#fdca26\"],[1.0,\"#f0f921\"]]}],\"heatmap\":[{\"type\":\"heatmap\",\"colorbar\":{\"outlinewidth\":0,\"ticks\":\"\"},\"colorscale\":[[0.0,\"#0d0887\"],[0.1111111111111111,\"#46039f\"],[0.2222222222222222,\"#7201a8\"],[0.3333333333333333,\"#9c179e\"],[0.4444444444444444,\"#bd3786\"],[0.5555555555555556,\"#d8576b\"],[0.6666666666666666,\"#ed7953\"],[0.7777777777777778,\"#fb9f3a\"],[0.8888888888888888,\"#fdca26\"],[1.0,\"#f0f921\"]]}],\"heatmapgl\":[{\"type\":\"heatmapgl\",\"colorbar\":{\"outlinewidth\":0,\"ticks\":\"\"},\"colorscale\":[[0.0,\"#0d0887\"],[0.1111111111111111,\"#46039f\"],[0.2222222222222222,\"#7201a8\"],[0.3333333333333333,\"#9c179e\"],[0.4444444444444444,\"#bd3786\"],[0.5555555555555556,\"#d8576b\"],[0.6666666666666666,\"#ed7953\"],[0.7777777777777778,\"#fb9f3a\"],[0.8888888888888888,\"#fdca26\"],[1.0,\"#f0f921\"]]}],\"contourcarpet\":[{\"type\":\"contourcarpet\",\"colorbar\":{\"outlinewidth\":0,\"ticks\":\"\"}}],\"contour\":[{\"type\":\"contour\",\"colorbar\":{\"outlinewidth\":0,\"ticks\":\"\"},\"colorscale\":[[0.0,\"#0d0887\"],[0.1111111111111111,\"#46039f\"],[0.2222222222222222,\"#7201a8\"],[0.3333333333333333,\"#9c179e\"],[0.4444444444444444,\"#bd3786\"],[0.5555555555555556,\"#d8576b\"],[0.6666666666666666,\"#ed7953\"],[0.7777777777777778,\"#fb9f3a\"],[0.8888888888888888,\"#fdca26\"],[1.0,\"#f0f921\"]]}],\"surface\":[{\"type\":\"surface\",\"colorbar\":{\"outlinewidth\":0,\"ticks\":\"\"},\"colorscale\":[[0.0,\"#0d0887\"],[0.1111111111111111,\"#46039f\"],[0.2222222222222222,\"#7201a8\"],[0.3333333333333333,\"#9c179e\"],[0.4444444444444444,\"#bd3786\"],[0.5555555555555556,\"#d8576b\"],[0.6666666666666666,\"#ed7953\"],[0.7777777777777778,\"#fb9f3a\"],[0.8888888888888888,\"#fdca26\"],[1.0,\"#f0f921\"]]}],\"mesh3d\":[{\"type\":\"mesh3d\",\"colorbar\":{\"outlinewidth\":0,\"ticks\":\"\"}}],\"scatter\":[{\"fillpattern\":{\"fillmode\":\"overlay\",\"size\":10,\"solidity\":0.2},\"type\":\"scatter\"}],\"parcoords\":[{\"type\":\"parcoords\",\"line\":{\"colorbar\":{\"outlinewidth\":0,\"ticks\":\"\"}}}],\"scatterpolargl\":[{\"type\":\"scatterpolargl\",\"marker\":{\"colorbar\":{\"outlinewidth\":0,\"ticks\":\"\"}}}],\"bar\":[{\"error_x\":{\"color\":\"#2a3f5f\"},\"error_y\":{\"color\":\"#2a3f5f\"},\"marker\":{\"line\":{\"color\":\"#E5ECF6\",\"width\":0.5},\"pattern\":{\"fillmode\":\"overlay\",\"size\":10,\"solidity\":0.2}},\"type\":\"bar\"}],\"scattergeo\":[{\"type\":\"scattergeo\",\"marker\":{\"colorbar\":{\"outlinewidth\":0,\"ticks\":\"\"}}}],\"scatterpolar\":[{\"type\":\"scatterpolar\",\"marker\":{\"colorbar\":{\"outlinewidth\":0,\"ticks\":\"\"}}}],\"histogram\":[{\"marker\":{\"pattern\":{\"fillmode\":\"overlay\",\"size\":10,\"solidity\":0.2}},\"type\":\"histogram\"}],\"scattergl\":[{\"type\":\"scattergl\",\"marker\":{\"colorbar\":{\"outlinewidth\":0,\"ticks\":\"\"}}}],\"scatter3d\":[{\"type\":\"scatter3d\",\"line\":{\"colorbar\":{\"outlinewidth\":0,\"ticks\":\"\"}},\"marker\":{\"colorbar\":{\"outlinewidth\":0,\"ticks\":\"\"}}}],\"scattermapbox\":[{\"type\":\"scattermapbox\",\"marker\":{\"colorbar\":{\"outlinewidth\":0,\"ticks\":\"\"}}}],\"scatterternary\":[{\"type\":\"scatterternary\",\"marker\":{\"colorbar\":{\"outlinewidth\":0,\"ticks\":\"\"}}}],\"scattercarpet\":[{\"type\":\"scattercarpet\",\"marker\":{\"colorbar\":{\"outlinewidth\":0,\"ticks\":\"\"}}}],\"carpet\":[{\"aaxis\":{\"endlinecolor\":\"#2a3f5f\",\"gridcolor\":\"white\",\"linecolor\":\"white\",\"minorgridcolor\":\"white\",\"startlinecolor\":\"#2a3f5f\"},\"baxis\":{\"endlinecolor\":\"#2a3f5f\",\"gridcolor\":\"white\",\"linecolor\":\"white\",\"minorgridcolor\":\"white\",\"startlinecolor\":\"#2a3f5f\"},\"type\":\"carpet\"}],\"table\":[{\"cells\":{\"fill\":{\"color\":\"#EBF0F8\"},\"line\":{\"color\":\"white\"}},\"header\":{\"fill\":{\"color\":\"#C8D4E3\"},\"line\":{\"color\":\"white\"}},\"type\":\"table\"}],\"barpolar\":[{\"marker\":{\"line\":{\"color\":\"#E5ECF6\",\"width\":0.5},\"pattern\":{\"fillmode\":\"overlay\",\"size\":10,\"solidity\":0.2}},\"type\":\"barpolar\"}],\"pie\":[{\"automargin\":true,\"type\":\"pie\"}]},\"layout\":{\"autotypenumbers\":\"strict\",\"colorway\":[\"#636efa\",\"#EF553B\",\"#00cc96\",\"#ab63fa\",\"#FFA15A\",\"#19d3f3\",\"#FF6692\",\"#B6E880\",\"#FF97FF\",\"#FECB52\"],\"font\":{\"color\":\"#2a3f5f\"},\"hovermode\":\"closest\",\"hoverlabel\":{\"align\":\"left\"},\"paper_bgcolor\":\"white\",\"plot_bgcolor\":\"#E5ECF6\",\"polar\":{\"bgcolor\":\"#E5ECF6\",\"angularaxis\":{\"gridcolor\":\"white\",\"linecolor\":\"white\",\"ticks\":\"\"},\"radialaxis\":{\"gridcolor\":\"white\",\"linecolor\":\"white\",\"ticks\":\"\"}},\"ternary\":{\"bgcolor\":\"#E5ECF6\",\"aaxis\":{\"gridcolor\":\"white\",\"linecolor\":\"white\",\"ticks\":\"\"},\"baxis\":{\"gridcolor\":\"white\",\"linecolor\":\"white\",\"ticks\":\"\"},\"caxis\":{\"gridcolor\":\"white\",\"linecolor\":\"white\",\"ticks\":\"\"}},\"coloraxis\":{\"colorbar\":{\"outlinewidth\":0,\"ticks\":\"\"}},\"colorscale\":{\"sequential\":[[0.0,\"#0d0887\"],[0.1111111111111111,\"#46039f\"],[0.2222222222222222,\"#7201a8\"],[0.3333333333333333,\"#9c179e\"],[0.4444444444444444,\"#bd3786\"],[0.5555555555555556,\"#d8576b\"],[0.6666666666666666,\"#ed7953\"],[0.7777777777777778,\"#fb9f3a\"],[0.8888888888888888,\"#fdca26\"],[1.0,\"#f0f921\"]],\"sequentialminus\":[[0.0,\"#0d0887\"],[0.1111111111111111,\"#46039f\"],[0.2222222222222222,\"#7201a8\"],[0.3333333333333333,\"#9c179e\"],[0.4444444444444444,\"#bd3786\"],[0.5555555555555556,\"#d8576b\"],[0.6666666666666666,\"#ed7953\"],[0.7777777777777778,\"#fb9f3a\"],[0.8888888888888888,\"#fdca26\"],[1.0,\"#f0f921\"]],\"diverging\":[[0,\"#8e0152\"],[0.1,\"#c51b7d\"],[0.2,\"#de77ae\"],[0.3,\"#f1b6da\"],[0.4,\"#fde0ef\"],[0.5,\"#f7f7f7\"],[0.6,\"#e6f5d0\"],[0.7,\"#b8e186\"],[0.8,\"#7fbc41\"],[0.9,\"#4d9221\"],[1,\"#276419\"]]},\"xaxis\":{\"gridcolor\":\"white\",\"linecolor\":\"white\",\"ticks\":\"\",\"title\":{\"standoff\":15},\"zerolinecolor\":\"white\",\"automargin\":true,\"zerolinewidth\":2},\"yaxis\":{\"gridcolor\":\"white\",\"linecolor\":\"white\",\"ticks\":\"\",\"title\":{\"standoff\":15},\"zerolinecolor\":\"white\",\"automargin\":true,\"zerolinewidth\":2},\"scene\":{\"xaxis\":{\"backgroundcolor\":\"#E5ECF6\",\"gridcolor\":\"white\",\"linecolor\":\"white\",\"showbackground\":true,\"ticks\":\"\",\"zerolinecolor\":\"white\",\"gridwidth\":2},\"yaxis\":{\"backgroundcolor\":\"#E5ECF6\",\"gridcolor\":\"white\",\"linecolor\":\"white\",\"showbackground\":true,\"ticks\":\"\",\"zerolinecolor\":\"white\",\"gridwidth\":2},\"zaxis\":{\"backgroundcolor\":\"#E5ECF6\",\"gridcolor\":\"white\",\"linecolor\":\"white\",\"showbackground\":true,\"ticks\":\"\",\"zerolinecolor\":\"white\",\"gridwidth\":2}},\"shapedefaults\":{\"line\":{\"color\":\"#2a3f5f\"}},\"annotationdefaults\":{\"arrowcolor\":\"#2a3f5f\",\"arrowhead\":0,\"arrowwidth\":1},\"geo\":{\"bgcolor\":\"white\",\"landcolor\":\"#E5ECF6\",\"subunitcolor\":\"white\",\"showland\":true,\"showlakes\":true,\"lakecolor\":\"white\"},\"title\":{\"x\":0.05},\"mapbox\":{\"style\":\"light\"}}},\"legend\":{\"tracegroupgap\":0},\"title\":{\"text\":\"Hydrocellular vs Hydrocolloid Total Cost\"}},                        {\"responsive\": true}                    ).then(function(){\n",
       "                            \n",
       "var gd = document.getElementById('271bae3e-9dd7-4957-94bc-9d8833920669');\n",
       "var x = new MutationObserver(function (mutations, observer) {{\n",
       "        var display = window.getComputedStyle(gd).display;\n",
       "        if (!display || display === 'none') {{\n",
       "            console.log([gd, 'removed!']);\n",
       "            Plotly.purge(gd);\n",
       "            observer.disconnect();\n",
       "        }}\n",
       "}});\n",
       "\n",
       "// Listen for the removal of the full notebook cells\n",
       "var notebookContainer = gd.closest('#notebook-container');\n",
       "if (notebookContainer) {{\n",
       "    x.observe(notebookContainer, {childList: true});\n",
       "}}\n",
       "\n",
       "// Listen for the clearing of the current output cell\n",
       "var outputEl = gd.closest('.output');\n",
       "if (outputEl) {{\n",
       "    x.observe(outputEl, {childList: true});\n",
       "}}\n",
       "\n",
       "                        })                };                });            </script>        </div>"
      ]
     },
     "metadata": {},
     "output_type": "display_data"
    }
   ],
   "source": [
    "# Pie chart of the total cost for Hydrocellular and Hydrocolloid\n",
    "px.pie(cost_df, values='updated total cost', names='Dressing type', title=\"Hydrocellular vs Hydrocolloid Total Cost\")"
   ]
  },
  {
   "cell_type": "code",
   "execution_count": 11,
   "id": "8709444e-fe6f-45df-9ef9-57c6dae0d892",
   "metadata": {
    "tags": []
   },
   "outputs": [
    {
     "data": {
      "application/vnd.plotly.v1+json": {
       "config": {
        "plotlyServerURL": "https://plot.ly"
       },
       "data": [
        {
         "domain": {
          "x": [
           0,
           0.45
          ],
          "y": [
           0,
           1
          ]
         },
         "hole": 0.5,
         "hoverinfo": "label+percent+name",
         "insidetextorientation": "radial",
         "labels": [
          "Nurse costs",
          "Dressing costs",
          "Material costs",
          "Secondary costs"
         ],
         "name": "Hydrocellular",
         "textinfo": "label+percent",
         "type": "pie",
         "values": [
          1967.2374999999997,
          4985.351974522292,
          641.5085999999998,
          136.50499999999988
         ]
        },
        {
         "domain": {
          "x": [
           0.55,
           1
          ],
          "y": [
           0,
           1
          ]
         },
         "hole": 0.5,
         "hoverinfo": "label+percent+name",
         "insidetextorientation": "radial",
         "labels": [
          "Nurse costs",
          "Dressing costs",
          "Material costs",
          "Secondary costs"
         ],
         "name": "Hydrocolloid",
         "textinfo": "label+percent",
         "type": "pie",
         "values": [
          2186.3666666666663,
          5007.424267515917,
          753.4514799999997,
          304.795
         ]
        }
       ],
       "layout": {
        "annotations": [
         {
          "font": {
           "size": 13
          },
          "showarrow": false,
          "text": "Hydrocellular",
          "x": 0.16,
          "y": 0.5
         },
         {
          "font": {
           "size": 13
          },
          "showarrow": false,
          "text": "Hydrocolloid",
          "x": 0.84,
          "y": 0.5
         }
        ],
        "autosize": true,
        "template": {
         "data": {
          "bar": [
           {
            "error_x": {
             "color": "#2a3f5f"
            },
            "error_y": {
             "color": "#2a3f5f"
            },
            "marker": {
             "line": {
              "color": "#E5ECF6",
              "width": 0.5
             },
             "pattern": {
              "fillmode": "overlay",
              "size": 10,
              "solidity": 0.2
             }
            },
            "type": "bar"
           }
          ],
          "barpolar": [
           {
            "marker": {
             "line": {
              "color": "#E5ECF6",
              "width": 0.5
             },
             "pattern": {
              "fillmode": "overlay",
              "size": 10,
              "solidity": 0.2
             }
            },
            "type": "barpolar"
           }
          ],
          "carpet": [
           {
            "aaxis": {
             "endlinecolor": "#2a3f5f",
             "gridcolor": "white",
             "linecolor": "white",
             "minorgridcolor": "white",
             "startlinecolor": "#2a3f5f"
            },
            "baxis": {
             "endlinecolor": "#2a3f5f",
             "gridcolor": "white",
             "linecolor": "white",
             "minorgridcolor": "white",
             "startlinecolor": "#2a3f5f"
            },
            "type": "carpet"
           }
          ],
          "choropleth": [
           {
            "colorbar": {
             "outlinewidth": 0,
             "ticks": ""
            },
            "type": "choropleth"
           }
          ],
          "contour": [
           {
            "colorbar": {
             "outlinewidth": 0,
             "ticks": ""
            },
            "colorscale": [
             [
              0,
              "#0d0887"
             ],
             [
              0.1111111111111111,
              "#46039f"
             ],
             [
              0.2222222222222222,
              "#7201a8"
             ],
             [
              0.3333333333333333,
              "#9c179e"
             ],
             [
              0.4444444444444444,
              "#bd3786"
             ],
             [
              0.5555555555555556,
              "#d8576b"
             ],
             [
              0.6666666666666666,
              "#ed7953"
             ],
             [
              0.7777777777777778,
              "#fb9f3a"
             ],
             [
              0.8888888888888888,
              "#fdca26"
             ],
             [
              1,
              "#f0f921"
             ]
            ],
            "type": "contour"
           }
          ],
          "contourcarpet": [
           {
            "colorbar": {
             "outlinewidth": 0,
             "ticks": ""
            },
            "type": "contourcarpet"
           }
          ],
          "heatmap": [
           {
            "colorbar": {
             "outlinewidth": 0,
             "ticks": ""
            },
            "colorscale": [
             [
              0,
              "#0d0887"
             ],
             [
              0.1111111111111111,
              "#46039f"
             ],
             [
              0.2222222222222222,
              "#7201a8"
             ],
             [
              0.3333333333333333,
              "#9c179e"
             ],
             [
              0.4444444444444444,
              "#bd3786"
             ],
             [
              0.5555555555555556,
              "#d8576b"
             ],
             [
              0.6666666666666666,
              "#ed7953"
             ],
             [
              0.7777777777777778,
              "#fb9f3a"
             ],
             [
              0.8888888888888888,
              "#fdca26"
             ],
             [
              1,
              "#f0f921"
             ]
            ],
            "type": "heatmap"
           }
          ],
          "heatmapgl": [
           {
            "colorbar": {
             "outlinewidth": 0,
             "ticks": ""
            },
            "colorscale": [
             [
              0,
              "#0d0887"
             ],
             [
              0.1111111111111111,
              "#46039f"
             ],
             [
              0.2222222222222222,
              "#7201a8"
             ],
             [
              0.3333333333333333,
              "#9c179e"
             ],
             [
              0.4444444444444444,
              "#bd3786"
             ],
             [
              0.5555555555555556,
              "#d8576b"
             ],
             [
              0.6666666666666666,
              "#ed7953"
             ],
             [
              0.7777777777777778,
              "#fb9f3a"
             ],
             [
              0.8888888888888888,
              "#fdca26"
             ],
             [
              1,
              "#f0f921"
             ]
            ],
            "type": "heatmapgl"
           }
          ],
          "histogram": [
           {
            "marker": {
             "pattern": {
              "fillmode": "overlay",
              "size": 10,
              "solidity": 0.2
             }
            },
            "type": "histogram"
           }
          ],
          "histogram2d": [
           {
            "colorbar": {
             "outlinewidth": 0,
             "ticks": ""
            },
            "colorscale": [
             [
              0,
              "#0d0887"
             ],
             [
              0.1111111111111111,
              "#46039f"
             ],
             [
              0.2222222222222222,
              "#7201a8"
             ],
             [
              0.3333333333333333,
              "#9c179e"
             ],
             [
              0.4444444444444444,
              "#bd3786"
             ],
             [
              0.5555555555555556,
              "#d8576b"
             ],
             [
              0.6666666666666666,
              "#ed7953"
             ],
             [
              0.7777777777777778,
              "#fb9f3a"
             ],
             [
              0.8888888888888888,
              "#fdca26"
             ],
             [
              1,
              "#f0f921"
             ]
            ],
            "type": "histogram2d"
           }
          ],
          "histogram2dcontour": [
           {
            "colorbar": {
             "outlinewidth": 0,
             "ticks": ""
            },
            "colorscale": [
             [
              0,
              "#0d0887"
             ],
             [
              0.1111111111111111,
              "#46039f"
             ],
             [
              0.2222222222222222,
              "#7201a8"
             ],
             [
              0.3333333333333333,
              "#9c179e"
             ],
             [
              0.4444444444444444,
              "#bd3786"
             ],
             [
              0.5555555555555556,
              "#d8576b"
             ],
             [
              0.6666666666666666,
              "#ed7953"
             ],
             [
              0.7777777777777778,
              "#fb9f3a"
             ],
             [
              0.8888888888888888,
              "#fdca26"
             ],
             [
              1,
              "#f0f921"
             ]
            ],
            "type": "histogram2dcontour"
           }
          ],
          "mesh3d": [
           {
            "colorbar": {
             "outlinewidth": 0,
             "ticks": ""
            },
            "type": "mesh3d"
           }
          ],
          "parcoords": [
           {
            "line": {
             "colorbar": {
              "outlinewidth": 0,
              "ticks": ""
             }
            },
            "type": "parcoords"
           }
          ],
          "pie": [
           {
            "automargin": true,
            "type": "pie"
           }
          ],
          "scatter": [
           {
            "fillpattern": {
             "fillmode": "overlay",
             "size": 10,
             "solidity": 0.2
            },
            "type": "scatter"
           }
          ],
          "scatter3d": [
           {
            "line": {
             "colorbar": {
              "outlinewidth": 0,
              "ticks": ""
             }
            },
            "marker": {
             "colorbar": {
              "outlinewidth": 0,
              "ticks": ""
             }
            },
            "type": "scatter3d"
           }
          ],
          "scattercarpet": [
           {
            "marker": {
             "colorbar": {
              "outlinewidth": 0,
              "ticks": ""
             }
            },
            "type": "scattercarpet"
           }
          ],
          "scattergeo": [
           {
            "marker": {
             "colorbar": {
              "outlinewidth": 0,
              "ticks": ""
             }
            },
            "type": "scattergeo"
           }
          ],
          "scattergl": [
           {
            "marker": {
             "colorbar": {
              "outlinewidth": 0,
              "ticks": ""
             }
            },
            "type": "scattergl"
           }
          ],
          "scattermapbox": [
           {
            "marker": {
             "colorbar": {
              "outlinewidth": 0,
              "ticks": ""
             }
            },
            "type": "scattermapbox"
           }
          ],
          "scatterpolar": [
           {
            "marker": {
             "colorbar": {
              "outlinewidth": 0,
              "ticks": ""
             }
            },
            "type": "scatterpolar"
           }
          ],
          "scatterpolargl": [
           {
            "marker": {
             "colorbar": {
              "outlinewidth": 0,
              "ticks": ""
             }
            },
            "type": "scatterpolargl"
           }
          ],
          "scatterternary": [
           {
            "marker": {
             "colorbar": {
              "outlinewidth": 0,
              "ticks": ""
             }
            },
            "type": "scatterternary"
           }
          ],
          "surface": [
           {
            "colorbar": {
             "outlinewidth": 0,
             "ticks": ""
            },
            "colorscale": [
             [
              0,
              "#0d0887"
             ],
             [
              0.1111111111111111,
              "#46039f"
             ],
             [
              0.2222222222222222,
              "#7201a8"
             ],
             [
              0.3333333333333333,
              "#9c179e"
             ],
             [
              0.4444444444444444,
              "#bd3786"
             ],
             [
              0.5555555555555556,
              "#d8576b"
             ],
             [
              0.6666666666666666,
              "#ed7953"
             ],
             [
              0.7777777777777778,
              "#fb9f3a"
             ],
             [
              0.8888888888888888,
              "#fdca26"
             ],
             [
              1,
              "#f0f921"
             ]
            ],
            "type": "surface"
           }
          ],
          "table": [
           {
            "cells": {
             "fill": {
              "color": "#EBF0F8"
             },
             "line": {
              "color": "white"
             }
            },
            "header": {
             "fill": {
              "color": "#C8D4E3"
             },
             "line": {
              "color": "white"
             }
            },
            "type": "table"
           }
          ]
         },
         "layout": {
          "annotationdefaults": {
           "arrowcolor": "#2a3f5f",
           "arrowhead": 0,
           "arrowwidth": 1
          },
          "autotypenumbers": "strict",
          "coloraxis": {
           "colorbar": {
            "outlinewidth": 0,
            "ticks": ""
           }
          },
          "colorscale": {
           "diverging": [
            [
             0,
             "#8e0152"
            ],
            [
             0.1,
             "#c51b7d"
            ],
            [
             0.2,
             "#de77ae"
            ],
            [
             0.3,
             "#f1b6da"
            ],
            [
             0.4,
             "#fde0ef"
            ],
            [
             0.5,
             "#f7f7f7"
            ],
            [
             0.6,
             "#e6f5d0"
            ],
            [
             0.7,
             "#b8e186"
            ],
            [
             0.8,
             "#7fbc41"
            ],
            [
             0.9,
             "#4d9221"
            ],
            [
             1,
             "#276419"
            ]
           ],
           "sequential": [
            [
             0,
             "#0d0887"
            ],
            [
             0.1111111111111111,
             "#46039f"
            ],
            [
             0.2222222222222222,
             "#7201a8"
            ],
            [
             0.3333333333333333,
             "#9c179e"
            ],
            [
             0.4444444444444444,
             "#bd3786"
            ],
            [
             0.5555555555555556,
             "#d8576b"
            ],
            [
             0.6666666666666666,
             "#ed7953"
            ],
            [
             0.7777777777777778,
             "#fb9f3a"
            ],
            [
             0.8888888888888888,
             "#fdca26"
            ],
            [
             1,
             "#f0f921"
            ]
           ],
           "sequentialminus": [
            [
             0,
             "#0d0887"
            ],
            [
             0.1111111111111111,
             "#46039f"
            ],
            [
             0.2222222222222222,
             "#7201a8"
            ],
            [
             0.3333333333333333,
             "#9c179e"
            ],
            [
             0.4444444444444444,
             "#bd3786"
            ],
            [
             0.5555555555555556,
             "#d8576b"
            ],
            [
             0.6666666666666666,
             "#ed7953"
            ],
            [
             0.7777777777777778,
             "#fb9f3a"
            ],
            [
             0.8888888888888888,
             "#fdca26"
            ],
            [
             1,
             "#f0f921"
            ]
           ]
          },
          "colorway": [
           "#636efa",
           "#EF553B",
           "#00cc96",
           "#ab63fa",
           "#FFA15A",
           "#19d3f3",
           "#FF6692",
           "#B6E880",
           "#FF97FF",
           "#FECB52"
          ],
          "font": {
           "color": "#2a3f5f"
          },
          "geo": {
           "bgcolor": "white",
           "lakecolor": "white",
           "landcolor": "#E5ECF6",
           "showlakes": true,
           "showland": true,
           "subunitcolor": "white"
          },
          "hoverlabel": {
           "align": "left"
          },
          "hovermode": "closest",
          "mapbox": {
           "style": "light"
          },
          "paper_bgcolor": "white",
          "plot_bgcolor": "#E5ECF6",
          "polar": {
           "angularaxis": {
            "gridcolor": "white",
            "linecolor": "white",
            "ticks": ""
           },
           "bgcolor": "#E5ECF6",
           "radialaxis": {
            "gridcolor": "white",
            "linecolor": "white",
            "ticks": ""
           }
          },
          "scene": {
           "xaxis": {
            "backgroundcolor": "#E5ECF6",
            "gridcolor": "white",
            "gridwidth": 2,
            "linecolor": "white",
            "showbackground": true,
            "ticks": "",
            "zerolinecolor": "white"
           },
           "yaxis": {
            "backgroundcolor": "#E5ECF6",
            "gridcolor": "white",
            "gridwidth": 2,
            "linecolor": "white",
            "showbackground": true,
            "ticks": "",
            "zerolinecolor": "white"
           },
           "zaxis": {
            "backgroundcolor": "#E5ECF6",
            "gridcolor": "white",
            "gridwidth": 2,
            "linecolor": "white",
            "showbackground": true,
            "ticks": "",
            "zerolinecolor": "white"
           }
          },
          "shapedefaults": {
           "line": {
            "color": "#2a3f5f"
           }
          },
          "ternary": {
           "aaxis": {
            "gridcolor": "white",
            "linecolor": "white",
            "ticks": ""
           },
           "baxis": {
            "gridcolor": "white",
            "linecolor": "white",
            "ticks": ""
           },
           "bgcolor": "#E5ECF6",
           "caxis": {
            "gridcolor": "white",
            "linecolor": "white",
            "ticks": ""
           }
          },
          "title": {
           "x": 0.05
          },
          "xaxis": {
           "automargin": true,
           "gridcolor": "white",
           "linecolor": "white",
           "ticks": "",
           "title": {
            "standoff": 15
           },
           "zerolinecolor": "white",
           "zerolinewidth": 2
          },
          "yaxis": {
           "automargin": true,
           "gridcolor": "white",
           "linecolor": "white",
           "ticks": "",
           "title": {
            "standoff": 15
           },
           "zerolinecolor": "white",
           "zerolinewidth": 2
          }
         }
        },
        "title": {
         "text": "Hydrocellular vs Hydrocolloid Cost Distribution"
        }
       }
      },
      "image/png": "[encoded data removed]",
      "text/html": [
       "<div>                            <div id=\"9174a1db-02b7-4a40-85b2-4e6bc5259702\" class=\"plotly-graph-div\" style=\"height:525px; width:100%;\"></div>            <script type=\"text/javascript\">                require([\"plotly\"], function(Plotly) {                    window.PLOTLYENV=window.PLOTLYENV || {};                                    if (document.getElementById(\"9174a1db-02b7-4a40-85b2-4e6bc5259702\")) {                    Plotly.newPlot(                        \"9174a1db-02b7-4a40-85b2-4e6bc5259702\",                        [{\"insidetextorientation\":\"radial\",\"labels\":[\"Nurse costs\",\"Dressing costs\",\"Material costs\",\"Secondary costs\"],\"name\":\"Hydrocellular\",\"textinfo\":\"label+percent\",\"values\":[1967.2374999999997,4985.351974522292,641.5085999999998,136.50499999999988],\"type\":\"pie\",\"domain\":{\"x\":[0.0,0.45],\"y\":[0.0,1.0]},\"hole\":0.5,\"hoverinfo\":\"label+percent+name\"},{\"insidetextorientation\":\"radial\",\"labels\":[\"Nurse costs\",\"Dressing costs\",\"Material costs\",\"Secondary costs\"],\"name\":\"Hydrocolloid\",\"textinfo\":\"label+percent\",\"values\":[2186.3666666666663,5007.424267515917,753.4514799999997,304.795],\"type\":\"pie\",\"domain\":{\"x\":[0.55,1.0],\"y\":[0.0,1.0]},\"hole\":0.5,\"hoverinfo\":\"label+percent+name\"}],                        {\"template\":{\"data\":{\"histogram2dcontour\":[{\"type\":\"histogram2dcontour\",\"colorbar\":{\"outlinewidth\":0,\"ticks\":\"\"},\"colorscale\":[[0.0,\"#0d0887\"],[0.1111111111111111,\"#46039f\"],[0.2222222222222222,\"#7201a8\"],[0.3333333333333333,\"#9c179e\"],[0.4444444444444444,\"#bd3786\"],[0.5555555555555556,\"#d8576b\"],[0.6666666666666666,\"#ed7953\"],[0.7777777777777778,\"#fb9f3a\"],[0.8888888888888888,\"#fdca26\"],[1.0,\"#f0f921\"]]}],\"choropleth\":[{\"type\":\"choropleth\",\"colorbar\":{\"outlinewidth\":0,\"ticks\":\"\"}}],\"histogram2d\":[{\"type\":\"histogram2d\",\"colorbar\":{\"outlinewidth\":0,\"ticks\":\"\"},\"colorscale\":[[0.0,\"#0d0887\"],[0.1111111111111111,\"#46039f\"],[0.2222222222222222,\"#7201a8\"],[0.3333333333333333,\"#9c179e\"],[0.4444444444444444,\"#bd3786\"],[0.5555555555555556,\"#d8576b\"],[0.6666666666666666,\"#ed7953\"],[0.7777777777777778,\"#fb9f3a\"],[0.8888888888888888,\"#fdca26\"],[1.0,\"#f0f921\"]]}],\"heatmap\":[{\"type\":\"heatmap\",\"colorbar\":{\"outlinewidth\":0,\"ticks\":\"\"},\"colorscale\":[[0.0,\"#0d0887\"],[0.1111111111111111,\"#46039f\"],[0.2222222222222222,\"#7201a8\"],[0.3333333333333333,\"#9c179e\"],[0.4444444444444444,\"#bd3786\"],[0.5555555555555556,\"#d8576b\"],[0.6666666666666666,\"#ed7953\"],[0.7777777777777778,\"#fb9f3a\"],[0.8888888888888888,\"#fdca26\"],[1.0,\"#f0f921\"]]}],\"heatmapgl\":[{\"type\":\"heatmapgl\",\"colorbar\":{\"outlinewidth\":0,\"ticks\":\"\"},\"colorscale\":[[0.0,\"#0d0887\"],[0.1111111111111111,\"#46039f\"],[0.2222222222222222,\"#7201a8\"],[0.3333333333333333,\"#9c179e\"],[0.4444444444444444,\"#bd3786\"],[0.5555555555555556,\"#d8576b\"],[0.6666666666666666,\"#ed7953\"],[0.7777777777777778,\"#fb9f3a\"],[0.8888888888888888,\"#fdca26\"],[1.0,\"#f0f921\"]]}],\"contourcarpet\":[{\"type\":\"contourcarpet\",\"colorbar\":{\"outlinewidth\":0,\"ticks\":\"\"}}],\"contour\":[{\"type\":\"contour\",\"colorbar\":{\"outlinewidth\":0,\"ticks\":\"\"},\"colorscale\":[[0.0,\"#0d0887\"],[0.1111111111111111,\"#46039f\"],[0.2222222222222222,\"#7201a8\"],[0.3333333333333333,\"#9c179e\"],[0.4444444444444444,\"#bd3786\"],[0.5555555555555556,\"#d8576b\"],[0.6666666666666666,\"#ed7953\"],[0.7777777777777778,\"#fb9f3a\"],[0.8888888888888888,\"#fdca26\"],[1.0,\"#f0f921\"]]}],\"surface\":[{\"type\":\"surface\",\"colorbar\":{\"outlinewidth\":0,\"ticks\":\"\"},\"colorscale\":[[0.0,\"#0d0887\"],[0.1111111111111111,\"#46039f\"],[0.2222222222222222,\"#7201a8\"],[0.3333333333333333,\"#9c179e\"],[0.4444444444444444,\"#bd3786\"],[0.5555555555555556,\"#d8576b\"],[0.6666666666666666,\"#ed7953\"],[0.7777777777777778,\"#fb9f3a\"],[0.8888888888888888,\"#fdca26\"],[1.0,\"#f0f921\"]]}],\"mesh3d\":[{\"type\":\"mesh3d\",\"colorbar\":{\"outlinewidth\":0,\"ticks\":\"\"}}],\"scatter\":[{\"fillpattern\":{\"fillmode\":\"overlay\",\"size\":10,\"solidity\":0.2},\"type\":\"scatter\"}],\"parcoords\":[{\"type\":\"parcoords\",\"line\":{\"colorbar\":{\"outlinewidth\":0,\"ticks\":\"\"}}}],\"scatterpolargl\":[{\"type\":\"scatterpolargl\",\"marker\":{\"colorbar\":{\"outlinewidth\":0,\"ticks\":\"\"}}}],\"bar\":[{\"error_x\":{\"color\":\"#2a3f5f\"},\"error_y\":{\"color\":\"#2a3f5f\"},\"marker\":{\"line\":{\"color\":\"#E5ECF6\",\"width\":0.5},\"pattern\":{\"fillmode\":\"overlay\",\"size\":10,\"solidity\":0.2}},\"type\":\"bar\"}],\"scattergeo\":[{\"type\":\"scattergeo\",\"marker\":{\"colorbar\":{\"outlinewidth\":0,\"ticks\":\"\"}}}],\"scatterpolar\":[{\"type\":\"scatterpolar\",\"marker\":{\"colorbar\":{\"outlinewidth\":0,\"ticks\":\"\"}}}],\"histogram\":[{\"marker\":{\"pattern\":{\"fillmode\":\"overlay\",\"size\":10,\"solidity\":0.2}},\"type\":\"histogram\"}],\"scattergl\":[{\"type\":\"scattergl\",\"marker\":{\"colorbar\":{\"outlinewidth\":0,\"ticks\":\"\"}}}],\"scatter3d\":[{\"type\":\"scatter3d\",\"line\":{\"colorbar\":{\"outlinewidth\":0,\"ticks\":\"\"}},\"marker\":{\"colorbar\":{\"outlinewidth\":0,\"ticks\":\"\"}}}],\"scattermapbox\":[{\"type\":\"scattermapbox\",\"marker\":{\"colorbar\":{\"outlinewidth\":0,\"ticks\":\"\"}}}],\"scatterternary\":[{\"type\":\"scatterternary\",\"marker\":{\"colorbar\":{\"outlinewidth\":0,\"ticks\":\"\"}}}],\"scattercarpet\":[{\"type\":\"scattercarpet\",\"marker\":{\"colorbar\":{\"outlinewidth\":0,\"ticks\":\"\"}}}],\"carpet\":[{\"aaxis\":{\"endlinecolor\":\"#2a3f5f\",\"gridcolor\":\"white\",\"linecolor\":\"white\",\"minorgridcolor\":\"white\",\"startlinecolor\":\"#2a3f5f\"},\"baxis\":{\"endlinecolor\":\"#2a3f5f\",\"gridcolor\":\"white\",\"linecolor\":\"white\",\"minorgridcolor\":\"white\",\"startlinecolor\":\"#2a3f5f\"},\"type\":\"carpet\"}],\"table\":[{\"cells\":{\"fill\":{\"color\":\"#EBF0F8\"},\"line\":{\"color\":\"white\"}},\"header\":{\"fill\":{\"color\":\"#C8D4E3\"},\"line\":{\"color\":\"white\"}},\"type\":\"table\"}],\"barpolar\":[{\"marker\":{\"line\":{\"color\":\"#E5ECF6\",\"width\":0.5},\"pattern\":{\"fillmode\":\"overlay\",\"size\":10,\"solidity\":0.2}},\"type\":\"barpolar\"}],\"pie\":[{\"automargin\":true,\"type\":\"pie\"}]},\"layout\":{\"autotypenumbers\":\"strict\",\"colorway\":[\"#636efa\",\"#EF553B\",\"#00cc96\",\"#ab63fa\",\"#FFA15A\",\"#19d3f3\",\"#FF6692\",\"#B6E880\",\"#FF97FF\",\"#FECB52\"],\"font\":{\"color\":\"#2a3f5f\"},\"hovermode\":\"closest\",\"hoverlabel\":{\"align\":\"left\"},\"paper_bgcolor\":\"white\",\"plot_bgcolor\":\"#E5ECF6\",\"polar\":{\"bgcolor\":\"#E5ECF6\",\"angularaxis\":{\"gridcolor\":\"white\",\"linecolor\":\"white\",\"ticks\":\"\"},\"radialaxis\":{\"gridcolor\":\"white\",\"linecolor\":\"white\",\"ticks\":\"\"}},\"ternary\":{\"bgcolor\":\"#E5ECF6\",\"aaxis\":{\"gridcolor\":\"white\",\"linecolor\":\"white\",\"ticks\":\"\"},\"baxis\":{\"gridcolor\":\"white\",\"linecolor\":\"white\",\"ticks\":\"\"},\"caxis\":{\"gridcolor\":\"white\",\"linecolor\":\"white\",\"ticks\":\"\"}},\"coloraxis\":{\"colorbar\":{\"outlinewidth\":0,\"ticks\":\"\"}},\"colorscale\":{\"sequential\":[[0.0,\"#0d0887\"],[0.1111111111111111,\"#46039f\"],[0.2222222222222222,\"#7201a8\"],[0.3333333333333333,\"#9c179e\"],[0.4444444444444444,\"#bd3786\"],[0.5555555555555556,\"#d8576b\"],[0.6666666666666666,\"#ed7953\"],[0.7777777777777778,\"#fb9f3a\"],[0.8888888888888888,\"#fdca26\"],[1.0,\"#f0f921\"]],\"sequentialminus\":[[0.0,\"#0d0887\"],[0.1111111111111111,\"#46039f\"],[0.2222222222222222,\"#7201a8\"],[0.3333333333333333,\"#9c179e\"],[0.4444444444444444,\"#bd3786\"],[0.5555555555555556,\"#d8576b\"],[0.6666666666666666,\"#ed7953\"],[0.7777777777777778,\"#fb9f3a\"],[0.8888888888888888,\"#fdca26\"],[1.0,\"#f0f921\"]],\"diverging\":[[0,\"#8e0152\"],[0.1,\"#c51b7d\"],[0.2,\"#de77ae\"],[0.3,\"#f1b6da\"],[0.4,\"#fde0ef\"],[0.5,\"#f7f7f7\"],[0.6,\"#e6f5d0\"],[0.7,\"#b8e186\"],[0.8,\"#7fbc41\"],[0.9,\"#4d9221\"],[1,\"#276419\"]]},\"xaxis\":{\"gridcolor\":\"white\",\"linecolor\":\"white\",\"ticks\":\"\",\"title\":{\"standoff\":15},\"zerolinecolor\":\"white\",\"automargin\":true,\"zerolinewidth\":2},\"yaxis\":{\"gridcolor\":\"white\",\"linecolor\":\"white\",\"ticks\":\"\",\"title\":{\"standoff\":15},\"zerolinecolor\":\"white\",\"automargin\":true,\"zerolinewidth\":2},\"scene\":{\"xaxis\":{\"backgroundcolor\":\"#E5ECF6\",\"gridcolor\":\"white\",\"linecolor\":\"white\",\"showbackground\":true,\"ticks\":\"\",\"zerolinecolor\":\"white\",\"gridwidth\":2},\"yaxis\":{\"backgroundcolor\":\"#E5ECF6\",\"gridcolor\":\"white\",\"linecolor\":\"white\",\"showbackground\":true,\"ticks\":\"\",\"zerolinecolor\":\"white\",\"gridwidth\":2},\"zaxis\":{\"backgroundcolor\":\"#E5ECF6\",\"gridcolor\":\"white\",\"linecolor\":\"white\",\"showbackground\":true,\"ticks\":\"\",\"zerolinecolor\":\"white\",\"gridwidth\":2}},\"shapedefaults\":{\"line\":{\"color\":\"#2a3f5f\"}},\"annotationdefaults\":{\"arrowcolor\":\"#2a3f5f\",\"arrowhead\":0,\"arrowwidth\":1},\"geo\":{\"bgcolor\":\"white\",\"landcolor\":\"#E5ECF6\",\"subunitcolor\":\"white\",\"showland\":true,\"showlakes\":true,\"lakecolor\":\"white\"},\"title\":{\"x\":0.05},\"mapbox\":{\"style\":\"light\"}}},\"title\":{\"text\":\"Hydrocellular vs Hydrocolloid Cost Distribution\"},\"annotations\":[{\"showarrow\":false,\"text\":\"Hydrocellular\",\"x\":0.16,\"y\":0.5,\"font\":{\"size\":13}},{\"showarrow\":false,\"text\":\"Hydrocolloid\",\"x\":0.84,\"y\":0.5,\"font\":{\"size\":13}}]},                        {\"responsive\": true}                    ).then(function(){\n",
       "                            \n",
       "var gd = document.getElementById('9174a1db-02b7-4a40-85b2-4e6bc5259702');\n",
       "var x = new MutationObserver(function (mutations, observer) {{\n",
       "        var display = window.getComputedStyle(gd).display;\n",
       "        if (!display || display === 'none') {{\n",
       "            console.log([gd, 'removed!']);\n",
       "            Plotly.purge(gd);\n",
       "            observer.disconnect();\n",
       "        }}\n",
       "}});\n",
       "\n",
       "// Listen for the removal of the full notebook cells\n",
       "var notebookContainer = gd.closest('#notebook-container');\n",
       "if (notebookContainer) {{\n",
       "    x.observe(notebookContainer, {childList: true});\n",
       "}}\n",
       "\n",
       "// Listen for the clearing of the current output cell\n",
       "var outputEl = gd.closest('.output');\n",
       "if (outputEl) {{\n",
       "    x.observe(outputEl, {childList: true});\n",
       "}}\n",
       "\n",
       "                        })                };                });            </script>        </div>"
      ]
     },
     "metadata": {},
     "output_type": "display_data"
    }
   ],
   "source": [
    "# Detailed Pie chart of the different costs for Hydrocellular and Hydrocolloid\n",
    "\n",
    "labels=['Nurse costs','Dressing costs', 'Material costs', 'Secondary costs']                                                          \n",
    "\n",
    "nc_ar = cost_df.loc[cost_df['Dressing type'] == 'Hydrocellular']['Nurse costs'].sum() \n",
    "dc_ar = cost_df.loc[cost_df['Dressing type'] == 'Hydrocellular']['Dressing costs'].sum() \n",
    "mc_ar = cost_df.loc[cost_df['Dressing type'] == 'Hydrocellular']['Material costs'].sum()\n",
    "sc_ar = cost_df.loc[cost_df['Dressing type'] == 'Hydrocellular']['Secondary costs'].sum()\n",
    "\n",
    "nc_id = cost_df.loc[cost_df['Dressing type'] == 'Hydrocolloid']['Nurse costs'].sum() \n",
    "dc_id = cost_df.loc[cost_df['Dressing type'] == 'Hydrocolloid']['Dressing costs'].sum() \n",
    "mc_id = cost_df.loc[cost_df['Dressing type'] == 'Hydrocolloid']['Material costs'].sum() \n",
    "sc_id = cost_df.loc[cost_df['Dressing type'] == 'Hydrocolloid']['Secondary costs'].sum() \n",
    "\n",
    "\n",
    "values_ar = [nc_ar, dc_ar, mc_ar, sc_ar]\n",
    "values_id = [nc_id, dc_id, mc_id, sc_id]\n",
    "\n",
    "fig = make_subplots(rows=1, cols=2, specs=[[{'type':'domain'}, {'type':'domain'}]])\n",
    "\n",
    "fig.add_trace(go.Pie(labels=labels, values=values_ar, textinfo='label+percent',\n",
    "                             insidetextorientation='radial'\n",
    "                            , name= \"Hydrocellular\"), 1, 1)\n",
    "\n",
    "fig.add_trace(go.Pie(labels=labels, values=values_id, textinfo='label+percent',\n",
    "                             insidetextorientation='radial'\n",
    "                            , name= \"Hydrocolloid\"), 1, 2)\n",
    "\n",
    "fig.update_traces(hole=.5, hoverinfo=\"label+percent+name\")\n",
    "\n",
    "\n",
    "fig.update_layout(title_text=\"Hydrocellular vs Hydrocolloid Cost Distribution\", annotations=[dict(text='Hydrocellular', x=0.16, y=0.5, font_size=13, showarrow=False),\n",
    "                 dict(text='Hydrocolloid', x=0.84, y=0.5, font_size=13, showarrow=False)])\n"
   ]
  },
  {
   "cell_type": "code",
   "execution_count": 12,
   "id": "22dd19ca-8db5-4286-92e4-cc1e286041b3",
   "metadata": {
    "tags": []
   },
   "outputs": [
    {
     "data": {
      "application/vnd.plotly.v1+json": {
       "config": {
        "plotlyServerURL": "https://plot.ly"
       },
       "data": [
        {
         "boxpoints": "all",
         "fillcolor": "blue",
         "jitter": 0.5,
         "name": "Hydrocellular",
         "type": "box",
         "whiskerwidth": 0.2,
         "y": [
          51.244,
          132.75,
          95.298,
          80.37485350318467,
          94.97800000000001,
          105.36485350318468,
          89.604,
          191.70072,
          118.69458,
          71.181,
          101.86872,
          77.53,
          114.754,
          50.36999999999999,
          93.244,
          114.054,
          60.020720000000004,
          83.30672,
          77.741,
          204.78999999999994,
          19.016,
          237.02200000000002,
          122.55272,
          65.002,
          91.856,
          100.6035,
          80.546,
          97.74600000000001,
          93.42750000000001,
          60.394,
          82.83300000000001,
          107.276,
          81.46200000000002,
          81.98800000000001,
          43.36936,
          68.396,
          94.846,
          55.25872,
          83.36716,
          88.69,
          56.44199999999999,
          70.04200000000002,
          76.1476666666666,
          129.223,
          54.898,
          122.99400000000001,
          131.298,
          97.446,
          196.934,
          89.163,
          99.58099999999999,
          130.339,
          53.516999999999996,
          39.20599999999999,
          140.52783333333332,
          92.68400000000001,
          72.50485350318468,
          60.828,
          72.18199999999999,
          104.428,
          144.0349999999999,
          157.85472,
          80.97399999999999,
          52.304,
          34.608720000000005,
          45.28199999999999,
          109.37,
          84.97800000000001,
          82.793,
          55.06936,
          46.56983333333333,
          102.43593350318466,
          57.92736,
          53.268,
          112.55600000000001,
          99.70772,
          99.1106666666666,
          91.06,
          121.471,
          91.166,
          95.83157350318467,
          68.53685350318467,
          114.11285350318468,
          74.674
         ]
        },
        {
         "boxpoints": "all",
         "fillcolor": "red",
         "jitter": 0.5,
         "name": "Hydrocolloid",
         "type": "box",
         "whiskerwidth": 0.2,
         "y": [
          111.626,
          122.23899999999999,
          88.2349999999999,
          113.51885350318467,
          77.8319999999999,
          81.96199999999989,
          80.8389999999999,
          98.44199999999991,
          66.8579999999999,
          39.178000000000004,
          18.48,
          126.109,
          189.65572,
          15.446999999999997,
          55.781999999999904,
          32.016,
          73.2529999999999,
          361.60115999999994,
          97.2979999999999,
          93.428,
          85.1999999999999,
          137.08899999999997,
          15.884,
          60.6339999999999,
          73.70999999999988,
          78.1079999999999,
          118.88199999999999,
          85.1769999999999,
          58.5299999999999,
          103.2559999999999,
          87.9778333333333,
          96.82799999999989,
          124.69708,
          100.94112666666649,
          72.38055333333321,
          60.7979999999999,
          74.85600000000001,
          234.304,
          120.91085350318457,
          95.91600000000001,
          165.62472,
          89.06599999999989,
          106.3733599999999,
          13.386,
          148.09644,
          66.4199999999999,
          68.73871999999989,
          80.903,
          130.05616,
          117.8541599999999,
          134.51751999999993,
          117.71093350318468,
          34.678,
          18.5,
          109.5345,
          115.4019999999999,
          95.3833333333333,
          163.54299999999992,
          186.077,
          73.11485350318468,
          233.087999999999,
          192.62800000000001,
          146.77999999999992,
          60.915999999999904,
          45.152,
          73.1719999999999,
          62.97999999999979,
          30.029999999999998,
          64.7537199999999,
          72.64299999999989,
          101.2268333333332,
          112.39657999999991,
          19.185,
          77.54999999999991,
          76.89268683651801,
          211.98093999999998,
          68.2399999999999,
          115.55571999999991,
          111.07399999999998,
          141.35772,
          91.68999999999988,
          96.9339999999999,
          56.6229999999999,
          95.32999999999998,
          28.999333333333325
         ]
        }
       ],
       "layout": {
        "autosize": true,
        "paper_bgcolor": "rgb(243, 243, 243)",
        "plot_bgcolor": "rgb(243, 243, 243)",
        "template": {
         "data": {
          "bar": [
           {
            "error_x": {
             "color": "#2a3f5f"
            },
            "error_y": {
             "color": "#2a3f5f"
            },
            "marker": {
             "line": {
              "color": "#E5ECF6",
              "width": 0.5
             },
             "pattern": {
              "fillmode": "overlay",
              "size": 10,
              "solidity": 0.2
             }
            },
            "type": "bar"
           }
          ],
          "barpolar": [
           {
            "marker": {
             "line": {
              "color": "#E5ECF6",
              "width": 0.5
             },
             "pattern": {
              "fillmode": "overlay",
              "size": 10,
              "solidity": 0.2
             }
            },
            "type": "barpolar"
           }
          ],
          "carpet": [
           {
            "aaxis": {
             "endlinecolor": "#2a3f5f",
             "gridcolor": "white",
             "linecolor": "white",
             "minorgridcolor": "white",
             "startlinecolor": "#2a3f5f"
            },
            "baxis": {
             "endlinecolor": "#2a3f5f",
             "gridcolor": "white",
             "linecolor": "white",
             "minorgridcolor": "white",
             "startlinecolor": "#2a3f5f"
            },
            "type": "carpet"
           }
          ],
          "choropleth": [
           {
            "colorbar": {
             "outlinewidth": 0,
             "ticks": ""
            },
            "type": "choropleth"
           }
          ],
          "contour": [
           {
            "colorbar": {
             "outlinewidth": 0,
             "ticks": ""
            },
            "colorscale": [
             [
              0,
              "#0d0887"
             ],
             [
              0.1111111111111111,
              "#46039f"
             ],
             [
              0.2222222222222222,
              "#7201a8"
             ],
             [
              0.3333333333333333,
              "#9c179e"
             ],
             [
              0.4444444444444444,
              "#bd3786"
             ],
             [
              0.5555555555555556,
              "#d8576b"
             ],
             [
              0.6666666666666666,
              "#ed7953"
             ],
             [
              0.7777777777777778,
              "#fb9f3a"
             ],
             [
              0.8888888888888888,
              "#fdca26"
             ],
             [
              1,
              "#f0f921"
             ]
            ],
            "type": "contour"
           }
          ],
          "contourcarpet": [
           {
            "colorbar": {
             "outlinewidth": 0,
             "ticks": ""
            },
            "type": "contourcarpet"
           }
          ],
          "heatmap": [
           {
            "colorbar": {
             "outlinewidth": 0,
             "ticks": ""
            },
            "colorscale": [
             [
              0,
              "#0d0887"
             ],
             [
              0.1111111111111111,
              "#46039f"
             ],
             [
              0.2222222222222222,
              "#7201a8"
             ],
             [
              0.3333333333333333,
              "#9c179e"
             ],
             [
              0.4444444444444444,
              "#bd3786"
             ],
             [
              0.5555555555555556,
              "#d8576b"
             ],
             [
              0.6666666666666666,
              "#ed7953"
             ],
             [
              0.7777777777777778,
              "#fb9f3a"
             ],
             [
              0.8888888888888888,
              "#fdca26"
             ],
             [
              1,
              "#f0f921"
             ]
            ],
            "type": "heatmap"
           }
          ],
          "heatmapgl": [
           {
            "colorbar": {
             "outlinewidth": 0,
             "ticks": ""
            },
            "colorscale": [
             [
              0,
              "#0d0887"
             ],
             [
              0.1111111111111111,
              "#46039f"
             ],
             [
              0.2222222222222222,
              "#7201a8"
             ],
             [
              0.3333333333333333,
              "#9c179e"
             ],
             [
              0.4444444444444444,
              "#bd3786"
             ],
             [
              0.5555555555555556,
              "#d8576b"
             ],
             [
              0.6666666666666666,
              "#ed7953"
             ],
             [
              0.7777777777777778,
              "#fb9f3a"
             ],
             [
              0.8888888888888888,
              "#fdca26"
             ],
             [
              1,
              "#f0f921"
             ]
            ],
            "type": "heatmapgl"
           }
          ],
          "histogram": [
           {
            "marker": {
             "pattern": {
              "fillmode": "overlay",
              "size": 10,
              "solidity": 0.2
             }
            },
            "type": "histogram"
           }
          ],
          "histogram2d": [
           {
            "colorbar": {
             "outlinewidth": 0,
             "ticks": ""
            },
            "colorscale": [
             [
              0,
              "#0d0887"
             ],
             [
              0.1111111111111111,
              "#46039f"
             ],
             [
              0.2222222222222222,
              "#7201a8"
             ],
             [
              0.3333333333333333,
              "#9c179e"
             ],
             [
              0.4444444444444444,
              "#bd3786"
             ],
             [
              0.5555555555555556,
              "#d8576b"
             ],
             [
              0.6666666666666666,
              "#ed7953"
             ],
             [
              0.7777777777777778,
              "#fb9f3a"
             ],
             [
              0.8888888888888888,
              "#fdca26"
             ],
             [
              1,
              "#f0f921"
             ]
            ],
            "type": "histogram2d"
           }
          ],
          "histogram2dcontour": [
           {
            "colorbar": {
             "outlinewidth": 0,
             "ticks": ""
            },
            "colorscale": [
             [
              0,
              "#0d0887"
             ],
             [
              0.1111111111111111,
              "#46039f"
             ],
             [
              0.2222222222222222,
              "#7201a8"
             ],
             [
              0.3333333333333333,
              "#9c179e"
             ],
             [
              0.4444444444444444,
              "#bd3786"
             ],
             [
              0.5555555555555556,
              "#d8576b"
             ],
             [
              0.6666666666666666,
              "#ed7953"
             ],
             [
              0.7777777777777778,
              "#fb9f3a"
             ],
             [
              0.8888888888888888,
              "#fdca26"
             ],
             [
              1,
              "#f0f921"
             ]
            ],
            "type": "histogram2dcontour"
           }
          ],
          "mesh3d": [
           {
            "colorbar": {
             "outlinewidth": 0,
             "ticks": ""
            },
            "type": "mesh3d"
           }
          ],
          "parcoords": [
           {
            "line": {
             "colorbar": {
              "outlinewidth": 0,
              "ticks": ""
             }
            },
            "type": "parcoords"
           }
          ],
          "pie": [
           {
            "automargin": true,
            "type": "pie"
           }
          ],
          "scatter": [
           {
            "fillpattern": {
             "fillmode": "overlay",
             "size": 10,
             "solidity": 0.2
            },
            "type": "scatter"
           }
          ],
          "scatter3d": [
           {
            "line": {
             "colorbar": {
              "outlinewidth": 0,
              "ticks": ""
             }
            },
            "marker": {
             "colorbar": {
              "outlinewidth": 0,
              "ticks": ""
             }
            },
            "type": "scatter3d"
           }
          ],
          "scattercarpet": [
           {
            "marker": {
             "colorbar": {
              "outlinewidth": 0,
              "ticks": ""
             }
            },
            "type": "scattercarpet"
           }
          ],
          "scattergeo": [
           {
            "marker": {
             "colorbar": {
              "outlinewidth": 0,
              "ticks": ""
             }
            },
            "type": "scattergeo"
           }
          ],
          "scattergl": [
           {
            "marker": {
             "colorbar": {
              "outlinewidth": 0,
              "ticks": ""
             }
            },
            "type": "scattergl"
           }
          ],
          "scattermapbox": [
           {
            "marker": {
             "colorbar": {
              "outlinewidth": 0,
              "ticks": ""
             }
            },
            "type": "scattermapbox"
           }
          ],
          "scatterpolar": [
           {
            "marker": {
             "colorbar": {
              "outlinewidth": 0,
              "ticks": ""
             }
            },
            "type": "scatterpolar"
           }
          ],
          "scatterpolargl": [
           {
            "marker": {
             "colorbar": {
              "outlinewidth": 0,
              "ticks": ""
             }
            },
            "type": "scatterpolargl"
           }
          ],
          "scatterternary": [
           {
            "marker": {
             "colorbar": {
              "outlinewidth": 0,
              "ticks": ""
             }
            },
            "type": "scatterternary"
           }
          ],
          "surface": [
           {
            "colorbar": {
             "outlinewidth": 0,
             "ticks": ""
            },
            "colorscale": [
             [
              0,
              "#0d0887"
             ],
             [
              0.1111111111111111,
              "#46039f"
             ],
             [
              0.2222222222222222,
              "#7201a8"
             ],
             [
              0.3333333333333333,
              "#9c179e"
             ],
             [
              0.4444444444444444,
              "#bd3786"
             ],
             [
              0.5555555555555556,
              "#d8576b"
             ],
             [
              0.6666666666666666,
              "#ed7953"
             ],
             [
              0.7777777777777778,
              "#fb9f3a"
             ],
             [
              0.8888888888888888,
              "#fdca26"
             ],
             [
              1,
              "#f0f921"
             ]
            ],
            "type": "surface"
           }
          ],
          "table": [
           {
            "cells": {
             "fill": {
              "color": "#EBF0F8"
             },
             "line": {
              "color": "white"
             }
            },
            "header": {
             "fill": {
              "color": "#C8D4E3"
             },
             "line": {
              "color": "white"
             }
            },
            "type": "table"
           }
          ]
         },
         "layout": {
          "annotationdefaults": {
           "arrowcolor": "#2a3f5f",
           "arrowhead": 0,
           "arrowwidth": 1
          },
          "autotypenumbers": "strict",
          "coloraxis": {
           "colorbar": {
            "outlinewidth": 0,
            "ticks": ""
           }
          },
          "colorscale": {
           "diverging": [
            [
             0,
             "#8e0152"
            ],
            [
             0.1,
             "#c51b7d"
            ],
            [
             0.2,
             "#de77ae"
            ],
            [
             0.3,
             "#f1b6da"
            ],
            [
             0.4,
             "#fde0ef"
            ],
            [
             0.5,
             "#f7f7f7"
            ],
            [
             0.6,
             "#e6f5d0"
            ],
            [
             0.7,
             "#b8e186"
            ],
            [
             0.8,
             "#7fbc41"
            ],
            [
             0.9,
             "#4d9221"
            ],
            [
             1,
             "#276419"
            ]
           ],
           "sequential": [
            [
             0,
             "#0d0887"
            ],
            [
             0.1111111111111111,
             "#46039f"
            ],
            [
             0.2222222222222222,
             "#7201a8"
            ],
            [
             0.3333333333333333,
             "#9c179e"
            ],
            [
             0.4444444444444444,
             "#bd3786"
            ],
            [
             0.5555555555555556,
             "#d8576b"
            ],
            [
             0.6666666666666666,
             "#ed7953"
            ],
            [
             0.7777777777777778,
             "#fb9f3a"
            ],
            [
             0.8888888888888888,
             "#fdca26"
            ],
            [
             1,
             "#f0f921"
            ]
           ],
           "sequentialminus": [
            [
             0,
             "#0d0887"
            ],
            [
             0.1111111111111111,
             "#46039f"
            ],
            [
             0.2222222222222222,
             "#7201a8"
            ],
            [
             0.3333333333333333,
             "#9c179e"
            ],
            [
             0.4444444444444444,
             "#bd3786"
            ],
            [
             0.5555555555555556,
             "#d8576b"
            ],
            [
             0.6666666666666666,
             "#ed7953"
            ],
            [
             0.7777777777777778,
             "#fb9f3a"
            ],
            [
             0.8888888888888888,
             "#fdca26"
            ],
            [
             1,
             "#f0f921"
            ]
           ]
          },
          "colorway": [
           "#636efa",
           "#EF553B",
           "#00cc96",
           "#ab63fa",
           "#FFA15A",
           "#19d3f3",
           "#FF6692",
           "#B6E880",
           "#FF97FF",
           "#FECB52"
          ],
          "font": {
           "color": "#2a3f5f"
          },
          "geo": {
           "bgcolor": "white",
           "lakecolor": "white",
           "landcolor": "#E5ECF6",
           "showlakes": true,
           "showland": true,
           "subunitcolor": "white"
          },
          "hoverlabel": {
           "align": "left"
          },
          "hovermode": "closest",
          "mapbox": {
           "style": "light"
          },
          "paper_bgcolor": "white",
          "plot_bgcolor": "#E5ECF6",
          "polar": {
           "angularaxis": {
            "gridcolor": "white",
            "linecolor": "white",
            "ticks": ""
           },
           "bgcolor": "#E5ECF6",
           "radialaxis": {
            "gridcolor": "white",
            "linecolor": "white",
            "ticks": ""
           }
          },
          "scene": {
           "xaxis": {
            "backgroundcolor": "#E5ECF6",
            "gridcolor": "white",
            "gridwidth": 2,
            "linecolor": "white",
            "showbackground": true,
            "ticks": "",
            "zerolinecolor": "white"
           },
           "yaxis": {
            "backgroundcolor": "#E5ECF6",
            "gridcolor": "white",
            "gridwidth": 2,
            "linecolor": "white",
            "showbackground": true,
            "ticks": "",
            "zerolinecolor": "white"
           },
           "zaxis": {
            "backgroundcolor": "#E5ECF6",
            "gridcolor": "white",
            "gridwidth": 2,
            "linecolor": "white",
            "showbackground": true,
            "ticks": "",
            "zerolinecolor": "white"
           }
          },
          "shapedefaults": {
           "line": {
            "color": "#2a3f5f"
           }
          },
          "ternary": {
           "aaxis": {
            "gridcolor": "white",
            "linecolor": "white",
            "ticks": ""
           },
           "baxis": {
            "gridcolor": "white",
            "linecolor": "white",
            "ticks": ""
           },
           "bgcolor": "#E5ECF6",
           "caxis": {
            "gridcolor": "white",
            "linecolor": "white",
            "ticks": ""
           }
          },
          "title": {
           "x": 0.05
          },
          "xaxis": {
           "automargin": true,
           "gridcolor": "white",
           "linecolor": "white",
           "ticks": "",
           "title": {
            "standoff": 15
           },
           "zerolinecolor": "white",
           "zerolinewidth": 2
          },
          "yaxis": {
           "automargin": true,
           "gridcolor": "white",
           "linecolor": "white",
           "ticks": "",
           "title": {
            "standoff": 15
           },
           "zerolinecolor": "white",
           "zerolinewidth": 2
          }
         }
        },
        "title": {
         "text": "Hydrocellular vs Hydrocolloid"
        },
        "xaxis": {
         "autorange": true,
         "range": [
          -0.5077720207253886,
          1.5
         ],
         "type": "category"
        },
        "yaxis": {
         "autorange": true,
         "gridcolor": "rgb(255, 255, 255)",
         "gridwidth": 3,
         "range": [
          -5.959286666666664,
          380.9464466666666
         ],
         "type": "linear"
        }
       }
      },
      "image/png": "[encoded data removed]",
      "text/html": [
       "<div>                            <div id=\"e2f49e63-ef58-4784-8486-40f4f5ea4fc0\" class=\"plotly-graph-div\" style=\"height:525px; width:100%;\"></div>            <script type=\"text/javascript\">                require([\"plotly\"], function(Plotly) {                    window.PLOTLYENV=window.PLOTLYENV || {};                                    if (document.getElementById(\"e2f49e63-ef58-4784-8486-40f4f5ea4fc0\")) {                    Plotly.newPlot(                        \"e2f49e63-ef58-4784-8486-40f4f5ea4fc0\",                        [{\"boxpoints\":\"all\",\"fillcolor\":\"blue\",\"jitter\":0.5,\"name\":\"Hydrocellular\",\"whiskerwidth\":0.2,\"y\":[51.244,132.75,95.298,80.37485350318467,94.97800000000001,105.36485350318468,89.604,191.70072,118.69458,71.181,101.86872,77.53,114.754,50.36999999999999,93.244,114.054,60.020720000000004,83.30672,77.741,204.78999999999994,19.016,237.02200000000002,122.55272,65.002,91.856,100.6035,80.546,97.74600000000001,93.42750000000001,60.394,82.83300000000001,107.276,81.46200000000002,81.98800000000001,43.36936,68.396,94.846,55.25872,83.36716,88.69,56.44199999999999,70.04200000000002,76.1476666666666,129.223,54.898,122.99400000000001,131.298,97.446,196.934,89.163,99.58099999999999,130.339,53.516999999999996,39.20599999999999,140.52783333333332,92.68400000000001,72.50485350318468,60.828,72.18199999999999,104.428,144.0349999999999,157.85472,80.97399999999999,52.304,34.608720000000005,45.28199999999999,109.37,84.97800000000001,82.793,55.06936,46.56983333333333,102.43593350318466,57.92736,53.268,112.55600000000001,99.70772,99.1106666666666,91.06,121.471,91.166,95.83157350318467,68.53685350318467,114.11285350318468,74.674],\"type\":\"box\"},{\"boxpoints\":\"all\",\"fillcolor\":\"red\",\"jitter\":0.5,\"name\":\"Hydrocolloid\",\"whiskerwidth\":0.2,\"y\":[111.626,122.23899999999999,88.2349999999999,113.51885350318467,77.8319999999999,81.96199999999989,80.8389999999999,98.44199999999991,66.8579999999999,39.178000000000004,18.48,126.109,189.65572,15.446999999999997,55.781999999999904,32.016,73.2529999999999,361.60115999999994,97.2979999999999,93.428,85.1999999999999,137.08899999999997,15.884,60.6339999999999,73.70999999999988,78.1079999999999,118.88199999999999,85.1769999999999,58.5299999999999,103.2559999999999,87.9778333333333,96.82799999999989,124.69708,100.94112666666649,72.38055333333321,60.7979999999999,74.85600000000001,234.304,120.91085350318457,95.91600000000001,165.62472,89.06599999999989,106.3733599999999,13.386,148.09644,66.4199999999999,68.73871999999989,80.903,130.05616,117.8541599999999,134.51751999999993,117.71093350318468,34.678,18.5,109.5345,115.4019999999999,95.3833333333333,163.54299999999992,186.077,73.11485350318468,233.087999999999,192.62800000000001,146.77999999999992,60.915999999999904,45.152,73.1719999999999,62.97999999999979,30.029999999999998,64.7537199999999,72.64299999999989,101.2268333333332,112.39657999999991,19.185,77.54999999999991,76.89268683651801,211.98093999999998,68.2399999999999,115.55571999999991,111.07399999999998,141.35772,91.68999999999988,96.9339999999999,56.6229999999999,95.32999999999998,28.999333333333325],\"type\":\"box\"}],                        {\"template\":{\"data\":{\"histogram2dcontour\":[{\"type\":\"histogram2dcontour\",\"colorbar\":{\"outlinewidth\":0,\"ticks\":\"\"},\"colorscale\":[[0.0,\"#0d0887\"],[0.1111111111111111,\"#46039f\"],[0.2222222222222222,\"#7201a8\"],[0.3333333333333333,\"#9c179e\"],[0.4444444444444444,\"#bd3786\"],[0.5555555555555556,\"#d8576b\"],[0.6666666666666666,\"#ed7953\"],[0.7777777777777778,\"#fb9f3a\"],[0.8888888888888888,\"#fdca26\"],[1.0,\"#f0f921\"]]}],\"choropleth\":[{\"type\":\"choropleth\",\"colorbar\":{\"outlinewidth\":0,\"ticks\":\"\"}}],\"histogram2d\":[{\"type\":\"histogram2d\",\"colorbar\":{\"outlinewidth\":0,\"ticks\":\"\"},\"colorscale\":[[0.0,\"#0d0887\"],[0.1111111111111111,\"#46039f\"],[0.2222222222222222,\"#7201a8\"],[0.3333333333333333,\"#9c179e\"],[0.4444444444444444,\"#bd3786\"],[0.5555555555555556,\"#d8576b\"],[0.6666666666666666,\"#ed7953\"],[0.7777777777777778,\"#fb9f3a\"],[0.8888888888888888,\"#fdca26\"],[1.0,\"#f0f921\"]]}],\"heatmap\":[{\"type\":\"heatmap\",\"colorbar\":{\"outlinewidth\":0,\"ticks\":\"\"},\"colorscale\":[[0.0,\"#0d0887\"],[0.1111111111111111,\"#46039f\"],[0.2222222222222222,\"#7201a8\"],[0.3333333333333333,\"#9c179e\"],[0.4444444444444444,\"#bd3786\"],[0.5555555555555556,\"#d8576b\"],[0.6666666666666666,\"#ed7953\"],[0.7777777777777778,\"#fb9f3a\"],[0.8888888888888888,\"#fdca26\"],[1.0,\"#f0f921\"]]}],\"heatmapgl\":[{\"type\":\"heatmapgl\",\"colorbar\":{\"outlinewidth\":0,\"ticks\":\"\"},\"colorscale\":[[0.0,\"#0d0887\"],[0.1111111111111111,\"#46039f\"],[0.2222222222222222,\"#7201a8\"],[0.3333333333333333,\"#9c179e\"],[0.4444444444444444,\"#bd3786\"],[0.5555555555555556,\"#d8576b\"],[0.6666666666666666,\"#ed7953\"],[0.7777777777777778,\"#fb9f3a\"],[0.8888888888888888,\"#fdca26\"],[1.0,\"#f0f921\"]]}],\"contourcarpet\":[{\"type\":\"contourcarpet\",\"colorbar\":{\"outlinewidth\":0,\"ticks\":\"\"}}],\"contour\":[{\"type\":\"contour\",\"colorbar\":{\"outlinewidth\":0,\"ticks\":\"\"},\"colorscale\":[[0.0,\"#0d0887\"],[0.1111111111111111,\"#46039f\"],[0.2222222222222222,\"#7201a8\"],[0.3333333333333333,\"#9c179e\"],[0.4444444444444444,\"#bd3786\"],[0.5555555555555556,\"#d8576b\"],[0.6666666666666666,\"#ed7953\"],[0.7777777777777778,\"#fb9f3a\"],[0.8888888888888888,\"#fdca26\"],[1.0,\"#f0f921\"]]}],\"surface\":[{\"type\":\"surface\",\"colorbar\":{\"outlinewidth\":0,\"ticks\":\"\"},\"colorscale\":[[0.0,\"#0d0887\"],[0.1111111111111111,\"#46039f\"],[0.2222222222222222,\"#7201a8\"],[0.3333333333333333,\"#9c179e\"],[0.4444444444444444,\"#bd3786\"],[0.5555555555555556,\"#d8576b\"],[0.6666666666666666,\"#ed7953\"],[0.7777777777777778,\"#fb9f3a\"],[0.8888888888888888,\"#fdca26\"],[1.0,\"#f0f921\"]]}],\"mesh3d\":[{\"type\":\"mesh3d\",\"colorbar\":{\"outlinewidth\":0,\"ticks\":\"\"}}],\"scatter\":[{\"fillpattern\":{\"fillmode\":\"overlay\",\"size\":10,\"solidity\":0.2},\"type\":\"scatter\"}],\"parcoords\":[{\"type\":\"parcoords\",\"line\":{\"colorbar\":{\"outlinewidth\":0,\"ticks\":\"\"}}}],\"scatterpolargl\":[{\"type\":\"scatterpolargl\",\"marker\":{\"colorbar\":{\"outlinewidth\":0,\"ticks\":\"\"}}}],\"bar\":[{\"error_x\":{\"color\":\"#2a3f5f\"},\"error_y\":{\"color\":\"#2a3f5f\"},\"marker\":{\"line\":{\"color\":\"#E5ECF6\",\"width\":0.5},\"pattern\":{\"fillmode\":\"overlay\",\"size\":10,\"solidity\":0.2}},\"type\":\"bar\"}],\"scattergeo\":[{\"type\":\"scattergeo\",\"marker\":{\"colorbar\":{\"outlinewidth\":0,\"ticks\":\"\"}}}],\"scatterpolar\":[{\"type\":\"scatterpolar\",\"marker\":{\"colorbar\":{\"outlinewidth\":0,\"ticks\":\"\"}}}],\"histogram\":[{\"marker\":{\"pattern\":{\"fillmode\":\"overlay\",\"size\":10,\"solidity\":0.2}},\"type\":\"histogram\"}],\"scattergl\":[{\"type\":\"scattergl\",\"marker\":{\"colorbar\":{\"outlinewidth\":0,\"ticks\":\"\"}}}],\"scatter3d\":[{\"type\":\"scatter3d\",\"line\":{\"colorbar\":{\"outlinewidth\":0,\"ticks\":\"\"}},\"marker\":{\"colorbar\":{\"outlinewidth\":0,\"ticks\":\"\"}}}],\"scattermapbox\":[{\"type\":\"scattermapbox\",\"marker\":{\"colorbar\":{\"outlinewidth\":0,\"ticks\":\"\"}}}],\"scatterternary\":[{\"type\":\"scatterternary\",\"marker\":{\"colorbar\":{\"outlinewidth\":0,\"ticks\":\"\"}}}],\"scattercarpet\":[{\"type\":\"scattercarpet\",\"marker\":{\"colorbar\":{\"outlinewidth\":0,\"ticks\":\"\"}}}],\"carpet\":[{\"aaxis\":{\"endlinecolor\":\"#2a3f5f\",\"gridcolor\":\"white\",\"linecolor\":\"white\",\"minorgridcolor\":\"white\",\"startlinecolor\":\"#2a3f5f\"},\"baxis\":{\"endlinecolor\":\"#2a3f5f\",\"gridcolor\":\"white\",\"linecolor\":\"white\",\"minorgridcolor\":\"white\",\"startlinecolor\":\"#2a3f5f\"},\"type\":\"carpet\"}],\"table\":[{\"cells\":{\"fill\":{\"color\":\"#EBF0F8\"},\"line\":{\"color\":\"white\"}},\"header\":{\"fill\":{\"color\":\"#C8D4E3\"},\"line\":{\"color\":\"white\"}},\"type\":\"table\"}],\"barpolar\":[{\"marker\":{\"line\":{\"color\":\"#E5ECF6\",\"width\":0.5},\"pattern\":{\"fillmode\":\"overlay\",\"size\":10,\"solidity\":0.2}},\"type\":\"barpolar\"}],\"pie\":[{\"automargin\":true,\"type\":\"pie\"}]},\"layout\":{\"autotypenumbers\":\"strict\",\"colorway\":[\"#636efa\",\"#EF553B\",\"#00cc96\",\"#ab63fa\",\"#FFA15A\",\"#19d3f3\",\"#FF6692\",\"#B6E880\",\"#FF97FF\",\"#FECB52\"],\"font\":{\"color\":\"#2a3f5f\"},\"hovermode\":\"closest\",\"hoverlabel\":{\"align\":\"left\"},\"paper_bgcolor\":\"white\",\"plot_bgcolor\":\"#E5ECF6\",\"polar\":{\"bgcolor\":\"#E5ECF6\",\"angularaxis\":{\"gridcolor\":\"white\",\"linecolor\":\"white\",\"ticks\":\"\"},\"radialaxis\":{\"gridcolor\":\"white\",\"linecolor\":\"white\",\"ticks\":\"\"}},\"ternary\":{\"bgcolor\":\"#E5ECF6\",\"aaxis\":{\"gridcolor\":\"white\",\"linecolor\":\"white\",\"ticks\":\"\"},\"baxis\":{\"gridcolor\":\"white\",\"linecolor\":\"white\",\"ticks\":\"\"},\"caxis\":{\"gridcolor\":\"white\",\"linecolor\":\"white\",\"ticks\":\"\"}},\"coloraxis\":{\"colorbar\":{\"outlinewidth\":0,\"ticks\":\"\"}},\"colorscale\":{\"sequential\":[[0.0,\"#0d0887\"],[0.1111111111111111,\"#46039f\"],[0.2222222222222222,\"#7201a8\"],[0.3333333333333333,\"#9c179e\"],[0.4444444444444444,\"#bd3786\"],[0.5555555555555556,\"#d8576b\"],[0.6666666666666666,\"#ed7953\"],[0.7777777777777778,\"#fb9f3a\"],[0.8888888888888888,\"#fdca26\"],[1.0,\"#f0f921\"]],\"sequentialminus\":[[0.0,\"#0d0887\"],[0.1111111111111111,\"#46039f\"],[0.2222222222222222,\"#7201a8\"],[0.3333333333333333,\"#9c179e\"],[0.4444444444444444,\"#bd3786\"],[0.5555555555555556,\"#d8576b\"],[0.6666666666666666,\"#ed7953\"],[0.7777777777777778,\"#fb9f3a\"],[0.8888888888888888,\"#fdca26\"],[1.0,\"#f0f921\"]],\"diverging\":[[0,\"#8e0152\"],[0.1,\"#c51b7d\"],[0.2,\"#de77ae\"],[0.3,\"#f1b6da\"],[0.4,\"#fde0ef\"],[0.5,\"#f7f7f7\"],[0.6,\"#e6f5d0\"],[0.7,\"#b8e186\"],[0.8,\"#7fbc41\"],[0.9,\"#4d9221\"],[1,\"#276419\"]]},\"xaxis\":{\"gridcolor\":\"white\",\"linecolor\":\"white\",\"ticks\":\"\",\"title\":{\"standoff\":15},\"zerolinecolor\":\"white\",\"automargin\":true,\"zerolinewidth\":2},\"yaxis\":{\"gridcolor\":\"white\",\"linecolor\":\"white\",\"ticks\":\"\",\"title\":{\"standoff\":15},\"zerolinecolor\":\"white\",\"automargin\":true,\"zerolinewidth\":2},\"scene\":{\"xaxis\":{\"backgroundcolor\":\"#E5ECF6\",\"gridcolor\":\"white\",\"linecolor\":\"white\",\"showbackground\":true,\"ticks\":\"\",\"zerolinecolor\":\"white\",\"gridwidth\":2},\"yaxis\":{\"backgroundcolor\":\"#E5ECF6\",\"gridcolor\":\"white\",\"linecolor\":\"white\",\"showbackground\":true,\"ticks\":\"\",\"zerolinecolor\":\"white\",\"gridwidth\":2},\"zaxis\":{\"backgroundcolor\":\"#E5ECF6\",\"gridcolor\":\"white\",\"linecolor\":\"white\",\"showbackground\":true,\"ticks\":\"\",\"zerolinecolor\":\"white\",\"gridwidth\":2}},\"shapedefaults\":{\"line\":{\"color\":\"#2a3f5f\"}},\"annotationdefaults\":{\"arrowcolor\":\"#2a3f5f\",\"arrowhead\":0,\"arrowwidth\":1},\"geo\":{\"bgcolor\":\"white\",\"landcolor\":\"#E5ECF6\",\"subunitcolor\":\"white\",\"showland\":true,\"showlakes\":true,\"lakecolor\":\"white\"},\"title\":{\"x\":0.05},\"mapbox\":{\"style\":\"light\"}}},\"yaxis\":{\"gridcolor\":\"rgb(255, 255, 255)\",\"gridwidth\":3},\"title\":{\"text\":\"Hydrocellular vs Hydrocolloid\"},\"paper_bgcolor\":\"rgb(243, 243, 243)\",\"plot_bgcolor\":\"rgb(243, 243, 243)\"},                        {\"responsive\": true}                    ).then(function(){\n",
       "                            \n",
       "var gd = document.getElementById('e2f49e63-ef58-4784-8486-40f4f5ea4fc0');\n",
       "var x = new MutationObserver(function (mutations, observer) {{\n",
       "        var display = window.getComputedStyle(gd).display;\n",
       "        if (!display || display === 'none') {{\n",
       "            console.log([gd, 'removed!']);\n",
       "            Plotly.purge(gd);\n",
       "            observer.disconnect();\n",
       "        }}\n",
       "}});\n",
       "\n",
       "// Listen for the removal of the full notebook cells\n",
       "var notebookContainer = gd.closest('#notebook-container');\n",
       "if (notebookContainer) {{\n",
       "    x.observe(notebookContainer, {childList: true});\n",
       "}}\n",
       "\n",
       "// Listen for the clearing of the current output cell\n",
       "var outputEl = gd.closest('.output');\n",
       "if (outputEl) {{\n",
       "    x.observe(outputEl, {childList: true});\n",
       "}}\n",
       "\n",
       "                        })                };                });            </script>        </div>"
      ]
     },
     "metadata": {},
     "output_type": "display_data"
    }
   ],
   "source": [
    "# Get intution of the cost distribution \n",
    "fig = go.Figure()\n",
    "fig.add_trace(go.Box(y= cost_df.loc[cost_df['Dressing type'] == 'Hydrocellular']['updated total cost'] \n",
    ", boxpoints='all', name='Hydrocellular',fillcolor='blue', jitter=0.5, whiskerwidth=0.2))\n",
    "\n",
    "fig.add_trace(go.Box(y= cost_df.loc[cost_df['Dressing type'] == 'Hydrocolloid']['updated total cost'], boxpoints='all', name='Hydrocolloid',\n",
    "                    fillcolor='red', jitter=0.5, whiskerwidth=0.2))\n",
    "fig.update_layout(title='Hydrocellular vs Hydrocolloid', \n",
    "                  yaxis=dict(gridcolor='rgb(255, 255, 255)',\n",
    "                 gridwidth=3),\n",
    "                 paper_bgcolor='rgb(243, 243, 243)',\n",
    "                 plot_bgcolor='rgb(243, 243, 243)')"
   ]
  },
  {
   "cell_type": "markdown",
   "id": "2172225f-63fe-4cc3-ae10-f9b89ffe8d7f",
   "metadata": {
    "tags": []
   },
   "source": [
    "## Analysis dataset"
   ]
  },
  {
   "cell_type": "code",
   "execution_count": 13,
   "id": "9dfeaabc-4c0f-44aa-8df0-9bccd1bdbe38",
   "metadata": {
    "tags": []
   },
   "outputs": [
    {
     "data": {
      "text/html": [
       "<div>\n",
       "<style scoped>\n",
       "    .dataframe tbody tr th:only-of-type {\n",
       "        vertical-align: middle;\n",
       "    }\n",
       "\n",
       "    .dataframe tbody tr th {\n",
       "        vertical-align: top;\n",
       "    }\n",
       "\n",
       "    .dataframe thead th {\n",
       "        text-align: right;\n",
       "    }\n",
       "</style>\n",
       "<table border=\"1\" class=\"dataframe\">\n",
       "  <thead>\n",
       "    <tr style=\"text-align: right;\">\n",
       "      <th></th>\n",
       "      <th>ID code</th>\n",
       "      <th>Sex</th>\n",
       "      <th>Age</th>\n",
       "      <th>Baseline visit</th>\n",
       "      <th>num. visit</th>\n",
       "      <th>Dressing type</th>\n",
       "      <th>Ulcer_stage</th>\n",
       "      <th>Cured: 1, no cured: 2</th>\n",
       "      <th>infected</th>\n",
       "      <th>Postural changes</th>\n",
       "      <th>red_friccion</th>\n",
       "      <th>Avoided_infecion</th>\n",
       "      <th>Braden Scale</th>\n",
       "      <th>Push Scale</th>\n",
       "      <th>porc_postural changes</th>\n",
       "      <th>porc_friccion</th>\n",
       "      <th>porc_infec</th>\n",
       "      <th>Loss to follow up</th>\n",
       "      <th>Location</th>\n",
       "    </tr>\n",
       "  </thead>\n",
       "  <tbody>\n",
       "    <tr>\n",
       "      <th>0</th>\n",
       "      <td>270009</td>\n",
       "      <td>Female</td>\n",
       "      <td>86</td>\n",
       "      <td>2015-09-11</td>\n",
       "      <td>2.0</td>\n",
       "      <td>Hydrocellular</td>\n",
       "      <td>1</td>\n",
       "      <td>2</td>\n",
       "      <td>2</td>\n",
       "      <td>0</td>\n",
       "      <td>0</td>\n",
       "      <td>0</td>\n",
       "      <td>Riesgo moderado</td>\n",
       "      <td>15</td>\n",
       "      <td>NaN</td>\n",
       "      <td>NaN</td>\n",
       "      <td>NaN</td>\n",
       "      <td>2</td>\n",
       "      <td>Trochanter</td>\n",
       "    </tr>\n",
       "    <tr>\n",
       "      <th>1</th>\n",
       "      <td>470003</td>\n",
       "      <td>Female</td>\n",
       "      <td>92</td>\n",
       "      <td>2014-09-19</td>\n",
       "      <td>2.0</td>\n",
       "      <td>Hydrocellular</td>\n",
       "      <td>2</td>\n",
       "      <td>2</td>\n",
       "      <td>2</td>\n",
       "      <td>0</td>\n",
       "      <td>0</td>\n",
       "      <td>0</td>\n",
       "      <td>Riesgo moderado</td>\n",
       "      <td>4</td>\n",
       "      <td>NaN</td>\n",
       "      <td>NaN</td>\n",
       "      <td>NaN</td>\n",
       "      <td>1</td>\n",
       "      <td>Trochanter</td>\n",
       "    </tr>\n",
       "    <tr>\n",
       "      <th>2</th>\n",
       "      <td>30006</td>\n",
       "      <td>Female</td>\n",
       "      <td>88</td>\n",
       "      <td>2014-06-03</td>\n",
       "      <td>2.0</td>\n",
       "      <td>Hydrocolloid</td>\n",
       "      <td>2</td>\n",
       "      <td>2</td>\n",
       "      <td>1</td>\n",
       "      <td>0</td>\n",
       "      <td>0</td>\n",
       "      <td>0</td>\n",
       "      <td>Riesgo moderado</td>\n",
       "      <td>6</td>\n",
       "      <td>NaN</td>\n",
       "      <td>NaN</td>\n",
       "      <td>NaN</td>\n",
       "      <td>2</td>\n",
       "      <td>Trochanter</td>\n",
       "    </tr>\n",
       "    <tr>\n",
       "      <th>3</th>\n",
       "      <td>100005</td>\n",
       "      <td>Female</td>\n",
       "      <td>91</td>\n",
       "      <td>2014-03-11</td>\n",
       "      <td>3.0</td>\n",
       "      <td>Hydrocolloid</td>\n",
       "      <td>1</td>\n",
       "      <td>2</td>\n",
       "      <td>2</td>\n",
       "      <td>1</td>\n",
       "      <td>1</td>\n",
       "      <td>1</td>\n",
       "      <td>Riesgo moderado</td>\n",
       "      <td>12</td>\n",
       "      <td>1.0</td>\n",
       "      <td>1.0</td>\n",
       "      <td>1.0</td>\n",
       "      <td>2</td>\n",
       "      <td>Trochanter</td>\n",
       "    </tr>\n",
       "    <tr>\n",
       "      <th>4</th>\n",
       "      <td>100011</td>\n",
       "      <td>Female</td>\n",
       "      <td>86</td>\n",
       "      <td>2015-09-28</td>\n",
       "      <td>4.0</td>\n",
       "      <td>Hydrocolloid</td>\n",
       "      <td>1</td>\n",
       "      <td>2</td>\n",
       "      <td>2</td>\n",
       "      <td>2</td>\n",
       "      <td>2</td>\n",
       "      <td>0</td>\n",
       "      <td>Sin riesgo</td>\n",
       "      <td>6</td>\n",
       "      <td>1.0</td>\n",
       "      <td>1.0</td>\n",
       "      <td>0.0</td>\n",
       "      <td>2</td>\n",
       "      <td>Trochanter</td>\n",
       "    </tr>\n",
       "  </tbody>\n",
       "</table>\n",
       "</div>"
      ],
      "text/plain": [
       "   ID code     Sex  Age Baseline visit  num. visit  Dressing type  \\\n",
       "0   270009  Female   86     2015-09-11         2.0  Hydrocellular   \n",
       "1   470003  Female   92     2014-09-19         2.0  Hydrocellular   \n",
       "2    30006  Female   88     2014-06-03         2.0   Hydrocolloid   \n",
       "3   100005  Female   91     2014-03-11         3.0   Hydrocolloid   \n",
       "4   100011  Female   86     2015-09-28         4.0   Hydrocolloid   \n",
       "\n",
       "   Ulcer_stage  Cured: 1, no cured: 2  infected  Postural changes  \\\n",
       "0            1                      2         2                 0   \n",
       "1            2                      2         2                 0   \n",
       "2            2                      2         1                 0   \n",
       "3            1                      2         2                 1   \n",
       "4            1                      2         2                 2   \n",
       "\n",
       "   red_friccion  Avoided_infecion     Braden Scale  Push Scale  \\\n",
       "0             0                 0  Riesgo moderado          15   \n",
       "1             0                 0  Riesgo moderado           4   \n",
       "2             0                 0  Riesgo moderado           6   \n",
       "3             1                 1  Riesgo moderado          12   \n",
       "4             2                 0       Sin riesgo           6   \n",
       "\n",
       "   porc_postural changes  porc_friccion  porc_infec  Loss to follow up  \\\n",
       "0                    NaN            NaN         NaN                  2   \n",
       "1                    NaN            NaN         NaN                  1   \n",
       "2                    NaN            NaN         NaN                  2   \n",
       "3                    1.0            1.0         1.0                  2   \n",
       "4                    1.0            1.0         0.0                  2   \n",
       "\n",
       "     Location  \n",
       "0  Trochanter  \n",
       "1  Trochanter  \n",
       "2  Trochanter  \n",
       "3  Trochanter  \n",
       "4  Trochanter  "
      ]
     },
     "execution_count": 13,
     "metadata": {},
     "output_type": "execute_result"
    }
   ],
   "source": [
    "# read data from the excel file \n",
    "analysis_df = pd.read_excel(analysis_path)\n",
    "analysis_df.head()"
   ]
  },
  {
   "cell_type": "code",
   "execution_count": 14,
   "id": "d16e3d46-3fee-4b2c-a615-3c7513d4c3b4",
   "metadata": {
    "tags": []
   },
   "outputs": [
    {
     "data": {
      "text/plain": [
       "ID code                   0\n",
       "Sex                       0\n",
       "Age                       0\n",
       "Baseline visit            0\n",
       "num. visit                1\n",
       "Dressing type             0\n",
       "Ulcer_stage               0\n",
       "Cured: 1, no cured: 2     0\n",
       "infected                  0\n",
       "Postural changes          0\n",
       "red_friccion              0\n",
       "Avoided_infecion          0\n",
       "Braden Scale              0\n",
       "Push Scale                0\n",
       "porc_postural changes    44\n",
       "porc_friccion            44\n",
       "porc_infec               44\n",
       "Loss to follow up         0\n",
       "Location                  0\n",
       "dtype: int64"
      ]
     },
     "execution_count": 14,
     "metadata": {},
     "output_type": "execute_result"
    }
   ],
   "source": [
    "# Checkout NA values\n",
    "analysis_df.isnull().sum()"
   ]
  },
  {
   "cell_type": "code",
   "execution_count": 15,
   "id": "c69222ee-49e6-42d3-bb64-22cf5c3b19c8",
   "metadata": {
    "tags": []
   },
   "outputs": [
    {
     "data": {
      "application/vnd.plotly.v1+json": {
       "config": {
        "plotlyServerURL": "https://plot.ly"
       },
       "data": [
        {
         "domain": {
          "x": [
           0,
           0.45
          ],
          "y": [
           0,
           1
          ]
         },
         "hole": 0.5,
         "insidetextorientation": "radial",
         "labels": [
          "Cured",
          "Not Cured"
         ],
         "marker": {
          "colors": [
           "teal",
           "darkorange"
          ]
         },
         "name": "Hydrocellular",
         "textinfo": "label+percent",
         "type": "pie",
         "values": [
          3,
          81
         ]
        },
        {
         "domain": {
          "x": [
           0.55,
           1
          ],
          "y": [
           0,
           1
          ]
         },
         "hole": 0.5,
         "insidetextorientation": "radial",
         "labels": [
          "Cured",
          "Not Cured"
         ],
         "marker": {
          "colors": [
           "teal",
           "darkorange"
          ]
         },
         "name": "Hydrocolloid",
         "textinfo": "label+percent",
         "type": "pie",
         "values": [
          5,
          80
         ]
        }
       ],
       "layout": {
        "annotations": [
         {
          "font": {
           "size": 13
          },
          "showarrow": false,
          "text": "Hydrocellular",
          "x": 0.17,
          "y": 0.5
         },
         {
          "font": {
           "size": 13
          },
          "showarrow": false,
          "text": "Hydrocolloid",
          "x": 0.83,
          "y": 0.5
         }
        ],
        "autosize": true,
        "template": {
         "data": {
          "bar": [
           {
            "error_x": {
             "color": "#2a3f5f"
            },
            "error_y": {
             "color": "#2a3f5f"
            },
            "marker": {
             "line": {
              "color": "#E5ECF6",
              "width": 0.5
             },
             "pattern": {
              "fillmode": "overlay",
              "size": 10,
              "solidity": 0.2
             }
            },
            "type": "bar"
           }
          ],
          "barpolar": [
           {
            "marker": {
             "line": {
              "color": "#E5ECF6",
              "width": 0.5
             },
             "pattern": {
              "fillmode": "overlay",
              "size": 10,
              "solidity": 0.2
             }
            },
            "type": "barpolar"
           }
          ],
          "carpet": [
           {
            "aaxis": {
             "endlinecolor": "#2a3f5f",
             "gridcolor": "white",
             "linecolor": "white",
             "minorgridcolor": "white",
             "startlinecolor": "#2a3f5f"
            },
            "baxis": {
             "endlinecolor": "#2a3f5f",
             "gridcolor": "white",
             "linecolor": "white",
             "minorgridcolor": "white",
             "startlinecolor": "#2a3f5f"
            },
            "type": "carpet"
           }
          ],
          "choropleth": [
           {
            "colorbar": {
             "outlinewidth": 0,
             "ticks": ""
            },
            "type": "choropleth"
           }
          ],
          "contour": [
           {
            "colorbar": {
             "outlinewidth": 0,
             "ticks": ""
            },
            "colorscale": [
             [
              0,
              "#0d0887"
             ],
             [
              0.1111111111111111,
              "#46039f"
             ],
             [
              0.2222222222222222,
              "#7201a8"
             ],
             [
              0.3333333333333333,
              "#9c179e"
             ],
             [
              0.4444444444444444,
              "#bd3786"
             ],
             [
              0.5555555555555556,
              "#d8576b"
             ],
             [
              0.6666666666666666,
              "#ed7953"
             ],
             [
              0.7777777777777778,
              "#fb9f3a"
             ],
             [
              0.8888888888888888,
              "#fdca26"
             ],
             [
              1,
              "#f0f921"
             ]
            ],
            "type": "contour"
           }
          ],
          "contourcarpet": [
           {
            "colorbar": {
             "outlinewidth": 0,
             "ticks": ""
            },
            "type": "contourcarpet"
           }
          ],
          "heatmap": [
           {
            "colorbar": {
             "outlinewidth": 0,
             "ticks": ""
            },
            "colorscale": [
             [
              0,
              "#0d0887"
             ],
             [
              0.1111111111111111,
              "#46039f"
             ],
             [
              0.2222222222222222,
              "#7201a8"
             ],
             [
              0.3333333333333333,
              "#9c179e"
             ],
             [
              0.4444444444444444,
              "#bd3786"
             ],
             [
              0.5555555555555556,
              "#d8576b"
             ],
             [
              0.6666666666666666,
              "#ed7953"
             ],
             [
              0.7777777777777778,
              "#fb9f3a"
             ],
             [
              0.8888888888888888,
              "#fdca26"
             ],
             [
              1,
              "#f0f921"
             ]
            ],
            "type": "heatmap"
           }
          ],
          "heatmapgl": [
           {
            "colorbar": {
             "outlinewidth": 0,
             "ticks": ""
            },
            "colorscale": [
             [
              0,
              "#0d0887"
             ],
             [
              0.1111111111111111,
              "#46039f"
             ],
             [
              0.2222222222222222,
              "#7201a8"
             ],
             [
              0.3333333333333333,
              "#9c179e"
             ],
             [
              0.4444444444444444,
              "#bd3786"
             ],
             [
              0.5555555555555556,
              "#d8576b"
             ],
             [
              0.6666666666666666,
              "#ed7953"
             ],
             [
              0.7777777777777778,
              "#fb9f3a"
             ],
             [
              0.8888888888888888,
              "#fdca26"
             ],
             [
              1,
              "#f0f921"
             ]
            ],
            "type": "heatmapgl"
           }
          ],
          "histogram": [
           {
            "marker": {
             "pattern": {
              "fillmode": "overlay",
              "size": 10,
              "solidity": 0.2
             }
            },
            "type": "histogram"
           }
          ],
          "histogram2d": [
           {
            "colorbar": {
             "outlinewidth": 0,
             "ticks": ""
            },
            "colorscale": [
             [
              0,
              "#0d0887"
             ],
             [
              0.1111111111111111,
              "#46039f"
             ],
             [
              0.2222222222222222,
              "#7201a8"
             ],
             [
              0.3333333333333333,
              "#9c179e"
             ],
             [
              0.4444444444444444,
              "#bd3786"
             ],
             [
              0.5555555555555556,
              "#d8576b"
             ],
             [
              0.6666666666666666,
              "#ed7953"
             ],
             [
              0.7777777777777778,
              "#fb9f3a"
             ],
             [
              0.8888888888888888,
              "#fdca26"
             ],
             [
              1,
              "#f0f921"
             ]
            ],
            "type": "histogram2d"
           }
          ],
          "histogram2dcontour": [
           {
            "colorbar": {
             "outlinewidth": 0,
             "ticks": ""
            },
            "colorscale": [
             [
              0,
              "#0d0887"
             ],
             [
              0.1111111111111111,
              "#46039f"
             ],
             [
              0.2222222222222222,
              "#7201a8"
             ],
             [
              0.3333333333333333,
              "#9c179e"
             ],
             [
              0.4444444444444444,
              "#bd3786"
             ],
             [
              0.5555555555555556,
              "#d8576b"
             ],
             [
              0.6666666666666666,
              "#ed7953"
             ],
             [
              0.7777777777777778,
              "#fb9f3a"
             ],
             [
              0.8888888888888888,
              "#fdca26"
             ],
             [
              1,
              "#f0f921"
             ]
            ],
            "type": "histogram2dcontour"
           }
          ],
          "mesh3d": [
           {
            "colorbar": {
             "outlinewidth": 0,
             "ticks": ""
            },
            "type": "mesh3d"
           }
          ],
          "parcoords": [
           {
            "line": {
             "colorbar": {
              "outlinewidth": 0,
              "ticks": ""
             }
            },
            "type": "parcoords"
           }
          ],
          "pie": [
           {
            "automargin": true,
            "type": "pie"
           }
          ],
          "scatter": [
           {
            "fillpattern": {
             "fillmode": "overlay",
             "size": 10,
             "solidity": 0.2
            },
            "type": "scatter"
           }
          ],
          "scatter3d": [
           {
            "line": {
             "colorbar": {
              "outlinewidth": 0,
              "ticks": ""
             }
            },
            "marker": {
             "colorbar": {
              "outlinewidth": 0,
              "ticks": ""
             }
            },
            "type": "scatter3d"
           }
          ],
          "scattercarpet": [
           {
            "marker": {
             "colorbar": {
              "outlinewidth": 0,
              "ticks": ""
             }
            },
            "type": "scattercarpet"
           }
          ],
          "scattergeo": [
           {
            "marker": {
             "colorbar": {
              "outlinewidth": 0,
              "ticks": ""
             }
            },
            "type": "scattergeo"
           }
          ],
          "scattergl": [
           {
            "marker": {
             "colorbar": {
              "outlinewidth": 0,
              "ticks": ""
             }
            },
            "type": "scattergl"
           }
          ],
          "scattermapbox": [
           {
            "marker": {
             "colorbar": {
              "outlinewidth": 0,
              "ticks": ""
             }
            },
            "type": "scattermapbox"
           }
          ],
          "scatterpolar": [
           {
            "marker": {
             "colorbar": {
              "outlinewidth": 0,
              "ticks": ""
             }
            },
            "type": "scatterpolar"
           }
          ],
          "scatterpolargl": [
           {
            "marker": {
             "colorbar": {
              "outlinewidth": 0,
              "ticks": ""
             }
            },
            "type": "scatterpolargl"
           }
          ],
          "scatterternary": [
           {
            "marker": {
             "colorbar": {
              "outlinewidth": 0,
              "ticks": ""
             }
            },
            "type": "scatterternary"
           }
          ],
          "surface": [
           {
            "colorbar": {
             "outlinewidth": 0,
             "ticks": ""
            },
            "colorscale": [
             [
              0,
              "#0d0887"
             ],
             [
              0.1111111111111111,
              "#46039f"
             ],
             [
              0.2222222222222222,
              "#7201a8"
             ],
             [
              0.3333333333333333,
              "#9c179e"
             ],
             [
              0.4444444444444444,
              "#bd3786"
             ],
             [
              0.5555555555555556,
              "#d8576b"
             ],
             [
              0.6666666666666666,
              "#ed7953"
             ],
             [
              0.7777777777777778,
              "#fb9f3a"
             ],
             [
              0.8888888888888888,
              "#fdca26"
             ],
             [
              1,
              "#f0f921"
             ]
            ],
            "type": "surface"
           }
          ],
          "table": [
           {
            "cells": {
             "fill": {
              "color": "#EBF0F8"
             },
             "line": {
              "color": "white"
             }
            },
            "header": {
             "fill": {
              "color": "#C8D4E3"
             },
             "line": {
              "color": "white"
             }
            },
            "type": "table"
           }
          ]
         },
         "layout": {
          "annotationdefaults": {
           "arrowcolor": "#2a3f5f",
           "arrowhead": 0,
           "arrowwidth": 1
          },
          "autotypenumbers": "strict",
          "coloraxis": {
           "colorbar": {
            "outlinewidth": 0,
            "ticks": ""
           }
          },
          "colorscale": {
           "diverging": [
            [
             0,
             "#8e0152"
            ],
            [
             0.1,
             "#c51b7d"
            ],
            [
             0.2,
             "#de77ae"
            ],
            [
             0.3,
             "#f1b6da"
            ],
            [
             0.4,
             "#fde0ef"
            ],
            [
             0.5,
             "#f7f7f7"
            ],
            [
             0.6,
             "#e6f5d0"
            ],
            [
             0.7,
             "#b8e186"
            ],
            [
             0.8,
             "#7fbc41"
            ],
            [
             0.9,
             "#4d9221"
            ],
            [
             1,
             "#276419"
            ]
           ],
           "sequential": [
            [
             0,
             "#0d0887"
            ],
            [
             0.1111111111111111,
             "#46039f"
            ],
            [
             0.2222222222222222,
             "#7201a8"
            ],
            [
             0.3333333333333333,
             "#9c179e"
            ],
            [
             0.4444444444444444,
             "#bd3786"
            ],
            [
             0.5555555555555556,
             "#d8576b"
            ],
            [
             0.6666666666666666,
             "#ed7953"
            ],
            [
             0.7777777777777778,
             "#fb9f3a"
            ],
            [
             0.8888888888888888,
             "#fdca26"
            ],
            [
             1,
             "#f0f921"
            ]
           ],
           "sequentialminus": [
            [
             0,
             "#0d0887"
            ],
            [
             0.1111111111111111,
             "#46039f"
            ],
            [
             0.2222222222222222,
             "#7201a8"
            ],
            [
             0.3333333333333333,
             "#9c179e"
            ],
            [
             0.4444444444444444,
             "#bd3786"
            ],
            [
             0.5555555555555556,
             "#d8576b"
            ],
            [
             0.6666666666666666,
             "#ed7953"
            ],
            [
             0.7777777777777778,
             "#fb9f3a"
            ],
            [
             0.8888888888888888,
             "#fdca26"
            ],
            [
             1,
             "#f0f921"
            ]
           ]
          },
          "colorway": [
           "#636efa",
           "#EF553B",
           "#00cc96",
           "#ab63fa",
           "#FFA15A",
           "#19d3f3",
           "#FF6692",
           "#B6E880",
           "#FF97FF",
           "#FECB52"
          ],
          "font": {
           "color": "#2a3f5f"
          },
          "geo": {
           "bgcolor": "white",
           "lakecolor": "white",
           "landcolor": "#E5ECF6",
           "showlakes": true,
           "showland": true,
           "subunitcolor": "white"
          },
          "hoverlabel": {
           "align": "left"
          },
          "hovermode": "closest",
          "mapbox": {
           "style": "light"
          },
          "paper_bgcolor": "white",
          "plot_bgcolor": "#E5ECF6",
          "polar": {
           "angularaxis": {
            "gridcolor": "white",
            "linecolor": "white",
            "ticks": ""
           },
           "bgcolor": "#E5ECF6",
           "radialaxis": {
            "gridcolor": "white",
            "linecolor": "white",
            "ticks": ""
           }
          },
          "scene": {
           "xaxis": {
            "backgroundcolor": "#E5ECF6",
            "gridcolor": "white",
            "gridwidth": 2,
            "linecolor": "white",
            "showbackground": true,
            "ticks": "",
            "zerolinecolor": "white"
           },
           "yaxis": {
            "backgroundcolor": "#E5ECF6",
            "gridcolor": "white",
            "gridwidth": 2,
            "linecolor": "white",
            "showbackground": true,
            "ticks": "",
            "zerolinecolor": "white"
           },
           "zaxis": {
            "backgroundcolor": "#E5ECF6",
            "gridcolor": "white",
            "gridwidth": 2,
            "linecolor": "white",
            "showbackground": true,
            "ticks": "",
            "zerolinecolor": "white"
           }
          },
          "shapedefaults": {
           "line": {
            "color": "#2a3f5f"
           }
          },
          "ternary": {
           "aaxis": {
            "gridcolor": "white",
            "linecolor": "white",
            "ticks": ""
           },
           "baxis": {
            "gridcolor": "white",
            "linecolor": "white",
            "ticks": ""
           },
           "bgcolor": "#E5ECF6",
           "caxis": {
            "gridcolor": "white",
            "linecolor": "white",
            "ticks": ""
           }
          },
          "title": {
           "x": 0.05
          },
          "xaxis": {
           "automargin": true,
           "gridcolor": "white",
           "linecolor": "white",
           "ticks": "",
           "title": {
            "standoff": 15
           },
           "zerolinecolor": "white",
           "zerolinewidth": 2
          },
          "yaxis": {
           "automargin": true,
           "gridcolor": "white",
           "linecolor": "white",
           "ticks": "",
           "title": {
            "standoff": 15
           },
           "zerolinecolor": "white",
           "zerolinewidth": 2
          }
         }
        },
        "title": {
         "text": "Hydrocellular vs Hydrocolloid Cured Cases"
        }
       }
      },
      "image/png": "[encoded data removed]",
      "text/html": [
       "<div>                            <div id=\"41d22847-7037-41f4-b322-caf26c27306a\" class=\"plotly-graph-div\" style=\"height:525px; width:100%;\"></div>            <script type=\"text/javascript\">                require([\"plotly\"], function(Plotly) {                    window.PLOTLYENV=window.PLOTLYENV || {};                                    if (document.getElementById(\"41d22847-7037-41f4-b322-caf26c27306a\")) {                    Plotly.newPlot(                        \"41d22847-7037-41f4-b322-caf26c27306a\",                        [{\"insidetextorientation\":\"radial\",\"labels\":[\"Cured\",\"Not Cured\"],\"name\":\"Hydrocellular\",\"textinfo\":\"label+percent\",\"values\":[3,81],\"type\":\"pie\",\"domain\":{\"x\":[0.0,0.45],\"y\":[0.0,1.0]},\"marker\":{\"colors\":[\"teal\",\"darkorange\"]},\"hole\":0.5},{\"insidetextorientation\":\"radial\",\"labels\":[\"Cured\",\"Not Cured\"],\"name\":\"Hydrocolloid\",\"textinfo\":\"label+percent\",\"values\":[5,80],\"type\":\"pie\",\"domain\":{\"x\":[0.55,1.0],\"y\":[0.0,1.0]},\"marker\":{\"colors\":[\"teal\",\"darkorange\"]},\"hole\":0.5}],                        {\"template\":{\"data\":{\"histogram2dcontour\":[{\"type\":\"histogram2dcontour\",\"colorbar\":{\"outlinewidth\":0,\"ticks\":\"\"},\"colorscale\":[[0.0,\"#0d0887\"],[0.1111111111111111,\"#46039f\"],[0.2222222222222222,\"#7201a8\"],[0.3333333333333333,\"#9c179e\"],[0.4444444444444444,\"#bd3786\"],[0.5555555555555556,\"#d8576b\"],[0.6666666666666666,\"#ed7953\"],[0.7777777777777778,\"#fb9f3a\"],[0.8888888888888888,\"#fdca26\"],[1.0,\"#f0f921\"]]}],\"choropleth\":[{\"type\":\"choropleth\",\"colorbar\":{\"outlinewidth\":0,\"ticks\":\"\"}}],\"histogram2d\":[{\"type\":\"histogram2d\",\"colorbar\":{\"outlinewidth\":0,\"ticks\":\"\"},\"colorscale\":[[0.0,\"#0d0887\"],[0.1111111111111111,\"#46039f\"],[0.2222222222222222,\"#7201a8\"],[0.3333333333333333,\"#9c179e\"],[0.4444444444444444,\"#bd3786\"],[0.5555555555555556,\"#d8576b\"],[0.6666666666666666,\"#ed7953\"],[0.7777777777777778,\"#fb9f3a\"],[0.8888888888888888,\"#fdca26\"],[1.0,\"#f0f921\"]]}],\"heatmap\":[{\"type\":\"heatmap\",\"colorbar\":{\"outlinewidth\":0,\"ticks\":\"\"},\"colorscale\":[[0.0,\"#0d0887\"],[0.1111111111111111,\"#46039f\"],[0.2222222222222222,\"#7201a8\"],[0.3333333333333333,\"#9c179e\"],[0.4444444444444444,\"#bd3786\"],[0.5555555555555556,\"#d8576b\"],[0.6666666666666666,\"#ed7953\"],[0.7777777777777778,\"#fb9f3a\"],[0.8888888888888888,\"#fdca26\"],[1.0,\"#f0f921\"]]}],\"heatmapgl\":[{\"type\":\"heatmapgl\",\"colorbar\":{\"outlinewidth\":0,\"ticks\":\"\"},\"colorscale\":[[0.0,\"#0d0887\"],[0.1111111111111111,\"#46039f\"],[0.2222222222222222,\"#7201a8\"],[0.3333333333333333,\"#9c179e\"],[0.4444444444444444,\"#bd3786\"],[0.5555555555555556,\"#d8576b\"],[0.6666666666666666,\"#ed7953\"],[0.7777777777777778,\"#fb9f3a\"],[0.8888888888888888,\"#fdca26\"],[1.0,\"#f0f921\"]]}],\"contourcarpet\":[{\"type\":\"contourcarpet\",\"colorbar\":{\"outlinewidth\":0,\"ticks\":\"\"}}],\"contour\":[{\"type\":\"contour\",\"colorbar\":{\"outlinewidth\":0,\"ticks\":\"\"},\"colorscale\":[[0.0,\"#0d0887\"],[0.1111111111111111,\"#46039f\"],[0.2222222222222222,\"#7201a8\"],[0.3333333333333333,\"#9c179e\"],[0.4444444444444444,\"#bd3786\"],[0.5555555555555556,\"#d8576b\"],[0.6666666666666666,\"#ed7953\"],[0.7777777777777778,\"#fb9f3a\"],[0.8888888888888888,\"#fdca26\"],[1.0,\"#f0f921\"]]}],\"surface\":[{\"type\":\"surface\",\"colorbar\":{\"outlinewidth\":0,\"ticks\":\"\"},\"colorscale\":[[0.0,\"#0d0887\"],[0.1111111111111111,\"#46039f\"],[0.2222222222222222,\"#7201a8\"],[0.3333333333333333,\"#9c179e\"],[0.4444444444444444,\"#bd3786\"],[0.5555555555555556,\"#d8576b\"],[0.6666666666666666,\"#ed7953\"],[0.7777777777777778,\"#fb9f3a\"],[0.8888888888888888,\"#fdca26\"],[1.0,\"#f0f921\"]]}],\"mesh3d\":[{\"type\":\"mesh3d\",\"colorbar\":{\"outlinewidth\":0,\"ticks\":\"\"}}],\"scatter\":[{\"fillpattern\":{\"fillmode\":\"overlay\",\"size\":10,\"solidity\":0.2},\"type\":\"scatter\"}],\"parcoords\":[{\"type\":\"parcoords\",\"line\":{\"colorbar\":{\"outlinewidth\":0,\"ticks\":\"\"}}}],\"scatterpolargl\":[{\"type\":\"scatterpolargl\",\"marker\":{\"colorbar\":{\"outlinewidth\":0,\"ticks\":\"\"}}}],\"bar\":[{\"error_x\":{\"color\":\"#2a3f5f\"},\"error_y\":{\"color\":\"#2a3f5f\"},\"marker\":{\"line\":{\"color\":\"#E5ECF6\",\"width\":0.5},\"pattern\":{\"fillmode\":\"overlay\",\"size\":10,\"solidity\":0.2}},\"type\":\"bar\"}],\"scattergeo\":[{\"type\":\"scattergeo\",\"marker\":{\"colorbar\":{\"outlinewidth\":0,\"ticks\":\"\"}}}],\"scatterpolar\":[{\"type\":\"scatterpolar\",\"marker\":{\"colorbar\":{\"outlinewidth\":0,\"ticks\":\"\"}}}],\"histogram\":[{\"marker\":{\"pattern\":{\"fillmode\":\"overlay\",\"size\":10,\"solidity\":0.2}},\"type\":\"histogram\"}],\"scattergl\":[{\"type\":\"scattergl\",\"marker\":{\"colorbar\":{\"outlinewidth\":0,\"ticks\":\"\"}}}],\"scatter3d\":[{\"type\":\"scatter3d\",\"line\":{\"colorbar\":{\"outlinewidth\":0,\"ticks\":\"\"}},\"marker\":{\"colorbar\":{\"outlinewidth\":0,\"ticks\":\"\"}}}],\"scattermapbox\":[{\"type\":\"scattermapbox\",\"marker\":{\"colorbar\":{\"outlinewidth\":0,\"ticks\":\"\"}}}],\"scatterternary\":[{\"type\":\"scatterternary\",\"marker\":{\"colorbar\":{\"outlinewidth\":0,\"ticks\":\"\"}}}],\"scattercarpet\":[{\"type\":\"scattercarpet\",\"marker\":{\"colorbar\":{\"outlinewidth\":0,\"ticks\":\"\"}}}],\"carpet\":[{\"aaxis\":{\"endlinecolor\":\"#2a3f5f\",\"gridcolor\":\"white\",\"linecolor\":\"white\",\"minorgridcolor\":\"white\",\"startlinecolor\":\"#2a3f5f\"},\"baxis\":{\"endlinecolor\":\"#2a3f5f\",\"gridcolor\":\"white\",\"linecolor\":\"white\",\"minorgridcolor\":\"white\",\"startlinecolor\":\"#2a3f5f\"},\"type\":\"carpet\"}],\"table\":[{\"cells\":{\"fill\":{\"color\":\"#EBF0F8\"},\"line\":{\"color\":\"white\"}},\"header\":{\"fill\":{\"color\":\"#C8D4E3\"},\"line\":{\"color\":\"white\"}},\"type\":\"table\"}],\"barpolar\":[{\"marker\":{\"line\":{\"color\":\"#E5ECF6\",\"width\":0.5},\"pattern\":{\"fillmode\":\"overlay\",\"size\":10,\"solidity\":0.2}},\"type\":\"barpolar\"}],\"pie\":[{\"automargin\":true,\"type\":\"pie\"}]},\"layout\":{\"autotypenumbers\":\"strict\",\"colorway\":[\"#636efa\",\"#EF553B\",\"#00cc96\",\"#ab63fa\",\"#FFA15A\",\"#19d3f3\",\"#FF6692\",\"#B6E880\",\"#FF97FF\",\"#FECB52\"],\"font\":{\"color\":\"#2a3f5f\"},\"hovermode\":\"closest\",\"hoverlabel\":{\"align\":\"left\"},\"paper_bgcolor\":\"white\",\"plot_bgcolor\":\"#E5ECF6\",\"polar\":{\"bgcolor\":\"#E5ECF6\",\"angularaxis\":{\"gridcolor\":\"white\",\"linecolor\":\"white\",\"ticks\":\"\"},\"radialaxis\":{\"gridcolor\":\"white\",\"linecolor\":\"white\",\"ticks\":\"\"}},\"ternary\":{\"bgcolor\":\"#E5ECF6\",\"aaxis\":{\"gridcolor\":\"white\",\"linecolor\":\"white\",\"ticks\":\"\"},\"baxis\":{\"gridcolor\":\"white\",\"linecolor\":\"white\",\"ticks\":\"\"},\"caxis\":{\"gridcolor\":\"white\",\"linecolor\":\"white\",\"ticks\":\"\"}},\"coloraxis\":{\"colorbar\":{\"outlinewidth\":0,\"ticks\":\"\"}},\"colorscale\":{\"sequential\":[[0.0,\"#0d0887\"],[0.1111111111111111,\"#46039f\"],[0.2222222222222222,\"#7201a8\"],[0.3333333333333333,\"#9c179e\"],[0.4444444444444444,\"#bd3786\"],[0.5555555555555556,\"#d8576b\"],[0.6666666666666666,\"#ed7953\"],[0.7777777777777778,\"#fb9f3a\"],[0.8888888888888888,\"#fdca26\"],[1.0,\"#f0f921\"]],\"sequentialminus\":[[0.0,\"#0d0887\"],[0.1111111111111111,\"#46039f\"],[0.2222222222222222,\"#7201a8\"],[0.3333333333333333,\"#9c179e\"],[0.4444444444444444,\"#bd3786\"],[0.5555555555555556,\"#d8576b\"],[0.6666666666666666,\"#ed7953\"],[0.7777777777777778,\"#fb9f3a\"],[0.8888888888888888,\"#fdca26\"],[1.0,\"#f0f921\"]],\"diverging\":[[0,\"#8e0152\"],[0.1,\"#c51b7d\"],[0.2,\"#de77ae\"],[0.3,\"#f1b6da\"],[0.4,\"#fde0ef\"],[0.5,\"#f7f7f7\"],[0.6,\"#e6f5d0\"],[0.7,\"#b8e186\"],[0.8,\"#7fbc41\"],[0.9,\"#4d9221\"],[1,\"#276419\"]]},\"xaxis\":{\"gridcolor\":\"white\",\"linecolor\":\"white\",\"ticks\":\"\",\"title\":{\"standoff\":15},\"zerolinecolor\":\"white\",\"automargin\":true,\"zerolinewidth\":2},\"yaxis\":{\"gridcolor\":\"white\",\"linecolor\":\"white\",\"ticks\":\"\",\"title\":{\"standoff\":15},\"zerolinecolor\":\"white\",\"automargin\":true,\"zerolinewidth\":2},\"scene\":{\"xaxis\":{\"backgroundcolor\":\"#E5ECF6\",\"gridcolor\":\"white\",\"linecolor\":\"white\",\"showbackground\":true,\"ticks\":\"\",\"zerolinecolor\":\"white\",\"gridwidth\":2},\"yaxis\":{\"backgroundcolor\":\"#E5ECF6\",\"gridcolor\":\"white\",\"linecolor\":\"white\",\"showbackground\":true,\"ticks\":\"\",\"zerolinecolor\":\"white\",\"gridwidth\":2},\"zaxis\":{\"backgroundcolor\":\"#E5ECF6\",\"gridcolor\":\"white\",\"linecolor\":\"white\",\"showbackground\":true,\"ticks\":\"\",\"zerolinecolor\":\"white\",\"gridwidth\":2}},\"shapedefaults\":{\"line\":{\"color\":\"#2a3f5f\"}},\"annotationdefaults\":{\"arrowcolor\":\"#2a3f5f\",\"arrowhead\":0,\"arrowwidth\":1},\"geo\":{\"bgcolor\":\"white\",\"landcolor\":\"#E5ECF6\",\"subunitcolor\":\"white\",\"showland\":true,\"showlakes\":true,\"lakecolor\":\"white\"},\"title\":{\"x\":0.05},\"mapbox\":{\"style\":\"light\"}}},\"title\":{\"text\":\"Hydrocellular vs Hydrocolloid Cured Cases\"},\"annotations\":[{\"showarrow\":false,\"text\":\"Hydrocellular\",\"x\":0.17,\"y\":0.5,\"font\":{\"size\":13}},{\"showarrow\":false,\"text\":\"Hydrocolloid\",\"x\":0.83,\"y\":0.5,\"font\":{\"size\":13}}]},                        {\"responsive\": true}                    ).then(function(){\n",
       "                            \n",
       "var gd = document.getElementById('41d22847-7037-41f4-b322-caf26c27306a');\n",
       "var x = new MutationObserver(function (mutations, observer) {{\n",
       "        var display = window.getComputedStyle(gd).display;\n",
       "        if (!display || display === 'none') {{\n",
       "            console.log([gd, 'removed!']);\n",
       "            Plotly.purge(gd);\n",
       "            observer.disconnect();\n",
       "        }}\n",
       "}});\n",
       "\n",
       "// Listen for the removal of the full notebook cells\n",
       "var notebookContainer = gd.closest('#notebook-container');\n",
       "if (notebookContainer) {{\n",
       "    x.observe(notebookContainer, {childList: true});\n",
       "}}\n",
       "\n",
       "// Listen for the clearing of the current output cell\n",
       "var outputEl = gd.closest('.output');\n",
       "if (outputEl) {{\n",
       "    x.observe(outputEl, {childList: true});\n",
       "}}\n",
       "\n",
       "                        })                };                });            </script>        </div>"
      ]
     },
     "metadata": {},
     "output_type": "display_data"
    }
   ],
   "source": [
    "# Pie chart of the Cured and Not Cured cases for Hydrocellular and Hydrocolloid\n",
    "\n",
    "labels=['Cured','Not Cured']                                                          \n",
    "\n",
    "c_ar = analysis_df.loc[(analysis_df['Dressing type'] == 'Hydrocellular') & (analysis_df['Cured: 1, no cured: 2'] == 1)]['Cured: 1, no cured: 2'].count() \n",
    "n_ar = analysis_df.loc[(analysis_df['Dressing type'] == 'Hydrocellular') & (analysis_df['Cured: 1, no cured: 2'] == 2)]['Cured: 1, no cured: 2'].count()\n",
    "\n",
    "\n",
    "c_id  = analysis_df.loc[(analysis_df['Dressing type'] == 'Hydrocolloid') & (analysis_df['Cured: 1, no cured: 2'] == 1)]['Cured: 1, no cured: 2'].count() \n",
    "n_id  = analysis_df.loc[(analysis_df['Dressing type'] == 'Hydrocolloid') & (analysis_df['Cured: 1, no cured: 2'] == 2)]['Cured: 1, no cured: 2'].count()\n",
    "\n",
    "\n",
    "\n",
    "values_ar = [c_ar, n_ar]\n",
    "values_id = [c_id, n_id]\n",
    "\n",
    "fig = make_subplots(rows=1, cols=2, specs=[[{'type':'domain'}, {'type':'domain'}]])\n",
    "\n",
    "fig.add_trace(go.Pie(labels=labels, values=values_ar, textinfo='label+percent',\n",
    "                             insidetextorientation='radial'\n",
    "                            , name= \"Hydrocellular\"), 1, 1)\n",
    "\n",
    "fig.add_trace(go.Pie(labels=labels, values=values_id, textinfo='label+percent',\n",
    "                             insidetextorientation='radial'\n",
    "                            , name= \"Hydrocolloid\"), 1, 2)\n",
    "\n",
    "colors = ['teal', 'darkorange']\n",
    "\n",
    "\n",
    "fig.update_traces(hole=.5, marker=dict(colors=colors))\n",
    "\n",
    "\n",
    "\n",
    "fig.update_layout(title_text='Hydrocellular vs Hydrocolloid Cured Cases', \n",
    "                  annotations=[\n",
    "                      dict(text='Hydrocellular', x=0.17, y=0.5, font_size=13, showarrow=False),\n",
    "                      dict(text='Hydrocolloid', x=0.83, y=0.5, font_size=13, showarrow=False)])"
   ]
  },
  {
   "cell_type": "code",
   "execution_count": 16,
   "id": "37d5e73e-a3fa-468a-b433-5eccecb83e60",
   "metadata": {
    "tags": []
   },
   "outputs": [
    {
     "data": {
      "text/html": [
       "<div>\n",
       "<style scoped>\n",
       "    .dataframe tbody tr th:only-of-type {\n",
       "        vertical-align: middle;\n",
       "    }\n",
       "\n",
       "    .dataframe tbody tr th {\n",
       "        vertical-align: top;\n",
       "    }\n",
       "\n",
       "    .dataframe thead th {\n",
       "        text-align: right;\n",
       "    }\n",
       "</style>\n",
       "<table border=\"1\" class=\"dataframe\">\n",
       "  <thead>\n",
       "    <tr style=\"text-align: right;\">\n",
       "      <th></th>\n",
       "      <th>ID code</th>\n",
       "      <th>Sex</th>\n",
       "      <th>Age</th>\n",
       "      <th>Baseline visit</th>\n",
       "      <th>num. visit</th>\n",
       "      <th>Dressing type</th>\n",
       "      <th>Ulcer_stage</th>\n",
       "      <th>Cured: 1, no cured: 2</th>\n",
       "      <th>infected</th>\n",
       "      <th>Postural changes</th>\n",
       "      <th>red_friccion</th>\n",
       "      <th>Avoided_infecion</th>\n",
       "      <th>Braden Scale</th>\n",
       "      <th>Push Scale</th>\n",
       "      <th>porc_postural changes</th>\n",
       "      <th>porc_friccion</th>\n",
       "      <th>porc_infec</th>\n",
       "      <th>Loss to follow up</th>\n",
       "      <th>Location</th>\n",
       "    </tr>\n",
       "  </thead>\n",
       "  <tbody>\n",
       "    <tr>\n",
       "      <th>14</th>\n",
       "      <td>460005</td>\n",
       "      <td>Male</td>\n",
       "      <td>59</td>\n",
       "      <td>2014-10-14</td>\n",
       "      <td>8.0</td>\n",
       "      <td>Hydrocolloid</td>\n",
       "      <td>2</td>\n",
       "      <td>1</td>\n",
       "      <td>2</td>\n",
       "      <td>6</td>\n",
       "      <td>6</td>\n",
       "      <td>6</td>\n",
       "      <td>Riesgo alto</td>\n",
       "      <td>4</td>\n",
       "      <td>1.0</td>\n",
       "      <td>1.000000</td>\n",
       "      <td>1.000000</td>\n",
       "      <td>2</td>\n",
       "      <td>Trochanter</td>\n",
       "    </tr>\n",
       "    <tr>\n",
       "      <th>25</th>\n",
       "      <td>50016</td>\n",
       "      <td>Female</td>\n",
       "      <td>99</td>\n",
       "      <td>2015-08-12</td>\n",
       "      <td>8.0</td>\n",
       "      <td>Hydrocolloid</td>\n",
       "      <td>2</td>\n",
       "      <td>1</td>\n",
       "      <td>2</td>\n",
       "      <td>6</td>\n",
       "      <td>6</td>\n",
       "      <td>6</td>\n",
       "      <td>Riesgo bajo</td>\n",
       "      <td>4</td>\n",
       "      <td>1.0</td>\n",
       "      <td>1.000000</td>\n",
       "      <td>1.000000</td>\n",
       "      <td>2</td>\n",
       "      <td>Heel</td>\n",
       "    </tr>\n",
       "    <tr>\n",
       "      <th>62</th>\n",
       "      <td>140002</td>\n",
       "      <td>Female</td>\n",
       "      <td>91</td>\n",
       "      <td>2014-09-15</td>\n",
       "      <td>8.0</td>\n",
       "      <td>Hydrocolloid</td>\n",
       "      <td>2</td>\n",
       "      <td>1</td>\n",
       "      <td>2</td>\n",
       "      <td>6</td>\n",
       "      <td>6</td>\n",
       "      <td>6</td>\n",
       "      <td>Riesgo alto</td>\n",
       "      <td>5</td>\n",
       "      <td>1.0</td>\n",
       "      <td>1.000000</td>\n",
       "      <td>1.000000</td>\n",
       "      <td>2</td>\n",
       "      <td>Sacrum</td>\n",
       "    </tr>\n",
       "    <tr>\n",
       "      <th>63</th>\n",
       "      <td>160002</td>\n",
       "      <td>Female</td>\n",
       "      <td>86</td>\n",
       "      <td>2014-04-08</td>\n",
       "      <td>8.0</td>\n",
       "      <td>Hydrocolloid</td>\n",
       "      <td>2</td>\n",
       "      <td>1</td>\n",
       "      <td>2</td>\n",
       "      <td>6</td>\n",
       "      <td>6</td>\n",
       "      <td>6</td>\n",
       "      <td>Riesgo alto</td>\n",
       "      <td>12</td>\n",
       "      <td>1.0</td>\n",
       "      <td>1.000000</td>\n",
       "      <td>1.000000</td>\n",
       "      <td>2</td>\n",
       "      <td>Sacrum</td>\n",
       "    </tr>\n",
       "    <tr>\n",
       "      <th>66</th>\n",
       "      <td>250004</td>\n",
       "      <td>Female</td>\n",
       "      <td>80</td>\n",
       "      <td>2014-11-03</td>\n",
       "      <td>8.0</td>\n",
       "      <td>Hydrocolloid</td>\n",
       "      <td>2</td>\n",
       "      <td>1</td>\n",
       "      <td>2</td>\n",
       "      <td>6</td>\n",
       "      <td>6</td>\n",
       "      <td>6</td>\n",
       "      <td>Riesgo alto</td>\n",
       "      <td>12</td>\n",
       "      <td>1.0</td>\n",
       "      <td>1.000000</td>\n",
       "      <td>1.000000</td>\n",
       "      <td>2</td>\n",
       "      <td>Sacrum</td>\n",
       "    </tr>\n",
       "    <tr>\n",
       "      <th>115</th>\n",
       "      <td>120003</td>\n",
       "      <td>Male</td>\n",
       "      <td>82</td>\n",
       "      <td>2014-07-02</td>\n",
       "      <td>8.0</td>\n",
       "      <td>Hydrocellular</td>\n",
       "      <td>2</td>\n",
       "      <td>1</td>\n",
       "      <td>2</td>\n",
       "      <td>6</td>\n",
       "      <td>6</td>\n",
       "      <td>6</td>\n",
       "      <td>Riesgo alto</td>\n",
       "      <td>5</td>\n",
       "      <td>1.0</td>\n",
       "      <td>1.000000</td>\n",
       "      <td>1.000000</td>\n",
       "      <td>2</td>\n",
       "      <td>Other</td>\n",
       "    </tr>\n",
       "    <tr>\n",
       "      <th>122</th>\n",
       "      <td>320002</td>\n",
       "      <td>Female</td>\n",
       "      <td>91</td>\n",
       "      <td>2014-10-09</td>\n",
       "      <td>8.0</td>\n",
       "      <td>Hydrocellular</td>\n",
       "      <td>2</td>\n",
       "      <td>1</td>\n",
       "      <td>2</td>\n",
       "      <td>0</td>\n",
       "      <td>5</td>\n",
       "      <td>5</td>\n",
       "      <td>Sin riesgo</td>\n",
       "      <td>11</td>\n",
       "      <td>0.0</td>\n",
       "      <td>0.833333</td>\n",
       "      <td>0.833333</td>\n",
       "      <td>2</td>\n",
       "      <td>Malleolus</td>\n",
       "    </tr>\n",
       "    <tr>\n",
       "      <th>137</th>\n",
       "      <td>360002</td>\n",
       "      <td>Female</td>\n",
       "      <td>77</td>\n",
       "      <td>2014-09-24</td>\n",
       "      <td>8.0</td>\n",
       "      <td>Hydrocellular</td>\n",
       "      <td>2</td>\n",
       "      <td>1</td>\n",
       "      <td>2</td>\n",
       "      <td>6</td>\n",
       "      <td>6</td>\n",
       "      <td>6</td>\n",
       "      <td>Riesgo moderado</td>\n",
       "      <td>15</td>\n",
       "      <td>1.0</td>\n",
       "      <td>1.000000</td>\n",
       "      <td>1.000000</td>\n",
       "      <td>2</td>\n",
       "      <td>Gluteus</td>\n",
       "    </tr>\n",
       "  </tbody>\n",
       "</table>\n",
       "</div>"
      ],
      "text/plain": [
       "     ID code     Sex  Age Baseline visit  num. visit  Dressing type  \\\n",
       "14    460005    Male   59     2014-10-14         8.0   Hydrocolloid   \n",
       "25     50016  Female   99     2015-08-12         8.0   Hydrocolloid   \n",
       "62    140002  Female   91     2014-09-15         8.0   Hydrocolloid   \n",
       "63    160002  Female   86     2014-04-08         8.0   Hydrocolloid   \n",
       "66    250004  Female   80     2014-11-03         8.0   Hydrocolloid   \n",
       "115   120003    Male   82     2014-07-02         8.0  Hydrocellular   \n",
       "122   320002  Female   91     2014-10-09         8.0  Hydrocellular   \n",
       "137   360002  Female   77     2014-09-24         8.0  Hydrocellular   \n",
       "\n",
       "     Ulcer_stage  Cured: 1, no cured: 2  infected  Postural changes  \\\n",
       "14             2                      1         2                 6   \n",
       "25             2                      1         2                 6   \n",
       "62             2                      1         2                 6   \n",
       "63             2                      1         2                 6   \n",
       "66             2                      1         2                 6   \n",
       "115            2                      1         2                 6   \n",
       "122            2                      1         2                 0   \n",
       "137            2                      1         2                 6   \n",
       "\n",
       "     red_friccion  Avoided_infecion     Braden Scale  Push Scale  \\\n",
       "14              6                 6      Riesgo alto           4   \n",
       "25              6                 6      Riesgo bajo           4   \n",
       "62              6                 6      Riesgo alto           5   \n",
       "63              6                 6      Riesgo alto          12   \n",
       "66              6                 6      Riesgo alto          12   \n",
       "115             6                 6      Riesgo alto           5   \n",
       "122             5                 5       Sin riesgo          11   \n",
       "137             6                 6  Riesgo moderado          15   \n",
       "\n",
       "     porc_postural changes  porc_friccion  porc_infec  Loss to follow up  \\\n",
       "14                     1.0       1.000000    1.000000                  2   \n",
       "25                     1.0       1.000000    1.000000                  2   \n",
       "62                     1.0       1.000000    1.000000                  2   \n",
       "63                     1.0       1.000000    1.000000                  2   \n",
       "66                     1.0       1.000000    1.000000                  2   \n",
       "115                    1.0       1.000000    1.000000                  2   \n",
       "122                    0.0       0.833333    0.833333                  2   \n",
       "137                    1.0       1.000000    1.000000                  2   \n",
       "\n",
       "       Location  \n",
       "14   Trochanter  \n",
       "25         Heel  \n",
       "62       Sacrum  \n",
       "63       Sacrum  \n",
       "66       Sacrum  \n",
       "115       Other  \n",
       "122   Malleolus  \n",
       "137     Gluteus  "
      ]
     },
     "execution_count": 16,
     "metadata": {},
     "output_type": "execute_result"
    }
   ],
   "source": [
    "# Sanity check\n",
    "analysis_df.loc[analysis_df['Cured: 1, no cured: 2'] == 1]"
   ]
  },
  {
   "cell_type": "code",
   "execution_count": 17,
   "id": "c4e422e4-e318-419d-92e9-798d0acb679d",
   "metadata": {},
   "outputs": [
    {
     "data": {
      "text/plain": [
       "14     2\n",
       "25     2\n",
       "62     2\n",
       "63     2\n",
       "66     2\n",
       "115    2\n",
       "122    2\n",
       "137    2\n",
       "Name: infected, dtype: int64"
      ]
     },
     "execution_count": 17,
     "metadata": {},
     "output_type": "execute_result"
    }
   ],
   "source": [
    "# Sanity check\n",
    "analysis_df.loc[analysis_df['Cured: 1, no cured: 2'] == 1]['infected']"
   ]
  },
  {
   "cell_type": "code",
   "execution_count": 18,
   "id": "0fc6110f-c7e2-421d-8fcc-c0a17e00872a",
   "metadata": {
    "tags": []
   },
   "outputs": [
    {
     "data": {
      "text/plain": [
       "14      4\n",
       "25      4\n",
       "62      5\n",
       "63     12\n",
       "66     12\n",
       "115     5\n",
       "122    11\n",
       "137    15\n",
       "Name: Push Scale, dtype: int64"
      ]
     },
     "execution_count": 18,
     "metadata": {},
     "output_type": "execute_result"
    }
   ],
   "source": [
    "# Sanity check\n",
    "analysis_df.loc[analysis_df['Cured: 1, no cured: 2'] == 1]['Push Scale']"
   ]
  },
  {
   "cell_type": "code",
   "execution_count": 19,
   "id": "b90ad6a5-fa7a-49b7-b632-cd368b316321",
   "metadata": {
    "tags": []
   },
   "outputs": [
    {
     "data": {
      "text/plain": [
       "array([15,  4,  6, 12,  5, 16, 11, 13,  9,  8,  7, 14, 10,  3,  1,  2])"
      ]
     },
     "execution_count": 19,
     "metadata": {},
     "output_type": "execute_result"
    }
   ],
   "source": [
    "# Sanity check\n",
    "analysis_df['Push Scale'].unique()"
   ]
  },
  {
   "cell_type": "code",
   "execution_count": 20,
   "id": "e7824571-ecba-4e31-98d5-efcb83eb38c7",
   "metadata": {
    "tags": []
   },
   "outputs": [
    {
     "data": {
      "text/plain": [
       "array(['Trochanter', 'Heel', 'Sacrum', 'Other', 'Malleolus', 'Gluteus'],\n",
       "      dtype=object)"
      ]
     },
     "execution_count": 20,
     "metadata": {},
     "output_type": "execute_result"
    }
   ],
   "source": [
    "analysis_df['Location'].unique()"
   ]
  },
  {
   "cell_type": "code",
   "execution_count": 21,
   "id": "0d189eef-a41a-4b47-96db-82e3a542a833",
   "metadata": {
    "tags": []
   },
   "outputs": [
    {
     "data": {
      "application/vnd.plotly.v1+json": {
       "config": {
        "plotlyServerURL": "https://plot.ly"
       },
       "data": [
        {
         "coloraxis": "coloraxis",
         "histfunc": "sum",
         "hovertemplate": "Location=%{x}<br>Dressing type=%{y}<br>sum of Cured: 1, no cured: 2=%{z}<extra></extra>",
         "name": "",
         "type": "histogram2d",
         "x": [
          "Trochanter",
          "Trochanter",
          "Trochanter",
          "Trochanter",
          "Trochanter",
          "Trochanter",
          "Trochanter",
          "Trochanter",
          "Trochanter",
          "Trochanter",
          "Trochanter",
          "Trochanter",
          "Trochanter",
          "Trochanter",
          "Trochanter",
          "Heel",
          "Heel",
          "Heel",
          "Heel",
          "Heel",
          "Heel",
          "Heel",
          "Heel",
          "Heel",
          "Heel",
          "Heel",
          "Heel",
          "Heel",
          "Heel",
          "Heel",
          "Heel",
          "Heel",
          "Heel",
          "Heel",
          "Sacrum",
          "Sacrum",
          "Sacrum",
          "Sacrum",
          "Sacrum",
          "Sacrum",
          "Sacrum",
          "Sacrum",
          "Sacrum",
          "Sacrum",
          "Sacrum",
          "Sacrum",
          "Sacrum",
          "Sacrum",
          "Sacrum",
          "Sacrum",
          "Sacrum",
          "Sacrum",
          "Sacrum",
          "Sacrum",
          "Sacrum",
          "Sacrum",
          "Sacrum",
          "Sacrum",
          "Sacrum",
          "Sacrum",
          "Sacrum",
          "Sacrum",
          "Sacrum",
          "Sacrum",
          "Sacrum",
          "Sacrum",
          "Sacrum",
          "Sacrum",
          "Sacrum",
          "Sacrum",
          "Sacrum",
          "Sacrum",
          "Sacrum",
          "Sacrum",
          "Sacrum",
          "Sacrum",
          "Sacrum",
          "Sacrum",
          "Sacrum",
          "Sacrum",
          "Sacrum",
          "Sacrum",
          "Sacrum",
          "Sacrum",
          "Sacrum",
          "Sacrum",
          "Sacrum",
          "Sacrum",
          "Sacrum",
          "Sacrum",
          "Sacrum",
          "Sacrum",
          "Sacrum",
          "Sacrum",
          "Sacrum",
          "Sacrum",
          "Sacrum",
          "Sacrum",
          "Sacrum",
          "Sacrum",
          "Sacrum",
          "Sacrum",
          "Sacrum",
          "Sacrum",
          "Sacrum",
          "Sacrum",
          "Sacrum",
          "Sacrum",
          "Sacrum",
          "Other",
          "Other",
          "Other",
          "Other",
          "Other",
          "Other",
          "Other",
          "Other",
          "Other",
          "Other",
          "Other",
          "Other",
          "Other",
          "Malleolus",
          "Malleolus",
          "Malleolus",
          "Malleolus",
          "Malleolus",
          "Malleolus",
          "Malleolus",
          "Gluteus",
          "Gluteus",
          "Gluteus",
          "Gluteus",
          "Gluteus",
          "Gluteus",
          "Gluteus",
          "Gluteus",
          "Gluteus",
          "Gluteus",
          "Gluteus",
          "Gluteus",
          "Gluteus",
          "Gluteus",
          "Gluteus",
          "Gluteus",
          "Gluteus",
          "Gluteus",
          "Gluteus",
          "Gluteus",
          "Gluteus",
          "Gluteus",
          "Gluteus",
          "Gluteus",
          "Gluteus",
          "Gluteus",
          "Gluteus",
          "Gluteus",
          "Gluteus",
          "Gluteus",
          "Gluteus",
          "Gluteus",
          "Gluteus",
          "Gluteus",
          "Gluteus",
          "Gluteus",
          "Gluteus",
          "Gluteus",
          "Gluteus",
          "Gluteus"
         ],
         "xaxis": "x",
         "xbingroup": "x",
         "y": [
          "Hydrocellular",
          "Hydrocellular",
          "Hydrocolloid",
          "Hydrocolloid",
          "Hydrocolloid",
          "Hydrocolloid",
          "Hydrocolloid",
          "Hydrocolloid",
          "Hydrocolloid",
          "Hydrocellular",
          "Hydrocellular",
          "Hydrocellular",
          "Hydrocellular",
          "Hydrocolloid",
          "Hydrocolloid",
          "Hydrocellular",
          "Hydrocellular",
          "Hydrocellular",
          "Hydrocellular",
          "Hydrocolloid",
          "Hydrocolloid",
          "Hydrocolloid",
          "Hydrocolloid",
          "Hydrocolloid",
          "Hydrocolloid",
          "Hydrocolloid",
          "Hydrocolloid",
          "Hydrocolloid",
          "Hydrocolloid",
          "Hydrocolloid",
          "Hydrocellular",
          "Hydrocellular",
          "Hydrocolloid",
          "Hydrocolloid",
          "Hydrocellular",
          "Hydrocellular",
          "Hydrocellular",
          "Hydrocellular",
          "Hydrocellular",
          "Hydrocellular",
          "Hydrocellular",
          "Hydrocellular",
          "Hydrocellular",
          "Hydrocellular",
          "Hydrocellular",
          "Hydrocellular",
          "Hydrocellular",
          "Hydrocellular",
          "Hydrocellular",
          "Hydrocellular",
          "Hydrocellular",
          "Hydrocellular",
          "Hydrocellular",
          "Hydrocellular",
          "Hydrocolloid",
          "Hydrocolloid",
          "Hydrocolloid",
          "Hydrocolloid",
          "Hydrocolloid",
          "Hydrocolloid",
          "Hydrocolloid",
          "Hydrocolloid",
          "Hydrocolloid",
          "Hydrocolloid",
          "Hydrocolloid",
          "Hydrocolloid",
          "Hydrocolloid",
          "Hydrocolloid",
          "Hydrocolloid",
          "Hydrocolloid",
          "Hydrocolloid",
          "Hydrocolloid",
          "Hydrocolloid",
          "Hydrocolloid",
          "Hydrocolloid",
          "Hydrocolloid",
          "Hydrocolloid",
          "Hydrocellular",
          "Hydrocellular",
          "Hydrocellular",
          "Hydrocellular",
          "Hydrocellular",
          "Hydrocellular",
          "Hydrocellular",
          "Hydrocellular",
          "Hydrocellular",
          "Hydrocellular",
          "Hydrocellular",
          "Hydrocellular",
          "Hydrocellular",
          "Hydrocellular",
          "Hydrocellular",
          "Hydrocellular",
          "Hydrocellular",
          "Hydrocellular",
          "Hydrocolloid",
          "Hydrocolloid",
          "Hydrocolloid",
          "Hydrocolloid",
          "Hydrocolloid",
          "Hydrocolloid",
          "Hydrocolloid",
          "Hydrocolloid",
          "Hydrocolloid",
          "Hydrocolloid",
          "Hydrocolloid",
          "Hydrocolloid",
          "Hydrocolloid",
          "Hydrocolloid",
          "Hydrocellular",
          "Hydrocellular",
          "Hydrocellular",
          "Hydrocellular",
          "Hydrocolloid",
          "Hydrocellular",
          "Hydrocellular",
          "Hydrocellular",
          "Hydrocellular",
          "Hydrocellular",
          "Hydrocolloid",
          "Hydrocolloid",
          "Hydrocolloid",
          "Hydrocellular",
          "Hydrocellular",
          "Hydrocolloid",
          "Hydrocellular",
          "Hydrocellular",
          "Hydrocolloid",
          "Hydrocolloid",
          "Hydrocellular",
          "Hydrocellular",
          "Hydrocellular",
          "Hydrocellular",
          "Hydrocellular",
          "Hydrocellular",
          "Hydrocellular",
          "Hydrocellular",
          "Hydrocellular",
          "Hydrocellular",
          "Hydrocellular",
          "Hydrocellular",
          "Hydrocellular",
          "Hydrocolloid",
          "Hydrocolloid",
          "Hydrocolloid",
          "Hydrocolloid",
          "Hydrocolloid",
          "Hydrocolloid",
          "Hydrocolloid",
          "Hydrocolloid",
          "Hydrocolloid",
          "Hydrocolloid",
          "Hydrocellular",
          "Hydrocellular",
          "Hydrocellular",
          "Hydrocellular",
          "Hydrocellular",
          "Hydrocellular",
          "Hydrocellular",
          "Hydrocellular",
          "Hydrocolloid",
          "Hydrocolloid",
          "Hydrocolloid",
          "Hydrocolloid",
          "Hydrocolloid",
          "Hydrocolloid",
          "Hydrocolloid",
          "Hydrocolloid",
          "Hydrocolloid"
         ],
         "yaxis": "y",
         "ybingroup": "y",
         "z": [
          2,
          2,
          2,
          2,
          2,
          2,
          2,
          2,
          2,
          2,
          2,
          2,
          2,
          2,
          1,
          2,
          2,
          2,
          2,
          2,
          2,
          2,
          2,
          2,
          2,
          1,
          2,
          2,
          2,
          2,
          2,
          2,
          2,
          2,
          2,
          2,
          2,
          2,
          2,
          2,
          2,
          2,
          2,
          2,
          2,
          2,
          2,
          2,
          2,
          2,
          2,
          2,
          2,
          2,
          2,
          2,
          2,
          2,
          2,
          2,
          2,
          2,
          1,
          1,
          2,
          2,
          1,
          2,
          2,
          2,
          2,
          2,
          2,
          2,
          2,
          2,
          2,
          2,
          2,
          2,
          2,
          2,
          2,
          2,
          2,
          2,
          2,
          2,
          2,
          2,
          2,
          2,
          2,
          2,
          2,
          2,
          2,
          2,
          2,
          2,
          2,
          2,
          2,
          2,
          2,
          2,
          2,
          2,
          2,
          2,
          2,
          2,
          2,
          2,
          2,
          1,
          2,
          2,
          2,
          2,
          2,
          2,
          1,
          2,
          2,
          2,
          2,
          2,
          2,
          2,
          2,
          2,
          2,
          2,
          2,
          2,
          2,
          1,
          2,
          2,
          2,
          2,
          2,
          2,
          2,
          2,
          2,
          2,
          2,
          2,
          2,
          2,
          2,
          2,
          2,
          2,
          2,
          2,
          2,
          2,
          2,
          2,
          2,
          2,
          2,
          2,
          2,
          2,
          2
         ]
        },
        {
         "alignmentgroup": "True",
         "bingroup": "x",
         "hovertemplate": "Location=%{x}<br>count=%{y}<extra></extra>",
         "legendgroup": "",
         "marker": {
          "color": "#0d0887"
         },
         "name": "",
         "offsetgroup": "",
         "opacity": 0.5,
         "showlegend": false,
         "type": "histogram",
         "x": [
          "Trochanter",
          "Trochanter",
          "Trochanter",
          "Trochanter",
          "Trochanter",
          "Trochanter",
          "Trochanter",
          "Trochanter",
          "Trochanter",
          "Trochanter",
          "Trochanter",
          "Trochanter",
          "Trochanter",
          "Trochanter",
          "Trochanter",
          "Heel",
          "Heel",
          "Heel",
          "Heel",
          "Heel",
          "Heel",
          "Heel",
          "Heel",
          "Heel",
          "Heel",
          "Heel",
          "Heel",
          "Heel",
          "Heel",
          "Heel",
          "Heel",
          "Heel",
          "Heel",
          "Heel",
          "Sacrum",
          "Sacrum",
          "Sacrum",
          "Sacrum",
          "Sacrum",
          "Sacrum",
          "Sacrum",
          "Sacrum",
          "Sacrum",
          "Sacrum",
          "Sacrum",
          "Sacrum",
          "Sacrum",
          "Sacrum",
          "Sacrum",
          "Sacrum",
          "Sacrum",
          "Sacrum",
          "Sacrum",
          "Sacrum",
          "Sacrum",
          "Sacrum",
          "Sacrum",
          "Sacrum",
          "Sacrum",
          "Sacrum",
          "Sacrum",
          "Sacrum",
          "Sacrum",
          "Sacrum",
          "Sacrum",
          "Sacrum",
          "Sacrum",
          "Sacrum",
          "Sacrum",
          "Sacrum",
          "Sacrum",
          "Sacrum",
          "Sacrum",
          "Sacrum",
          "Sacrum",
          "Sacrum",
          "Sacrum",
          "Sacrum",
          "Sacrum",
          "Sacrum",
          "Sacrum",
          "Sacrum",
          "Sacrum",
          "Sacrum",
          "Sacrum",
          "Sacrum",
          "Sacrum",
          "Sacrum",
          "Sacrum",
          "Sacrum",
          "Sacrum",
          "Sacrum",
          "Sacrum",
          "Sacrum",
          "Sacrum",
          "Sacrum",
          "Sacrum",
          "Sacrum",
          "Sacrum",
          "Sacrum",
          "Sacrum",
          "Sacrum",
          "Sacrum",
          "Sacrum",
          "Sacrum",
          "Sacrum",
          "Sacrum",
          "Sacrum",
          "Sacrum",
          "Other",
          "Other",
          "Other",
          "Other",
          "Other",
          "Other",
          "Other",
          "Other",
          "Other",
          "Other",
          "Other",
          "Other",
          "Other",
          "Malleolus",
          "Malleolus",
          "Malleolus",
          "Malleolus",
          "Malleolus",
          "Malleolus",
          "Malleolus",
          "Gluteus",
          "Gluteus",
          "Gluteus",
          "Gluteus",
          "Gluteus",
          "Gluteus",
          "Gluteus",
          "Gluteus",
          "Gluteus",
          "Gluteus",
          "Gluteus",
          "Gluteus",
          "Gluteus",
          "Gluteus",
          "Gluteus",
          "Gluteus",
          "Gluteus",
          "Gluteus",
          "Gluteus",
          "Gluteus",
          "Gluteus",
          "Gluteus",
          "Gluteus",
          "Gluteus",
          "Gluteus",
          "Gluteus",
          "Gluteus",
          "Gluteus",
          "Gluteus",
          "Gluteus",
          "Gluteus",
          "Gluteus",
          "Gluteus",
          "Gluteus",
          "Gluteus",
          "Gluteus",
          "Gluteus",
          "Gluteus",
          "Gluteus",
          "Gluteus"
         ],
         "xaxis": "x3",
         "yaxis": "y3"
        },
        {
         "alignmentgroup": "True",
         "bingroup": "y",
         "hovertemplate": "Dressing type=%{y}<br>count=%{x}<extra></extra>",
         "legendgroup": "",
         "marker": {
          "color": "#0d0887"
         },
         "name": "",
         "offsetgroup": "",
         "opacity": 0.5,
         "showlegend": false,
         "type": "histogram",
         "xaxis": "x2",
         "y": [
          "Hydrocellular",
          "Hydrocellular",
          "Hydrocolloid",
          "Hydrocolloid",
          "Hydrocolloid",
          "Hydrocolloid",
          "Hydrocolloid",
          "Hydrocolloid",
          "Hydrocolloid",
          "Hydrocellular",
          "Hydrocellular",
          "Hydrocellular",
          "Hydrocellular",
          "Hydrocolloid",
          "Hydrocolloid",
          "Hydrocellular",
          "Hydrocellular",
          "Hydrocellular",
          "Hydrocellular",
          "Hydrocolloid",
          "Hydrocolloid",
          "Hydrocolloid",
          "Hydrocolloid",
          "Hydrocolloid",
          "Hydrocolloid",
          "Hydrocolloid",
          "Hydrocolloid",
          "Hydrocolloid",
          "Hydrocolloid",
          "Hydrocolloid",
          "Hydrocellular",
          "Hydrocellular",
          "Hydrocolloid",
          "Hydrocolloid",
          "Hydrocellular",
          "Hydrocellular",
          "Hydrocellular",
          "Hydrocellular",
          "Hydrocellular",
          "Hydrocellular",
          "Hydrocellular",
          "Hydrocellular",
          "Hydrocellular",
          "Hydrocellular",
          "Hydrocellular",
          "Hydrocellular",
          "Hydrocellular",
          "Hydrocellular",
          "Hydrocellular",
          "Hydrocellular",
          "Hydrocellular",
          "Hydrocellular",
          "Hydrocellular",
          "Hydrocellular",
          "Hydrocolloid",
          "Hydrocolloid",
          "Hydrocolloid",
          "Hydrocolloid",
          "Hydrocolloid",
          "Hydrocolloid",
          "Hydrocolloid",
          "Hydrocolloid",
          "Hydrocolloid",
          "Hydrocolloid",
          "Hydrocolloid",
          "Hydrocolloid",
          "Hydrocolloid",
          "Hydrocolloid",
          "Hydrocolloid",
          "Hydrocolloid",
          "Hydrocolloid",
          "Hydrocolloid",
          "Hydrocolloid",
          "Hydrocolloid",
          "Hydrocolloid",
          "Hydrocolloid",
          "Hydrocolloid",
          "Hydrocellular",
          "Hydrocellular",
          "Hydrocellular",
          "Hydrocellular",
          "Hydrocellular",
          "Hydrocellular",
          "Hydrocellular",
          "Hydrocellular",
          "Hydrocellular",
          "Hydrocellular",
          "Hydrocellular",
          "Hydrocellular",
          "Hydrocellular",
          "Hydrocellular",
          "Hydrocellular",
          "Hydrocellular",
          "Hydrocellular",
          "Hydrocellular",
          "Hydrocolloid",
          "Hydrocolloid",
          "Hydrocolloid",
          "Hydrocolloid",
          "Hydrocolloid",
          "Hydrocolloid",
          "Hydrocolloid",
          "Hydrocolloid",
          "Hydrocolloid",
          "Hydrocolloid",
          "Hydrocolloid",
          "Hydrocolloid",
          "Hydrocolloid",
          "Hydrocolloid",
          "Hydrocellular",
          "Hydrocellular",
          "Hydrocellular",
          "Hydrocellular",
          "Hydrocolloid",
          "Hydrocellular",
          "Hydrocellular",
          "Hydrocellular",
          "Hydrocellular",
          "Hydrocellular",
          "Hydrocolloid",
          "Hydrocolloid",
          "Hydrocolloid",
          "Hydrocellular",
          "Hydrocellular",
          "Hydrocolloid",
          "Hydrocellular",
          "Hydrocellular",
          "Hydrocolloid",
          "Hydrocolloid",
          "Hydrocellular",
          "Hydrocellular",
          "Hydrocellular",
          "Hydrocellular",
          "Hydrocellular",
          "Hydrocellular",
          "Hydrocellular",
          "Hydrocellular",
          "Hydrocellular",
          "Hydrocellular",
          "Hydrocellular",
          "Hydrocellular",
          "Hydrocellular",
          "Hydrocolloid",
          "Hydrocolloid",
          "Hydrocolloid",
          "Hydrocolloid",
          "Hydrocolloid",
          "Hydrocolloid",
          "Hydrocolloid",
          "Hydrocolloid",
          "Hydrocolloid",
          "Hydrocolloid",
          "Hydrocellular",
          "Hydrocellular",
          "Hydrocellular",
          "Hydrocellular",
          "Hydrocellular",
          "Hydrocellular",
          "Hydrocellular",
          "Hydrocellular",
          "Hydrocolloid",
          "Hydrocolloid",
          "Hydrocolloid",
          "Hydrocolloid",
          "Hydrocolloid",
          "Hydrocolloid",
          "Hydrocolloid",
          "Hydrocolloid",
          "Hydrocolloid"
         ],
         "yaxis": "y2"
        }
       ],
       "layout": {
        "autosize": true,
        "barmode": "overlay",
        "coloraxis": {
         "colorbar": {
          "title": {
           "text": "sum of Cured: 1, no cured: 2"
          }
         },
         "colorscale": [
          [
           0,
           "#0d0887"
          ],
          [
           0.1111111111111111,
           "#46039f"
          ],
          [
           0.2222222222222222,
           "#7201a8"
          ],
          [
           0.3333333333333333,
           "#9c179e"
          ],
          [
           0.4444444444444444,
           "#bd3786"
          ],
          [
           0.5555555555555556,
           "#d8576b"
          ],
          [
           0.6666666666666666,
           "#ed7953"
          ],
          [
           0.7777777777777778,
           "#fb9f3a"
          ],
          [
           0.8888888888888888,
           "#fdca26"
          ],
          [
           1,
           "#f0f921"
          ]
         ]
        },
        "legend": {
         "tracegroupgap": 0
        },
        "margin": {
         "t": 60
        },
        "template": {
         "data": {
          "bar": [
           {
            "error_x": {
             "color": "#2a3f5f"
            },
            "error_y": {
             "color": "#2a3f5f"
            },
            "marker": {
             "line": {
              "color": "#E5ECF6",
              "width": 0.5
             },
             "pattern": {
              "fillmode": "overlay",
              "size": 10,
              "solidity": 0.2
             }
            },
            "type": "bar"
           }
          ],
          "barpolar": [
           {
            "marker": {
             "line": {
              "color": "#E5ECF6",
              "width": 0.5
             },
             "pattern": {
              "fillmode": "overlay",
              "size": 10,
              "solidity": 0.2
             }
            },
            "type": "barpolar"
           }
          ],
          "carpet": [
           {
            "aaxis": {
             "endlinecolor": "#2a3f5f",
             "gridcolor": "white",
             "linecolor": "white",
             "minorgridcolor": "white",
             "startlinecolor": "#2a3f5f"
            },
            "baxis": {
             "endlinecolor": "#2a3f5f",
             "gridcolor": "white",
             "linecolor": "white",
             "minorgridcolor": "white",
             "startlinecolor": "#2a3f5f"
            },
            "type": "carpet"
           }
          ],
          "choropleth": [
           {
            "colorbar": {
             "outlinewidth": 0,
             "ticks": ""
            },
            "type": "choropleth"
           }
          ],
          "contour": [
           {
            "colorbar": {
             "outlinewidth": 0,
             "ticks": ""
            },
            "colorscale": [
             [
              0,
              "#0d0887"
             ],
             [
              0.1111111111111111,
              "#46039f"
             ],
             [
              0.2222222222222222,
              "#7201a8"
             ],
             [
              0.3333333333333333,
              "#9c179e"
             ],
             [
              0.4444444444444444,
              "#bd3786"
             ],
             [
              0.5555555555555556,
              "#d8576b"
             ],
             [
              0.6666666666666666,
              "#ed7953"
             ],
             [
              0.7777777777777778,
              "#fb9f3a"
             ],
             [
              0.8888888888888888,
              "#fdca26"
             ],
             [
              1,
              "#f0f921"
             ]
            ],
            "type": "contour"
           }
          ],
          "contourcarpet": [
           {
            "colorbar": {
             "outlinewidth": 0,
             "ticks": ""
            },
            "type": "contourcarpet"
           }
          ],
          "heatmap": [
           {
            "colorbar": {
             "outlinewidth": 0,
             "ticks": ""
            },
            "colorscale": [
             [
              0,
              "#0d0887"
             ],
             [
              0.1111111111111111,
              "#46039f"
             ],
             [
              0.2222222222222222,
              "#7201a8"
             ],
             [
              0.3333333333333333,
              "#9c179e"
             ],
             [
              0.4444444444444444,
              "#bd3786"
             ],
             [
              0.5555555555555556,
              "#d8576b"
             ],
             [
              0.6666666666666666,
              "#ed7953"
             ],
             [
              0.7777777777777778,
              "#fb9f3a"
             ],
             [
              0.8888888888888888,
              "#fdca26"
             ],
             [
              1,
              "#f0f921"
             ]
            ],
            "type": "heatmap"
           }
          ],
          "heatmapgl": [
           {
            "colorbar": {
             "outlinewidth": 0,
             "ticks": ""
            },
            "colorscale": [
             [
              0,
              "#0d0887"
             ],
             [
              0.1111111111111111,
              "#46039f"
             ],
             [
              0.2222222222222222,
              "#7201a8"
             ],
             [
              0.3333333333333333,
              "#9c179e"
             ],
             [
              0.4444444444444444,
              "#bd3786"
             ],
             [
              0.5555555555555556,
              "#d8576b"
             ],
             [
              0.6666666666666666,
              "#ed7953"
             ],
             [
              0.7777777777777778,
              "#fb9f3a"
             ],
             [
              0.8888888888888888,
              "#fdca26"
             ],
             [
              1,
              "#f0f921"
             ]
            ],
            "type": "heatmapgl"
           }
          ],
          "histogram": [
           {
            "marker": {
             "pattern": {
              "fillmode": "overlay",
              "size": 10,
              "solidity": 0.2
             }
            },
            "type": "histogram"
           }
          ],
          "histogram2d": [
           {
            "colorbar": {
             "outlinewidth": 0,
             "ticks": ""
            },
            "colorscale": [
             [
              0,
              "#0d0887"
             ],
             [
              0.1111111111111111,
              "#46039f"
             ],
             [
              0.2222222222222222,
              "#7201a8"
             ],
             [
              0.3333333333333333,
              "#9c179e"
             ],
             [
              0.4444444444444444,
              "#bd3786"
             ],
             [
              0.5555555555555556,
              "#d8576b"
             ],
             [
              0.6666666666666666,
              "#ed7953"
             ],
             [
              0.7777777777777778,
              "#fb9f3a"
             ],
             [
              0.8888888888888888,
              "#fdca26"
             ],
             [
              1,
              "#f0f921"
             ]
            ],
            "type": "histogram2d"
           }
          ],
          "histogram2dcontour": [
           {
            "colorbar": {
             "outlinewidth": 0,
             "ticks": ""
            },
            "colorscale": [
             [
              0,
              "#0d0887"
             ],
             [
              0.1111111111111111,
              "#46039f"
             ],
             [
              0.2222222222222222,
              "#7201a8"
             ],
             [
              0.3333333333333333,
              "#9c179e"
             ],
             [
              0.4444444444444444,
              "#bd3786"
             ],
             [
              0.5555555555555556,
              "#d8576b"
             ],
             [
              0.6666666666666666,
              "#ed7953"
             ],
             [
              0.7777777777777778,
              "#fb9f3a"
             ],
             [
              0.8888888888888888,
              "#fdca26"
             ],
             [
              1,
              "#f0f921"
             ]
            ],
            "type": "histogram2dcontour"
           }
          ],
          "mesh3d": [
           {
            "colorbar": {
             "outlinewidth": 0,
             "ticks": ""
            },
            "type": "mesh3d"
           }
          ],
          "parcoords": [
           {
            "line": {
             "colorbar": {
              "outlinewidth": 0,
              "ticks": ""
             }
            },
            "type": "parcoords"
           }
          ],
          "pie": [
           {
            "automargin": true,
            "type": "pie"
           }
          ],
          "scatter": [
           {
            "fillpattern": {
             "fillmode": "overlay",
             "size": 10,
             "solidity": 0.2
            },
            "type": "scatter"
           }
          ],
          "scatter3d": [
           {
            "line": {
             "colorbar": {
              "outlinewidth": 0,
              "ticks": ""
             }
            },
            "marker": {
             "colorbar": {
              "outlinewidth": 0,
              "ticks": ""
             }
            },
            "type": "scatter3d"
           }
          ],
          "scattercarpet": [
           {
            "marker": {
             "colorbar": {
              "outlinewidth": 0,
              "ticks": ""
             }
            },
            "type": "scattercarpet"
           }
          ],
          "scattergeo": [
           {
            "marker": {
             "colorbar": {
              "outlinewidth": 0,
              "ticks": ""
             }
            },
            "type": "scattergeo"
           }
          ],
          "scattergl": [
           {
            "marker": {
             "colorbar": {
              "outlinewidth": 0,
              "ticks": ""
             }
            },
            "type": "scattergl"
           }
          ],
          "scattermapbox": [
           {
            "marker": {
             "colorbar": {
              "outlinewidth": 0,
              "ticks": ""
             }
            },
            "type": "scattermapbox"
           }
          ],
          "scatterpolar": [
           {
            "marker": {
             "colorbar": {
              "outlinewidth": 0,
              "ticks": ""
             }
            },
            "type": "scatterpolar"
           }
          ],
          "scatterpolargl": [
           {
            "marker": {
             "colorbar": {
              "outlinewidth": 0,
              "ticks": ""
             }
            },
            "type": "scatterpolargl"
           }
          ],
          "scatterternary": [
           {
            "marker": {
             "colorbar": {
              "outlinewidth": 0,
              "ticks": ""
             }
            },
            "type": "scatterternary"
           }
          ],
          "surface": [
           {
            "colorbar": {
             "outlinewidth": 0,
             "ticks": ""
            },
            "colorscale": [
             [
              0,
              "#0d0887"
             ],
             [
              0.1111111111111111,
              "#46039f"
             ],
             [
              0.2222222222222222,
              "#7201a8"
             ],
             [
              0.3333333333333333,
              "#9c179e"
             ],
             [
              0.4444444444444444,
              "#bd3786"
             ],
             [
              0.5555555555555556,
              "#d8576b"
             ],
             [
              0.6666666666666666,
              "#ed7953"
             ],
             [
              0.7777777777777778,
              "#fb9f3a"
             ],
             [
              0.8888888888888888,
              "#fdca26"
             ],
             [
              1,
              "#f0f921"
             ]
            ],
            "type": "surface"
           }
          ],
          "table": [
           {
            "cells": {
             "fill": {
              "color": "#EBF0F8"
             },
             "line": {
              "color": "white"
             }
            },
            "header": {
             "fill": {
              "color": "#C8D4E3"
             },
             "line": {
              "color": "white"
             }
            },
            "type": "table"
           }
          ]
         },
         "layout": {
          "annotationdefaults": {
           "arrowcolor": "#2a3f5f",
           "arrowhead": 0,
           "arrowwidth": 1
          },
          "autotypenumbers": "strict",
          "coloraxis": {
           "colorbar": {
            "outlinewidth": 0,
            "ticks": ""
           }
          },
          "colorscale": {
           "diverging": [
            [
             0,
             "#8e0152"
            ],
            [
             0.1,
             "#c51b7d"
            ],
            [
             0.2,
             "#de77ae"
            ],
            [
             0.3,
             "#f1b6da"
            ],
            [
             0.4,
             "#fde0ef"
            ],
            [
             0.5,
             "#f7f7f7"
            ],
            [
             0.6,
             "#e6f5d0"
            ],
            [
             0.7,
             "#b8e186"
            ],
            [
             0.8,
             "#7fbc41"
            ],
            [
             0.9,
             "#4d9221"
            ],
            [
             1,
             "#276419"
            ]
           ],
           "sequential": [
            [
             0,
             "#0d0887"
            ],
            [
             0.1111111111111111,
             "#46039f"
            ],
            [
             0.2222222222222222,
             "#7201a8"
            ],
            [
             0.3333333333333333,
             "#9c179e"
            ],
            [
             0.4444444444444444,
             "#bd3786"
            ],
            [
             0.5555555555555556,
             "#d8576b"
            ],
            [
             0.6666666666666666,
             "#ed7953"
            ],
            [
             0.7777777777777778,
             "#fb9f3a"
            ],
            [
             0.8888888888888888,
             "#fdca26"
            ],
            [
             1,
             "#f0f921"
            ]
           ],
           "sequentialminus": [
            [
             0,
             "#0d0887"
            ],
            [
             0.1111111111111111,
             "#46039f"
            ],
            [
             0.2222222222222222,
             "#7201a8"
            ],
            [
             0.3333333333333333,
             "#9c179e"
            ],
            [
             0.4444444444444444,
             "#bd3786"
            ],
            [
             0.5555555555555556,
             "#d8576b"
            ],
            [
             0.6666666666666666,
             "#ed7953"
            ],
            [
             0.7777777777777778,
             "#fb9f3a"
            ],
            [
             0.8888888888888888,
             "#fdca26"
            ],
            [
             1,
             "#f0f921"
            ]
           ]
          },
          "colorway": [
           "#636efa",
           "#EF553B",
           "#00cc96",
           "#ab63fa",
           "#FFA15A",
           "#19d3f3",
           "#FF6692",
           "#B6E880",
           "#FF97FF",
           "#FECB52"
          ],
          "font": {
           "color": "#2a3f5f"
          },
          "geo": {
           "bgcolor": "white",
           "lakecolor": "white",
           "landcolor": "#E5ECF6",
           "showlakes": true,
           "showland": true,
           "subunitcolor": "white"
          },
          "hoverlabel": {
           "align": "left"
          },
          "hovermode": "closest",
          "mapbox": {
           "style": "light"
          },
          "paper_bgcolor": "white",
          "plot_bgcolor": "#E5ECF6",
          "polar": {
           "angularaxis": {
            "gridcolor": "white",
            "linecolor": "white",
            "ticks": ""
           },
           "bgcolor": "#E5ECF6",
           "radialaxis": {
            "gridcolor": "white",
            "linecolor": "white",
            "ticks": ""
           }
          },
          "scene": {
           "xaxis": {
            "backgroundcolor": "#E5ECF6",
            "gridcolor": "white",
            "gridwidth": 2,
            "linecolor": "white",
            "showbackground": true,
            "ticks": "",
            "zerolinecolor": "white"
           },
           "yaxis": {
            "backgroundcolor": "#E5ECF6",
            "gridcolor": "white",
            "gridwidth": 2,
            "linecolor": "white",
            "showbackground": true,
            "ticks": "",
            "zerolinecolor": "white"
           },
           "zaxis": {
            "backgroundcolor": "#E5ECF6",
            "gridcolor": "white",
            "gridwidth": 2,
            "linecolor": "white",
            "showbackground": true,
            "ticks": "",
            "zerolinecolor": "white"
           }
          },
          "shapedefaults": {
           "line": {
            "color": "#2a3f5f"
           }
          },
          "ternary": {
           "aaxis": {
            "gridcolor": "white",
            "linecolor": "white",
            "ticks": ""
           },
           "baxis": {
            "gridcolor": "white",
            "linecolor": "white",
            "ticks": ""
           },
           "bgcolor": "#E5ECF6",
           "caxis": {
            "gridcolor": "white",
            "linecolor": "white",
            "ticks": ""
           }
          },
          "title": {
           "x": 0.05
          },
          "xaxis": {
           "automargin": true,
           "gridcolor": "white",
           "linecolor": "white",
           "ticks": "",
           "title": {
            "standoff": 15
           },
           "zerolinecolor": "white",
           "zerolinewidth": 2
          },
          "yaxis": {
           "automargin": true,
           "gridcolor": "white",
           "linecolor": "white",
           "ticks": "",
           "title": {
            "standoff": 15
           },
           "zerolinecolor": "white",
           "zerolinewidth": 2
          }
         }
        },
        "xaxis": {
         "anchor": "y",
         "autorange": true,
         "domain": [
          0,
          0.7363
         ],
         "range": [
          -0.5,
          5.5
         ],
         "title": {
          "text": "Location"
         },
         "type": "category"
        },
        "xaxis2": {
         "anchor": "y2",
         "autorange": true,
         "domain": [
          0.7413,
          1
         ],
         "matches": "x2",
         "range": [
          0,
          89.47368421052632
         ],
         "showgrid": true,
         "showline": false,
         "showticklabels": false,
         "ticks": ""
        },
        "xaxis3": {
         "anchor": "y3",
         "autorange": true,
         "domain": [
          0,
          0.7363
         ],
         "matches": "x",
         "range": [
          -0.5,
          5.5
         ],
         "showgrid": true,
         "showticklabels": false,
         "type": "category"
        },
        "xaxis4": {
         "anchor": "y4",
         "domain": [
          0.7413,
          1
         ],
         "matches": "x2",
         "showgrid": true,
         "showline": false,
         "showticklabels": false,
         "ticks": ""
        },
        "yaxis": {
         "anchor": "x",
         "autorange": true,
         "domain": [
          0,
          0.7326
         ],
         "range": [
          -0.5,
          1.5
         ],
         "title": {
          "text": "Dressing type"
         },
         "type": "category"
        },
        "yaxis2": {
         "anchor": "x2",
         "autorange": true,
         "domain": [
          0,
          0.7326
         ],
         "matches": "y",
         "range": [
          -0.5,
          1.5
         ],
         "showgrid": true,
         "showticklabels": false,
         "type": "category"
        },
        "yaxis3": {
         "anchor": "x3",
         "autorange": true,
         "domain": [
          0.7426,
          1
         ],
         "matches": "y3",
         "range": [
          0,
          78.94736842105263
         ],
         "showgrid": true,
         "showline": false,
         "showticklabels": false,
         "ticks": ""
        },
        "yaxis4": {
         "anchor": "x4",
         "domain": [
          0.7426,
          1
         ],
         "matches": "y3",
         "showgrid": true,
         "showline": false,
         "showticklabels": false,
         "ticks": ""
        }
       }
      },
      "image/png": "[encoded data removed]",
      "text/html": [
       "<div>                            <div id=\"80569c10-67e3-4343-a743-ba6313fd4493\" class=\"plotly-graph-div\" style=\"height:525px; width:100%;\"></div>            <script type=\"text/javascript\">                require([\"plotly\"], function(Plotly) {                    window.PLOTLYENV=window.PLOTLYENV || {};                                    if (document.getElementById(\"80569c10-67e3-4343-a743-ba6313fd4493\")) {                    Plotly.newPlot(                        \"80569c10-67e3-4343-a743-ba6313fd4493\",                        [{\"coloraxis\":\"coloraxis\",\"histfunc\":\"sum\",\"hovertemplate\":\"Location=%{x}<br>Dressing type=%{y}<br>sum of Cured: 1, no cured: 2=%{z}<extra></extra>\",\"name\":\"\",\"x\":[\"Trochanter\",\"Trochanter\",\"Trochanter\",\"Trochanter\",\"Trochanter\",\"Trochanter\",\"Trochanter\",\"Trochanter\",\"Trochanter\",\"Trochanter\",\"Trochanter\",\"Trochanter\",\"Trochanter\",\"Trochanter\",\"Trochanter\",\"Heel\",\"Heel\",\"Heel\",\"Heel\",\"Heel\",\"Heel\",\"Heel\",\"Heel\",\"Heel\",\"Heel\",\"Heel\",\"Heel\",\"Heel\",\"Heel\",\"Heel\",\"Heel\",\"Heel\",\"Heel\",\"Heel\",\"Sacrum\",\"Sacrum\",\"Sacrum\",\"Sacrum\",\"Sacrum\",\"Sacrum\",\"Sacrum\",\"Sacrum\",\"Sacrum\",\"Sacrum\",\"Sacrum\",\"Sacrum\",\"Sacrum\",\"Sacrum\",\"Sacrum\",\"Sacrum\",\"Sacrum\",\"Sacrum\",\"Sacrum\",\"Sacrum\",\"Sacrum\",\"Sacrum\",\"Sacrum\",\"Sacrum\",\"Sacrum\",\"Sacrum\",\"Sacrum\",\"Sacrum\",\"Sacrum\",\"Sacrum\",\"Sacrum\",\"Sacrum\",\"Sacrum\",\"Sacrum\",\"Sacrum\",\"Sacrum\",\"Sacrum\",\"Sacrum\",\"Sacrum\",\"Sacrum\",\"Sacrum\",\"Sacrum\",\"Sacrum\",\"Sacrum\",\"Sacrum\",\"Sacrum\",\"Sacrum\",\"Sacrum\",\"Sacrum\",\"Sacrum\",\"Sacrum\",\"Sacrum\",\"Sacrum\",\"Sacrum\",\"Sacrum\",\"Sacrum\",\"Sacrum\",\"Sacrum\",\"Sacrum\",\"Sacrum\",\"Sacrum\",\"Sacrum\",\"Sacrum\",\"Sacrum\",\"Sacrum\",\"Sacrum\",\"Sacrum\",\"Sacrum\",\"Sacrum\",\"Sacrum\",\"Sacrum\",\"Sacrum\",\"Sacrum\",\"Sacrum\",\"Sacrum\",\"Other\",\"Other\",\"Other\",\"Other\",\"Other\",\"Other\",\"Other\",\"Other\",\"Other\",\"Other\",\"Other\",\"Other\",\"Other\",\"Malleolus\",\"Malleolus\",\"Malleolus\",\"Malleolus\",\"Malleolus\",\"Malleolus\",\"Malleolus\",\"Gluteus\",\"Gluteus\",\"Gluteus\",\"Gluteus\",\"Gluteus\",\"Gluteus\",\"Gluteus\",\"Gluteus\",\"Gluteus\",\"Gluteus\",\"Gluteus\",\"Gluteus\",\"Gluteus\",\"Gluteus\",\"Gluteus\",\"Gluteus\",\"Gluteus\",\"Gluteus\",\"Gluteus\",\"Gluteus\",\"Gluteus\",\"Gluteus\",\"Gluteus\",\"Gluteus\",\"Gluteus\",\"Gluteus\",\"Gluteus\",\"Gluteus\",\"Gluteus\",\"Gluteus\",\"Gluteus\",\"Gluteus\",\"Gluteus\",\"Gluteus\",\"Gluteus\",\"Gluteus\",\"Gluteus\",\"Gluteus\",\"Gluteus\",\"Gluteus\"],\"xaxis\":\"x\",\"xbingroup\":\"x\",\"y\":[\"Hydrocellular\",\"Hydrocellular\",\"Hydrocolloid\",\"Hydrocolloid\",\"Hydrocolloid\",\"Hydrocolloid\",\"Hydrocolloid\",\"Hydrocolloid\",\"Hydrocolloid\",\"Hydrocellular\",\"Hydrocellular\",\"Hydrocellular\",\"Hydrocellular\",\"Hydrocolloid\",\"Hydrocolloid\",\"Hydrocellular\",\"Hydrocellular\",\"Hydrocellular\",\"Hydrocellular\",\"Hydrocolloid\",\"Hydrocolloid\",\"Hydrocolloid\",\"Hydrocolloid\",\"Hydrocolloid\",\"Hydrocolloid\",\"Hydrocolloid\",\"Hydrocolloid\",\"Hydrocolloid\",\"Hydrocolloid\",\"Hydrocolloid\",\"Hydrocellular\",\"Hydrocellular\",\"Hydrocolloid\",\"Hydrocolloid\",\"Hydrocellular\",\"Hydrocellular\",\"Hydrocellular\",\"Hydrocellular\",\"Hydrocellular\",\"Hydrocellular\",\"Hydrocellular\",\"Hydrocellular\",\"Hydrocellular\",\"Hydrocellular\",\"Hydrocellular\",\"Hydrocellular\",\"Hydrocellular\",\"Hydrocellular\",\"Hydrocellular\",\"Hydrocellular\",\"Hydrocellular\",\"Hydrocellular\",\"Hydrocellular\",\"Hydrocellular\",\"Hydrocolloid\",\"Hydrocolloid\",\"Hydrocolloid\",\"Hydrocolloid\",\"Hydrocolloid\",\"Hydrocolloid\",\"Hydrocolloid\",\"Hydrocolloid\",\"Hydrocolloid\",\"Hydrocolloid\",\"Hydrocolloid\",\"Hydrocolloid\",\"Hydrocolloid\",\"Hydrocolloid\",\"Hydrocolloid\",\"Hydrocolloid\",\"Hydrocolloid\",\"Hydrocolloid\",\"Hydrocolloid\",\"Hydrocolloid\",\"Hydrocolloid\",\"Hydrocolloid\",\"Hydrocolloid\",\"Hydrocellular\",\"Hydrocellular\",\"Hydrocellular\",\"Hydrocellular\",\"Hydrocellular\",\"Hydrocellular\",\"Hydrocellular\",\"Hydrocellular\",\"Hydrocellular\",\"Hydrocellular\",\"Hydrocellular\",\"Hydrocellular\",\"Hydrocellular\",\"Hydrocellular\",\"Hydrocellular\",\"Hydrocellular\",\"Hydrocellular\",\"Hydrocellular\",\"Hydrocolloid\",\"Hydrocolloid\",\"Hydrocolloid\",\"Hydrocolloid\",\"Hydrocolloid\",\"Hydrocolloid\",\"Hydrocolloid\",\"Hydrocolloid\",\"Hydrocolloid\",\"Hydrocolloid\",\"Hydrocolloid\",\"Hydrocolloid\",\"Hydrocolloid\",\"Hydrocolloid\",\"Hydrocellular\",\"Hydrocellular\",\"Hydrocellular\",\"Hydrocellular\",\"Hydrocolloid\",\"Hydrocellular\",\"Hydrocellular\",\"Hydrocellular\",\"Hydrocellular\",\"Hydrocellular\",\"Hydrocolloid\",\"Hydrocolloid\",\"Hydrocolloid\",\"Hydrocellular\",\"Hydrocellular\",\"Hydrocolloid\",\"Hydrocellular\",\"Hydrocellular\",\"Hydrocolloid\",\"Hydrocolloid\",\"Hydrocellular\",\"Hydrocellular\",\"Hydrocellular\",\"Hydrocellular\",\"Hydrocellular\",\"Hydrocellular\",\"Hydrocellular\",\"Hydrocellular\",\"Hydrocellular\",\"Hydrocellular\",\"Hydrocellular\",\"Hydrocellular\",\"Hydrocellular\",\"Hydrocolloid\",\"Hydrocolloid\",\"Hydrocolloid\",\"Hydrocolloid\",\"Hydrocolloid\",\"Hydrocolloid\",\"Hydrocolloid\",\"Hydrocolloid\",\"Hydrocolloid\",\"Hydrocolloid\",\"Hydrocellular\",\"Hydrocellular\",\"Hydrocellular\",\"Hydrocellular\",\"Hydrocellular\",\"Hydrocellular\",\"Hydrocellular\",\"Hydrocellular\",\"Hydrocolloid\",\"Hydrocolloid\",\"Hydrocolloid\",\"Hydrocolloid\",\"Hydrocolloid\",\"Hydrocolloid\",\"Hydrocolloid\",\"Hydrocolloid\",\"Hydrocolloid\"],\"yaxis\":\"y\",\"ybingroup\":\"y\",\"z\":[2,2,2,2,2,2,2,2,2,2,2,2,2,2,1,2,2,2,2,2,2,2,2,2,2,1,2,2,2,2,2,2,2,2,2,2,2,2,2,2,2,2,2,2,2,2,2,2,2,2,2,2,2,2,2,2,2,2,2,2,2,2,1,1,2,2,1,2,2,2,2,2,2,2,2,2,2,2,2,2,2,2,2,2,2,2,2,2,2,2,2,2,2,2,2,2,2,2,2,2,2,2,2,2,2,2,2,2,2,2,2,2,2,2,2,1,2,2,2,2,2,2,1,2,2,2,2,2,2,2,2,2,2,2,2,2,2,1,2,2,2,2,2,2,2,2,2,2,2,2,2,2,2,2,2,2,2,2,2,2,2,2,2,2,2,2,2,2,2],\"type\":\"histogram2d\"},{\"alignmentgroup\":\"True\",\"bingroup\":\"x\",\"hovertemplate\":\"Location=%{x}<br>count=%{y}<extra></extra>\",\"legendgroup\":\"\",\"marker\":{\"color\":\"#0d0887\"},\"name\":\"\",\"offsetgroup\":\"\",\"opacity\":0.5,\"showlegend\":false,\"x\":[\"Trochanter\",\"Trochanter\",\"Trochanter\",\"Trochanter\",\"Trochanter\",\"Trochanter\",\"Trochanter\",\"Trochanter\",\"Trochanter\",\"Trochanter\",\"Trochanter\",\"Trochanter\",\"Trochanter\",\"Trochanter\",\"Trochanter\",\"Heel\",\"Heel\",\"Heel\",\"Heel\",\"Heel\",\"Heel\",\"Heel\",\"Heel\",\"Heel\",\"Heel\",\"Heel\",\"Heel\",\"Heel\",\"Heel\",\"Heel\",\"Heel\",\"Heel\",\"Heel\",\"Heel\",\"Sacrum\",\"Sacrum\",\"Sacrum\",\"Sacrum\",\"Sacrum\",\"Sacrum\",\"Sacrum\",\"Sacrum\",\"Sacrum\",\"Sacrum\",\"Sacrum\",\"Sacrum\",\"Sacrum\",\"Sacrum\",\"Sacrum\",\"Sacrum\",\"Sacrum\",\"Sacrum\",\"Sacrum\",\"Sacrum\",\"Sacrum\",\"Sacrum\",\"Sacrum\",\"Sacrum\",\"Sacrum\",\"Sacrum\",\"Sacrum\",\"Sacrum\",\"Sacrum\",\"Sacrum\",\"Sacrum\",\"Sacrum\",\"Sacrum\",\"Sacrum\",\"Sacrum\",\"Sacrum\",\"Sacrum\",\"Sacrum\",\"Sacrum\",\"Sacrum\",\"Sacrum\",\"Sacrum\",\"Sacrum\",\"Sacrum\",\"Sacrum\",\"Sacrum\",\"Sacrum\",\"Sacrum\",\"Sacrum\",\"Sacrum\",\"Sacrum\",\"Sacrum\",\"Sacrum\",\"Sacrum\",\"Sacrum\",\"Sacrum\",\"Sacrum\",\"Sacrum\",\"Sacrum\",\"Sacrum\",\"Sacrum\",\"Sacrum\",\"Sacrum\",\"Sacrum\",\"Sacrum\",\"Sacrum\",\"Sacrum\",\"Sacrum\",\"Sacrum\",\"Sacrum\",\"Sacrum\",\"Sacrum\",\"Sacrum\",\"Sacrum\",\"Sacrum\",\"Other\",\"Other\",\"Other\",\"Other\",\"Other\",\"Other\",\"Other\",\"Other\",\"Other\",\"Other\",\"Other\",\"Other\",\"Other\",\"Malleolus\",\"Malleolus\",\"Malleolus\",\"Malleolus\",\"Malleolus\",\"Malleolus\",\"Malleolus\",\"Gluteus\",\"Gluteus\",\"Gluteus\",\"Gluteus\",\"Gluteus\",\"Gluteus\",\"Gluteus\",\"Gluteus\",\"Gluteus\",\"Gluteus\",\"Gluteus\",\"Gluteus\",\"Gluteus\",\"Gluteus\",\"Gluteus\",\"Gluteus\",\"Gluteus\",\"Gluteus\",\"Gluteus\",\"Gluteus\",\"Gluteus\",\"Gluteus\",\"Gluteus\",\"Gluteus\",\"Gluteus\",\"Gluteus\",\"Gluteus\",\"Gluteus\",\"Gluteus\",\"Gluteus\",\"Gluteus\",\"Gluteus\",\"Gluteus\",\"Gluteus\",\"Gluteus\",\"Gluteus\",\"Gluteus\",\"Gluteus\",\"Gluteus\",\"Gluteus\"],\"xaxis\":\"x3\",\"yaxis\":\"y3\",\"type\":\"histogram\"},{\"alignmentgroup\":\"True\",\"bingroup\":\"y\",\"hovertemplate\":\"Dressing type=%{y}<br>count=%{x}<extra></extra>\",\"legendgroup\":\"\",\"marker\":{\"color\":\"#0d0887\"},\"name\":\"\",\"offsetgroup\":\"\",\"opacity\":0.5,\"showlegend\":false,\"xaxis\":\"x2\",\"y\":[\"Hydrocellular\",\"Hydrocellular\",\"Hydrocolloid\",\"Hydrocolloid\",\"Hydrocolloid\",\"Hydrocolloid\",\"Hydrocolloid\",\"Hydrocolloid\",\"Hydrocolloid\",\"Hydrocellular\",\"Hydrocellular\",\"Hydrocellular\",\"Hydrocellular\",\"Hydrocolloid\",\"Hydrocolloid\",\"Hydrocellular\",\"Hydrocellular\",\"Hydrocellular\",\"Hydrocellular\",\"Hydrocolloid\",\"Hydrocolloid\",\"Hydrocolloid\",\"Hydrocolloid\",\"Hydrocolloid\",\"Hydrocolloid\",\"Hydrocolloid\",\"Hydrocolloid\",\"Hydrocolloid\",\"Hydrocolloid\",\"Hydrocolloid\",\"Hydrocellular\",\"Hydrocellular\",\"Hydrocolloid\",\"Hydrocolloid\",\"Hydrocellular\",\"Hydrocellular\",\"Hydrocellular\",\"Hydrocellular\",\"Hydrocellular\",\"Hydrocellular\",\"Hydrocellular\",\"Hydrocellular\",\"Hydrocellular\",\"Hydrocellular\",\"Hydrocellular\",\"Hydrocellular\",\"Hydrocellular\",\"Hydrocellular\",\"Hydrocellular\",\"Hydrocellular\",\"Hydrocellular\",\"Hydrocellular\",\"Hydrocellular\",\"Hydrocellular\",\"Hydrocolloid\",\"Hydrocolloid\",\"Hydrocolloid\",\"Hydrocolloid\",\"Hydrocolloid\",\"Hydrocolloid\",\"Hydrocolloid\",\"Hydrocolloid\",\"Hydrocolloid\",\"Hydrocolloid\",\"Hydrocolloid\",\"Hydrocolloid\",\"Hydrocolloid\",\"Hydrocolloid\",\"Hydrocolloid\",\"Hydrocolloid\",\"Hydrocolloid\",\"Hydrocolloid\",\"Hydrocolloid\",\"Hydrocolloid\",\"Hydrocolloid\",\"Hydrocolloid\",\"Hydrocolloid\",\"Hydrocellular\",\"Hydrocellular\",\"Hydrocellular\",\"Hydrocellular\",\"Hydrocellular\",\"Hydrocellular\",\"Hydrocellular\",\"Hydrocellular\",\"Hydrocellular\",\"Hydrocellular\",\"Hydrocellular\",\"Hydrocellular\",\"Hydrocellular\",\"Hydrocellular\",\"Hydrocellular\",\"Hydrocellular\",\"Hydrocellular\",\"Hydrocellular\",\"Hydrocolloid\",\"Hydrocolloid\",\"Hydrocolloid\",\"Hydrocolloid\",\"Hydrocolloid\",\"Hydrocolloid\",\"Hydrocolloid\",\"Hydrocolloid\",\"Hydrocolloid\",\"Hydrocolloid\",\"Hydrocolloid\",\"Hydrocolloid\",\"Hydrocolloid\",\"Hydrocolloid\",\"Hydrocellular\",\"Hydrocellular\",\"Hydrocellular\",\"Hydrocellular\",\"Hydrocolloid\",\"Hydrocellular\",\"Hydrocellular\",\"Hydrocellular\",\"Hydrocellular\",\"Hydrocellular\",\"Hydrocolloid\",\"Hydrocolloid\",\"Hydrocolloid\",\"Hydrocellular\",\"Hydrocellular\",\"Hydrocolloid\",\"Hydrocellular\",\"Hydrocellular\",\"Hydrocolloid\",\"Hydrocolloid\",\"Hydrocellular\",\"Hydrocellular\",\"Hydrocellular\",\"Hydrocellular\",\"Hydrocellular\",\"Hydrocellular\",\"Hydrocellular\",\"Hydrocellular\",\"Hydrocellular\",\"Hydrocellular\",\"Hydrocellular\",\"Hydrocellular\",\"Hydrocellular\",\"Hydrocolloid\",\"Hydrocolloid\",\"Hydrocolloid\",\"Hydrocolloid\",\"Hydrocolloid\",\"Hydrocolloid\",\"Hydrocolloid\",\"Hydrocolloid\",\"Hydrocolloid\",\"Hydrocolloid\",\"Hydrocellular\",\"Hydrocellular\",\"Hydrocellular\",\"Hydrocellular\",\"Hydrocellular\",\"Hydrocellular\",\"Hydrocellular\",\"Hydrocellular\",\"Hydrocolloid\",\"Hydrocolloid\",\"Hydrocolloid\",\"Hydrocolloid\",\"Hydrocolloid\",\"Hydrocolloid\",\"Hydrocolloid\",\"Hydrocolloid\",\"Hydrocolloid\"],\"yaxis\":\"y2\",\"type\":\"histogram\"}],                        {\"template\":{\"data\":{\"histogram2dcontour\":[{\"type\":\"histogram2dcontour\",\"colorbar\":{\"outlinewidth\":0,\"ticks\":\"\"},\"colorscale\":[[0.0,\"#0d0887\"],[0.1111111111111111,\"#46039f\"],[0.2222222222222222,\"#7201a8\"],[0.3333333333333333,\"#9c179e\"],[0.4444444444444444,\"#bd3786\"],[0.5555555555555556,\"#d8576b\"],[0.6666666666666666,\"#ed7953\"],[0.7777777777777778,\"#fb9f3a\"],[0.8888888888888888,\"#fdca26\"],[1.0,\"#f0f921\"]]}],\"choropleth\":[{\"type\":\"choropleth\",\"colorbar\":{\"outlinewidth\":0,\"ticks\":\"\"}}],\"histogram2d\":[{\"type\":\"histogram2d\",\"colorbar\":{\"outlinewidth\":0,\"ticks\":\"\"},\"colorscale\":[[0.0,\"#0d0887\"],[0.1111111111111111,\"#46039f\"],[0.2222222222222222,\"#7201a8\"],[0.3333333333333333,\"#9c179e\"],[0.4444444444444444,\"#bd3786\"],[0.5555555555555556,\"#d8576b\"],[0.6666666666666666,\"#ed7953\"],[0.7777777777777778,\"#fb9f3a\"],[0.8888888888888888,\"#fdca26\"],[1.0,\"#f0f921\"]]}],\"heatmap\":[{\"type\":\"heatmap\",\"colorbar\":{\"outlinewidth\":0,\"ticks\":\"\"},\"colorscale\":[[0.0,\"#0d0887\"],[0.1111111111111111,\"#46039f\"],[0.2222222222222222,\"#7201a8\"],[0.3333333333333333,\"#9c179e\"],[0.4444444444444444,\"#bd3786\"],[0.5555555555555556,\"#d8576b\"],[0.6666666666666666,\"#ed7953\"],[0.7777777777777778,\"#fb9f3a\"],[0.8888888888888888,\"#fdca26\"],[1.0,\"#f0f921\"]]}],\"heatmapgl\":[{\"type\":\"heatmapgl\",\"colorbar\":{\"outlinewidth\":0,\"ticks\":\"\"},\"colorscale\":[[0.0,\"#0d0887\"],[0.1111111111111111,\"#46039f\"],[0.2222222222222222,\"#7201a8\"],[0.3333333333333333,\"#9c179e\"],[0.4444444444444444,\"#bd3786\"],[0.5555555555555556,\"#d8576b\"],[0.6666666666666666,\"#ed7953\"],[0.7777777777777778,\"#fb9f3a\"],[0.8888888888888888,\"#fdca26\"],[1.0,\"#f0f921\"]]}],\"contourcarpet\":[{\"type\":\"contourcarpet\",\"colorbar\":{\"outlinewidth\":0,\"ticks\":\"\"}}],\"contour\":[{\"type\":\"contour\",\"colorbar\":{\"outlinewidth\":0,\"ticks\":\"\"},\"colorscale\":[[0.0,\"#0d0887\"],[0.1111111111111111,\"#46039f\"],[0.2222222222222222,\"#7201a8\"],[0.3333333333333333,\"#9c179e\"],[0.4444444444444444,\"#bd3786\"],[0.5555555555555556,\"#d8576b\"],[0.6666666666666666,\"#ed7953\"],[0.7777777777777778,\"#fb9f3a\"],[0.8888888888888888,\"#fdca26\"],[1.0,\"#f0f921\"]]}],\"surface\":[{\"type\":\"surface\",\"colorbar\":{\"outlinewidth\":0,\"ticks\":\"\"},\"colorscale\":[[0.0,\"#0d0887\"],[0.1111111111111111,\"#46039f\"],[0.2222222222222222,\"#7201a8\"],[0.3333333333333333,\"#9c179e\"],[0.4444444444444444,\"#bd3786\"],[0.5555555555555556,\"#d8576b\"],[0.6666666666666666,\"#ed7953\"],[0.7777777777777778,\"#fb9f3a\"],[0.8888888888888888,\"#fdca26\"],[1.0,\"#f0f921\"]]}],\"mesh3d\":[{\"type\":\"mesh3d\",\"colorbar\":{\"outlinewidth\":0,\"ticks\":\"\"}}],\"scatter\":[{\"fillpattern\":{\"fillmode\":\"overlay\",\"size\":10,\"solidity\":0.2},\"type\":\"scatter\"}],\"parcoords\":[{\"type\":\"parcoords\",\"line\":{\"colorbar\":{\"outlinewidth\":0,\"ticks\":\"\"}}}],\"scatterpolargl\":[{\"type\":\"scatterpolargl\",\"marker\":{\"colorbar\":{\"outlinewidth\":0,\"ticks\":\"\"}}}],\"bar\":[{\"error_x\":{\"color\":\"#2a3f5f\"},\"error_y\":{\"color\":\"#2a3f5f\"},\"marker\":{\"line\":{\"color\":\"#E5ECF6\",\"width\":0.5},\"pattern\":{\"fillmode\":\"overlay\",\"size\":10,\"solidity\":0.2}},\"type\":\"bar\"}],\"scattergeo\":[{\"type\":\"scattergeo\",\"marker\":{\"colorbar\":{\"outlinewidth\":0,\"ticks\":\"\"}}}],\"scatterpolar\":[{\"type\":\"scatterpolar\",\"marker\":{\"colorbar\":{\"outlinewidth\":0,\"ticks\":\"\"}}}],\"histogram\":[{\"marker\":{\"pattern\":{\"fillmode\":\"overlay\",\"size\":10,\"solidity\":0.2}},\"type\":\"histogram\"}],\"scattergl\":[{\"type\":\"scattergl\",\"marker\":{\"colorbar\":{\"outlinewidth\":0,\"ticks\":\"\"}}}],\"scatter3d\":[{\"type\":\"scatter3d\",\"line\":{\"colorbar\":{\"outlinewidth\":0,\"ticks\":\"\"}},\"marker\":{\"colorbar\":{\"outlinewidth\":0,\"ticks\":\"\"}}}],\"scattermapbox\":[{\"type\":\"scattermapbox\",\"marker\":{\"colorbar\":{\"outlinewidth\":0,\"ticks\":\"\"}}}],\"scatterternary\":[{\"type\":\"scatterternary\",\"marker\":{\"colorbar\":{\"outlinewidth\":0,\"ticks\":\"\"}}}],\"scattercarpet\":[{\"type\":\"scattercarpet\",\"marker\":{\"colorbar\":{\"outlinewidth\":0,\"ticks\":\"\"}}}],\"carpet\":[{\"aaxis\":{\"endlinecolor\":\"#2a3f5f\",\"gridcolor\":\"white\",\"linecolor\":\"white\",\"minorgridcolor\":\"white\",\"startlinecolor\":\"#2a3f5f\"},\"baxis\":{\"endlinecolor\":\"#2a3f5f\",\"gridcolor\":\"white\",\"linecolor\":\"white\",\"minorgridcolor\":\"white\",\"startlinecolor\":\"#2a3f5f\"},\"type\":\"carpet\"}],\"table\":[{\"cells\":{\"fill\":{\"color\":\"#EBF0F8\"},\"line\":{\"color\":\"white\"}},\"header\":{\"fill\":{\"color\":\"#C8D4E3\"},\"line\":{\"color\":\"white\"}},\"type\":\"table\"}],\"barpolar\":[{\"marker\":{\"line\":{\"color\":\"#E5ECF6\",\"width\":0.5},\"pattern\":{\"fillmode\":\"overlay\",\"size\":10,\"solidity\":0.2}},\"type\":\"barpolar\"}],\"pie\":[{\"automargin\":true,\"type\":\"pie\"}]},\"layout\":{\"autotypenumbers\":\"strict\",\"colorway\":[\"#636efa\",\"#EF553B\",\"#00cc96\",\"#ab63fa\",\"#FFA15A\",\"#19d3f3\",\"#FF6692\",\"#B6E880\",\"#FF97FF\",\"#FECB52\"],\"font\":{\"color\":\"#2a3f5f\"},\"hovermode\":\"closest\",\"hoverlabel\":{\"align\":\"left\"},\"paper_bgcolor\":\"white\",\"plot_bgcolor\":\"#E5ECF6\",\"polar\":{\"bgcolor\":\"#E5ECF6\",\"angularaxis\":{\"gridcolor\":\"white\",\"linecolor\":\"white\",\"ticks\":\"\"},\"radialaxis\":{\"gridcolor\":\"white\",\"linecolor\":\"white\",\"ticks\":\"\"}},\"ternary\":{\"bgcolor\":\"#E5ECF6\",\"aaxis\":{\"gridcolor\":\"white\",\"linecolor\":\"white\",\"ticks\":\"\"},\"baxis\":{\"gridcolor\":\"white\",\"linecolor\":\"white\",\"ticks\":\"\"},\"caxis\":{\"gridcolor\":\"white\",\"linecolor\":\"white\",\"ticks\":\"\"}},\"coloraxis\":{\"colorbar\":{\"outlinewidth\":0,\"ticks\":\"\"}},\"colorscale\":{\"sequential\":[[0.0,\"#0d0887\"],[0.1111111111111111,\"#46039f\"],[0.2222222222222222,\"#7201a8\"],[0.3333333333333333,\"#9c179e\"],[0.4444444444444444,\"#bd3786\"],[0.5555555555555556,\"#d8576b\"],[0.6666666666666666,\"#ed7953\"],[0.7777777777777778,\"#fb9f3a\"],[0.8888888888888888,\"#fdca26\"],[1.0,\"#f0f921\"]],\"sequentialminus\":[[0.0,\"#0d0887\"],[0.1111111111111111,\"#46039f\"],[0.2222222222222222,\"#7201a8\"],[0.3333333333333333,\"#9c179e\"],[0.4444444444444444,\"#bd3786\"],[0.5555555555555556,\"#d8576b\"],[0.6666666666666666,\"#ed7953\"],[0.7777777777777778,\"#fb9f3a\"],[0.8888888888888888,\"#fdca26\"],[1.0,\"#f0f921\"]],\"diverging\":[[0,\"#8e0152\"],[0.1,\"#c51b7d\"],[0.2,\"#de77ae\"],[0.3,\"#f1b6da\"],[0.4,\"#fde0ef\"],[0.5,\"#f7f7f7\"],[0.6,\"#e6f5d0\"],[0.7,\"#b8e186\"],[0.8,\"#7fbc41\"],[0.9,\"#4d9221\"],[1,\"#276419\"]]},\"xaxis\":{\"gridcolor\":\"white\",\"linecolor\":\"white\",\"ticks\":\"\",\"title\":{\"standoff\":15},\"zerolinecolor\":\"white\",\"automargin\":true,\"zerolinewidth\":2},\"yaxis\":{\"gridcolor\":\"white\",\"linecolor\":\"white\",\"ticks\":\"\",\"title\":{\"standoff\":15},\"zerolinecolor\":\"white\",\"automargin\":true,\"zerolinewidth\":2},\"scene\":{\"xaxis\":{\"backgroundcolor\":\"#E5ECF6\",\"gridcolor\":\"white\",\"linecolor\":\"white\",\"showbackground\":true,\"ticks\":\"\",\"zerolinecolor\":\"white\",\"gridwidth\":2},\"yaxis\":{\"backgroundcolor\":\"#E5ECF6\",\"gridcolor\":\"white\",\"linecolor\":\"white\",\"showbackground\":true,\"ticks\":\"\",\"zerolinecolor\":\"white\",\"gridwidth\":2},\"zaxis\":{\"backgroundcolor\":\"#E5ECF6\",\"gridcolor\":\"white\",\"linecolor\":\"white\",\"showbackground\":true,\"ticks\":\"\",\"zerolinecolor\":\"white\",\"gridwidth\":2}},\"shapedefaults\":{\"line\":{\"color\":\"#2a3f5f\"}},\"annotationdefaults\":{\"arrowcolor\":\"#2a3f5f\",\"arrowhead\":0,\"arrowwidth\":1},\"geo\":{\"bgcolor\":\"white\",\"landcolor\":\"#E5ECF6\",\"subunitcolor\":\"white\",\"showland\":true,\"showlakes\":true,\"lakecolor\":\"white\"},\"title\":{\"x\":0.05},\"mapbox\":{\"style\":\"light\"}}},\"xaxis\":{\"anchor\":\"y\",\"domain\":[0.0,0.7363],\"title\":{\"text\":\"Location\"}},\"yaxis\":{\"anchor\":\"x\",\"domain\":[0.0,0.7326],\"title\":{\"text\":\"Dressing type\"}},\"xaxis2\":{\"anchor\":\"y2\",\"domain\":[0.7413,1.0],\"matches\":\"x2\",\"showticklabels\":false,\"showline\":false,\"ticks\":\"\",\"showgrid\":true},\"yaxis2\":{\"anchor\":\"x2\",\"domain\":[0.0,0.7326],\"matches\":\"y\",\"showticklabels\":false,\"showgrid\":true},\"xaxis3\":{\"anchor\":\"y3\",\"domain\":[0.0,0.7363],\"matches\":\"x\",\"showticklabels\":false,\"showgrid\":true},\"yaxis3\":{\"anchor\":\"x3\",\"domain\":[0.7426,1.0],\"matches\":\"y3\",\"showticklabels\":false,\"showline\":false,\"ticks\":\"\",\"showgrid\":true},\"xaxis4\":{\"anchor\":\"y4\",\"domain\":[0.7413,1.0],\"matches\":\"x2\",\"showticklabels\":false,\"showgrid\":true,\"showline\":false,\"ticks\":\"\"},\"yaxis4\":{\"anchor\":\"x4\",\"domain\":[0.7426,1.0],\"matches\":\"y3\",\"showticklabels\":false,\"showline\":false,\"ticks\":\"\",\"showgrid\":true},\"coloraxis\":{\"colorbar\":{\"title\":{\"text\":\"sum of Cured: 1, no cured: 2\"}},\"colorscale\":[[0.0,\"#0d0887\"],[0.1111111111111111,\"#46039f\"],[0.2222222222222222,\"#7201a8\"],[0.3333333333333333,\"#9c179e\"],[0.4444444444444444,\"#bd3786\"],[0.5555555555555556,\"#d8576b\"],[0.6666666666666666,\"#ed7953\"],[0.7777777777777778,\"#fb9f3a\"],[0.8888888888888888,\"#fdca26\"],[1.0,\"#f0f921\"]]},\"legend\":{\"tracegroupgap\":0},\"margin\":{\"t\":60},\"barmode\":\"overlay\"},                        {\"responsive\": true}                    ).then(function(){\n",
       "                            \n",
       "var gd = document.getElementById('80569c10-67e3-4343-a743-ba6313fd4493');\n",
       "var x = new MutationObserver(function (mutations, observer) {{\n",
       "        var display = window.getComputedStyle(gd).display;\n",
       "        if (!display || display === 'none') {{\n",
       "            console.log([gd, 'removed!']);\n",
       "            Plotly.purge(gd);\n",
       "            observer.disconnect();\n",
       "        }}\n",
       "}});\n",
       "\n",
       "// Listen for the removal of the full notebook cells\n",
       "var notebookContainer = gd.closest('#notebook-container');\n",
       "if (notebookContainer) {{\n",
       "    x.observe(notebookContainer, {childList: true});\n",
       "}}\n",
       "\n",
       "// Listen for the clearing of the current output cell\n",
       "var outputEl = gd.closest('.output');\n",
       "if (outputEl) {{\n",
       "    x.observe(outputEl, {childList: true});\n",
       "}}\n",
       "\n",
       "                        })                };                });            </script>        </div>"
      ]
     },
     "metadata": {},
     "output_type": "display_data"
    }
   ],
   "source": [
    "# Heatmap of the location, derssing type and status\n",
    "px.density_heatmap(analysis_df, x='Location', y='Dressing type', z='Cured: 1, no cured: 2', marginal_x=\"histogram\", marginal_y=\"histogram\")"
   ]
  },
  {
   "cell_type": "markdown",
   "id": "5cfa96a7-140d-403e-99e3-6e710222ce7a",
   "metadata": {},
   "source": [
    "# Interpretation"
   ]
  },
  {
   "cell_type": "markdown",
   "id": "faf1e804-e29d-42f0-94f5-abebd56aac4e",
   "metadata": {},
   "source": [
    "Both types of dressings can be effective in promoting wound healing, but the choice of dressing will depend on the type and severity of the wound and its location, as well as other factors such as the patient's overall health and medical history. It is important to consult with a healthcare professional to determine the most appropriate type of dressing for a particular wound, which can be a good start to making an application depending on a machine learning model to identify the best option based on the given data."
   ]
  },
  {
   "cell_type": "markdown",
   "id": "e0e1d1ac-218a-4f67-8dbc-d689e8dc586f",
   "metadata": {
    "tags": []
   },
   "source": [
    "# Machine Learning Perspective"
   ]
  },
  {
   "cell_type": "markdown",
   "id": "479a8d1a-9587-4f83-9490-88a41f4e5e83",
   "metadata": {},
   "source": [
    "We have a relatively small amount of data 169 cases having more data would be ideal, alongside the limitation of using these three attributes (porc_postural changes, porc_friccion, porc_infec) hence they have 44 missing values which are more than 25% of the whole data, so they will have a negative effect on the model quality.\n",
    "\n",
    "After Cleaning and combining the two data frames we can formulate different questions (problems) that can be solved using machine learning such as predicting **patient status** in a period of time,  **Cost Estimation** and **Dressing Type**."
   ]
  },
  {
   "cell_type": "markdown",
   "id": "c1f882c5-e4e0-4780-8cff-09ac07e01f00",
   "metadata": {
    "tags": []
   },
   "source": [
    "### 1.Patient Status\n",
    "If we are to create a classification model based on our data, we could predict whether the patient will be cured in 8 weeks.\n",
    "which gives the patients and doctors a kick start to plan the course of treatment and what to do to get the most out of it.\n"
   ]
  },
  {
   "cell_type": "markdown",
   "id": "a02f13af-2ea8-42a0-ad54-3fa0e20fb5fe",
   "metadata": {},
   "source": [
    "### 2. Cost Estimation\n",
    "Cost is a crucial factor in any treatment.\n",
    "By creating a Regression model we can estimate the total cost of treatment"
   ]
  },
  {
   "cell_type": "markdown",
   "id": "76f303a5-586c-4bbc-901c-44a7874560f7",
   "metadata": {},
   "source": [
    "### 3. Dressing Type\n",
    "Another problem can be solved by machine learning classification algorithms, a machine learning model can predict which dressing is better to be used based on the pressure ulcer's location alongside the other features."
   ]
  },
  {
   "cell_type": "markdown",
   "id": "7ac2512f-c8ec-498d-bd0f-3c5dcd5445fb",
   "metadata": {},
   "source": [
    "#### An idea from a business perspective is creating a mobile application that can take a picture of ulcers and suggest the dressing, cost and if it needs doctor intervention and if so it can show the steps of applying the dressing"
   ]
  },
  {
   "cell_type": "code",
   "execution_count": null,
   "id": "804e0d9d-31cc-4f84-a0b8-86d25b22cb56",
   "metadata": {},
   "outputs": [],
   "source": []
  }
 ],
 "metadata": {
  "kernelspec": {
   "display_name": "Python 3 (ipykernel)",
   "language": "python",
   "name": "python3"
  },
  "language_info": {
   "codemirror_mode": {
    "name": "ipython",
    "version": 3
   },
   "file_extension": ".py",
   "mimetype": "text/x-python",
   "name": "python",
   "nbconvert_exporter": "python",
   "pygments_lexer": "ipython3",
   "version": "3.11.2"
  }
 },
 "nbformat": 4,
 "nbformat_minor": 5
}
