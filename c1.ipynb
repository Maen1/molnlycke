{
 "cells": [
  {
   "cell_type": "code",
   "execution_count": 1,
   "id": "0c8b9572-a199-403b-98f8-62183b33169d",
   "metadata": {},
   "outputs": [],
   "source": [
    "import pandas as pd"
   ]
  },
  {
   "cell_type": "markdown",
   "id": "56ef6e2f-87c3-4816-a31b-46c68713b01a",
   "metadata": {},
   "source": [
    "coste_paciente, per revista.xlsx datos_analisis2 - english.xlsx"
   ]
  },
  {
   "cell_type": "code",
   "execution_count": 2,
   "id": "f86674b9-2fa9-4055-8260-9fa380c3b074",
   "metadata": {
    "tags": []
   },
   "outputs": [],
   "source": [
    "path = \"../dataset/\"\n",
    "cost_path = path + \"coste_paciente, per revista.xlsx\" \n",
    "analysis_path = path + \"datos_analisis2 - english.xlsx\" "
   ]
  },
  {
   "cell_type": "code",
   "execution_count": 3,
   "id": "c2156902-558b-491b-a2f2-a5462f98efe6",
   "metadata": {
    "tags": []
   },
   "outputs": [
    {
     "data": {
      "text/html": [
       "<div>\n",
       "<style scoped>\n",
       "    .dataframe tbody tr th:only-of-type {\n",
       "        vertical-align: middle;\n",
       "    }\n",
       "\n",
       "    .dataframe tbody tr th {\n",
       "        vertical-align: top;\n",
       "    }\n",
       "\n",
       "    .dataframe thead th {\n",
       "        text-align: right;\n",
       "    }\n",
       "</style>\n",
       "<table border=\"1\" class=\"dataframe\">\n",
       "  <thead>\n",
       "    <tr style=\"text-align: right;\">\n",
       "      <th></th>\n",
       "      <th>ID CODE</th>\n",
       "      <th>Nurse costs</th>\n",
       "      <th>Dressing costs</th>\n",
       "      <th>Material costs</th>\n",
       "      <th>Secondary costs</th>\n",
       "      <th>Total costs</th>\n",
       "      <th>Dressing type</th>\n",
       "    </tr>\n",
       "  </thead>\n",
       "  <tbody>\n",
       "    <tr>\n",
       "      <th>0</th>\n",
       "      <td>10001</td>\n",
       "      <td>29.250</td>\n",
       "      <td>73.8</td>\n",
       "      <td>8.576</td>\n",
       "      <td>0.0</td>\n",
       "      <td>111.626</td>\n",
       "      <td>Hydrocolloid</td>\n",
       "    </tr>\n",
       "    <tr>\n",
       "      <th>1</th>\n",
       "      <td>30001</td>\n",
       "      <td>38.775</td>\n",
       "      <td>73.8</td>\n",
       "      <td>9.664</td>\n",
       "      <td>0.0</td>\n",
       "      <td>122.239</td>\n",
       "      <td>Hydrocolloid</td>\n",
       "    </tr>\n",
       "    <tr>\n",
       "      <th>2</th>\n",
       "      <td>30003</td>\n",
       "      <td>15.000</td>\n",
       "      <td>69.7</td>\n",
       "      <td>3.535</td>\n",
       "      <td>0.0</td>\n",
       "      <td>88.235</td>\n",
       "      <td>Hydrocolloid</td>\n",
       "    </tr>\n",
       "    <tr>\n",
       "      <th>3</th>\n",
       "      <td>30005</td>\n",
       "      <td>46.250</td>\n",
       "      <td>NaN</td>\n",
       "      <td>8.140</td>\n",
       "      <td>0.0</td>\n",
       "      <td>54.390</td>\n",
       "      <td>Hydrocolloid</td>\n",
       "    </tr>\n",
       "    <tr>\n",
       "      <th>4</th>\n",
       "      <td>30006</td>\n",
       "      <td>18.750</td>\n",
       "      <td>57.4</td>\n",
       "      <td>1.682</td>\n",
       "      <td>0.0</td>\n",
       "      <td>77.832</td>\n",
       "      <td>Hydrocolloid</td>\n",
       "    </tr>\n",
       "  </tbody>\n",
       "</table>\n",
       "</div>"
      ],
      "text/plain": [
       "   ID CODE  Nurse costs  Dressing costs  Material costs  Secondary costs  \\\n",
       "0    10001       29.250            73.8           8.576              0.0   \n",
       "1    30001       38.775            73.8           9.664              0.0   \n",
       "2    30003       15.000            69.7           3.535              0.0   \n",
       "3    30005       46.250             NaN           8.140              0.0   \n",
       "4    30006       18.750            57.4           1.682              0.0   \n",
       "\n",
       "   Total costs Dressing type  \n",
       "0      111.626  Hydrocolloid  \n",
       "1      122.239  Hydrocolloid  \n",
       "2       88.235  Hydrocolloid  \n",
       "3       54.390  Hydrocolloid  \n",
       "4       77.832  Hydrocolloid  "
      ]
     },
     "execution_count": 3,
     "metadata": {},
     "output_type": "execute_result"
    }
   ],
   "source": [
    "cost_df = pd.read_excel(cost_path)\n",
    "cost_df.head()"
   ]
  },
  {
   "cell_type": "code",
   "execution_count": 4,
   "id": "9dfeaabc-4c0f-44aa-8df0-9bccd1bdbe38",
   "metadata": {
    "tags": []
   },
   "outputs": [
    {
     "data": {
      "text/html": [
       "<div>\n",
       "<style scoped>\n",
       "    .dataframe tbody tr th:only-of-type {\n",
       "        vertical-align: middle;\n",
       "    }\n",
       "\n",
       "    .dataframe tbody tr th {\n",
       "        vertical-align: top;\n",
       "    }\n",
       "\n",
       "    .dataframe thead th {\n",
       "        text-align: right;\n",
       "    }\n",
       "</style>\n",
       "<table border=\"1\" class=\"dataframe\">\n",
       "  <thead>\n",
       "    <tr style=\"text-align: right;\">\n",
       "      <th></th>\n",
       "      <th>ID code</th>\n",
       "      <th>Sex</th>\n",
       "      <th>Age</th>\n",
       "      <th>Baseline visit</th>\n",
       "      <th>num. visit</th>\n",
       "      <th>Dressing type</th>\n",
       "      <th>Ulcer_stage</th>\n",
       "      <th>Cured: 1, no cured: 2</th>\n",
       "      <th>infected</th>\n",
       "      <th>Postural changes</th>\n",
       "      <th>red_friccion</th>\n",
       "      <th>Avoided_infecion</th>\n",
       "      <th>Braden Scale</th>\n",
       "      <th>Push Scale</th>\n",
       "      <th>porc_postural changes</th>\n",
       "      <th>porc_friccion</th>\n",
       "      <th>porc_infec</th>\n",
       "      <th>Loss to follow up</th>\n",
       "      <th>Location</th>\n",
       "    </tr>\n",
       "  </thead>\n",
       "  <tbody>\n",
       "    <tr>\n",
       "      <th>0</th>\n",
       "      <td>270009</td>\n",
       "      <td>Female</td>\n",
       "      <td>86</td>\n",
       "      <td>2015-09-11</td>\n",
       "      <td>2.0</td>\n",
       "      <td>Hydrocellular</td>\n",
       "      <td>1</td>\n",
       "      <td>2</td>\n",
       "      <td>2</td>\n",
       "      <td>0</td>\n",
       "      <td>0</td>\n",
       "      <td>0</td>\n",
       "      <td>Riesgo moderado</td>\n",
       "      <td>15</td>\n",
       "      <td>NaN</td>\n",
       "      <td>NaN</td>\n",
       "      <td>NaN</td>\n",
       "      <td>2</td>\n",
       "      <td>Trochanter</td>\n",
       "    </tr>\n",
       "    <tr>\n",
       "      <th>1</th>\n",
       "      <td>470003</td>\n",
       "      <td>Female</td>\n",
       "      <td>92</td>\n",
       "      <td>2014-09-19</td>\n",
       "      <td>2.0</td>\n",
       "      <td>Hydrocellular</td>\n",
       "      <td>2</td>\n",
       "      <td>2</td>\n",
       "      <td>2</td>\n",
       "      <td>0</td>\n",
       "      <td>0</td>\n",
       "      <td>0</td>\n",
       "      <td>Riesgo moderado</td>\n",
       "      <td>4</td>\n",
       "      <td>NaN</td>\n",
       "      <td>NaN</td>\n",
       "      <td>NaN</td>\n",
       "      <td>1</td>\n",
       "      <td>Trochanter</td>\n",
       "    </tr>\n",
       "    <tr>\n",
       "      <th>2</th>\n",
       "      <td>30006</td>\n",
       "      <td>Female</td>\n",
       "      <td>88</td>\n",
       "      <td>2014-06-03</td>\n",
       "      <td>2.0</td>\n",
       "      <td>Hydrocolloid</td>\n",
       "      <td>2</td>\n",
       "      <td>2</td>\n",
       "      <td>1</td>\n",
       "      <td>0</td>\n",
       "      <td>0</td>\n",
       "      <td>0</td>\n",
       "      <td>Riesgo moderado</td>\n",
       "      <td>6</td>\n",
       "      <td>NaN</td>\n",
       "      <td>NaN</td>\n",
       "      <td>NaN</td>\n",
       "      <td>2</td>\n",
       "      <td>Trochanter</td>\n",
       "    </tr>\n",
       "    <tr>\n",
       "      <th>3</th>\n",
       "      <td>100005</td>\n",
       "      <td>Female</td>\n",
       "      <td>91</td>\n",
       "      <td>2014-03-11</td>\n",
       "      <td>3.0</td>\n",
       "      <td>Hydrocolloid</td>\n",
       "      <td>1</td>\n",
       "      <td>2</td>\n",
       "      <td>2</td>\n",
       "      <td>1</td>\n",
       "      <td>1</td>\n",
       "      <td>1</td>\n",
       "      <td>Riesgo moderado</td>\n",
       "      <td>12</td>\n",
       "      <td>1.0</td>\n",
       "      <td>1.0</td>\n",
       "      <td>1.0</td>\n",
       "      <td>2</td>\n",
       "      <td>Trochanter</td>\n",
       "    </tr>\n",
       "    <tr>\n",
       "      <th>4</th>\n",
       "      <td>100011</td>\n",
       "      <td>Female</td>\n",
       "      <td>86</td>\n",
       "      <td>2015-09-28</td>\n",
       "      <td>4.0</td>\n",
       "      <td>Hydrocolloid</td>\n",
       "      <td>1</td>\n",
       "      <td>2</td>\n",
       "      <td>2</td>\n",
       "      <td>2</td>\n",
       "      <td>2</td>\n",
       "      <td>0</td>\n",
       "      <td>Sin riesgo</td>\n",
       "      <td>6</td>\n",
       "      <td>1.0</td>\n",
       "      <td>1.0</td>\n",
       "      <td>0.0</td>\n",
       "      <td>2</td>\n",
       "      <td>Trochanter</td>\n",
       "    </tr>\n",
       "  </tbody>\n",
       "</table>\n",
       "</div>"
      ],
      "text/plain": [
       "   ID code     Sex  Age Baseline visit  num. visit  Dressing type  \\\n",
       "0   270009  Female   86     2015-09-11         2.0  Hydrocellular   \n",
       "1   470003  Female   92     2014-09-19         2.0  Hydrocellular   \n",
       "2    30006  Female   88     2014-06-03         2.0   Hydrocolloid   \n",
       "3   100005  Female   91     2014-03-11         3.0   Hydrocolloid   \n",
       "4   100011  Female   86     2015-09-28         4.0   Hydrocolloid   \n",
       "\n",
       "   Ulcer_stage  Cured: 1, no cured: 2  infected  Postural changes  \\\n",
       "0            1                      2         2                 0   \n",
       "1            2                      2         2                 0   \n",
       "2            2                      2         1                 0   \n",
       "3            1                      2         2                 1   \n",
       "4            1                      2         2                 2   \n",
       "\n",
       "   red_friccion  Avoided_infecion     Braden Scale  Push Scale  \\\n",
       "0             0                 0  Riesgo moderado          15   \n",
       "1             0                 0  Riesgo moderado           4   \n",
       "2             0                 0  Riesgo moderado           6   \n",
       "3             1                 1  Riesgo moderado          12   \n",
       "4             2                 0       Sin riesgo           6   \n",
       "\n",
       "   porc_postural changes  porc_friccion  porc_infec  Loss to follow up  \\\n",
       "0                    NaN            NaN         NaN                  2   \n",
       "1                    NaN            NaN         NaN                  1   \n",
       "2                    NaN            NaN         NaN                  2   \n",
       "3                    1.0            1.0         1.0                  2   \n",
       "4                    1.0            1.0         0.0                  2   \n",
       "\n",
       "     Location  \n",
       "0  Trochanter  \n",
       "1  Trochanter  \n",
       "2  Trochanter  \n",
       "3  Trochanter  \n",
       "4  Trochanter  "
      ]
     },
     "execution_count": 4,
     "metadata": {},
     "output_type": "execute_result"
    }
   ],
   "source": [
    "analysis_df = pd.read_excel(analysis_path)\n",
    "analysis_df.head()"
   ]
  },
  {
   "cell_type": "code",
   "execution_count": 12,
   "id": "aba677d1-66f2-4122-aa07-2ad034ff9067",
   "metadata": {
    "tags": []
   },
   "outputs": [
    {
     "data": {
      "text/html": [
       "<div>\n",
       "<style scoped>\n",
       "    .dataframe tbody tr th:only-of-type {\n",
       "        vertical-align: middle;\n",
       "    }\n",
       "\n",
       "    .dataframe tbody tr th {\n",
       "        vertical-align: top;\n",
       "    }\n",
       "\n",
       "    .dataframe thead th {\n",
       "        text-align: right;\n",
       "    }\n",
       "</style>\n",
       "<table border=\"1\" class=\"dataframe\">\n",
       "  <thead>\n",
       "    <tr style=\"text-align: right;\">\n",
       "      <th></th>\n",
       "      <th>count</th>\n",
       "      <th>mean</th>\n",
       "      <th>std</th>\n",
       "      <th>min</th>\n",
       "      <th>25%</th>\n",
       "      <th>50%</th>\n",
       "      <th>75%</th>\n",
       "      <th>max</th>\n",
       "    </tr>\n",
       "    <tr>\n",
       "      <th>Dressing type</th>\n",
       "      <th></th>\n",
       "      <th></th>\n",
       "      <th></th>\n",
       "      <th></th>\n",
       "      <th></th>\n",
       "      <th></th>\n",
       "      <th></th>\n",
       "      <th></th>\n",
       "    </tr>\n",
       "  </thead>\n",
       "  <tbody>\n",
       "    <tr>\n",
       "      <th>Hydrocellular</th>\n",
       "      <td>84.0</td>\n",
       "      <td>87.103585</td>\n",
       "      <td>41.212625</td>\n",
       "      <td>9.408</td>\n",
       "      <td>56.14618</td>\n",
       "      <td>83.33694</td>\n",
       "      <td>102.50854</td>\n",
       "      <td>237.02200</td>\n",
       "    </tr>\n",
       "    <tr>\n",
       "      <th>Hydrocolloid</th>\n",
       "      <td>85.0</td>\n",
       "      <td>93.604625</td>\n",
       "      <td>56.708847</td>\n",
       "      <td>13.386</td>\n",
       "      <td>60.91600</td>\n",
       "      <td>85.20000</td>\n",
       "      <td>115.40200</td>\n",
       "      <td>361.60116</td>\n",
       "    </tr>\n",
       "  </tbody>\n",
       "</table>\n",
       "</div>"
      ],
      "text/plain": [
       "               count       mean        std     min       25%       50%  \\\n",
       "Dressing type                                                            \n",
       "Hydrocellular   84.0  87.103585  41.212625   9.408  56.14618  83.33694   \n",
       "Hydrocolloid    85.0  93.604625  56.708847  13.386  60.91600  85.20000   \n",
       "\n",
       "                     75%        max  \n",
       "Dressing type                        \n",
       "Hydrocellular  102.50854  237.02200  \n",
       "Hydrocolloid   115.40200  361.60116  "
      ]
     },
     "execution_count": 12,
     "metadata": {},
     "output_type": "execute_result"
    }
   ],
   "source": [
    "cost_df.groupby('Dressing type')['Total costs'].describe()"
   ]
  },
  {
   "cell_type": "code",
   "execution_count": 28,
   "id": "318db923-a378-4271-9a07-c0eef9cf01fd",
   "metadata": {
    "tags": []
   },
   "outputs": [
    {
     "data": {
      "text/plain": [
       "Dressing type\n",
       "Hydrocellular    Axes(0.125,0.11;0.775x0.77)\n",
       "Hydrocolloid     Axes(0.125,0.11;0.775x0.77)\n",
       "Name: Total costs, dtype: object"
      ]
     },
     "execution_count": 28,
     "metadata": {},
     "output_type": "execute_result"
    },
    {
     "data": {
      "image/png": "[encoded data removed]",
      "text/plain": [
       "<Figure size 640x480 with 1 Axes>"
      ]
     },
     "metadata": {},
     "output_type": "display_data"
    }
   ],
   "source": [
    "cost_df.groupby('Dressing type')['Total costs'].plot()"
   ]
  },
  {
   "cell_type": "code",
   "execution_count": 33,
   "id": "64c30c58-2068-4ca0-8763-b0b4a23f00a3",
   "metadata": {},
   "outputs": [
    {
     "data": {
      "text/plain": [
       "<Axes: >"
      ]
     },
     "execution_count": 33,
     "metadata": {},
     "output_type": "execute_result"
    },
    {
     "data": {
      "image/png": "[encoded data removed]",
      "text/plain": [
       "<Figure size 640x480 with 1 Axes>"
      ]
     },
     "metadata": {},
     "output_type": "display_data"
    }
   ],
   "source": [
    "cost_df.loc[cost_df['Dressing type'] == 'Hydrocellular']['Total costs'].plot.box()"
   ]
  },
  {
   "cell_type": "code",
   "execution_count": 34,
   "id": "750ca162-dd0f-421b-8ec5-b4e27a38308d",
   "metadata": {
    "tags": []
   },
   "outputs": [
    {
     "data": {
      "text/plain": [
       "<Axes: >"
      ]
     },
     "execution_count": 34,
     "metadata": {},
     "output_type": "execute_result"
    },
    {
     "data": {
      "image/png": "[encoded data removed]",
      "text/plain": [
       "<Figure size 640x480 with 1 Axes>"
      ]
     },
     "metadata": {},
     "output_type": "display_data"
    }
   ],
   "source": [
    "cost_df.loc[cost_df['Dressing type'] == 'Hydrocolloid']['Total costs'].plot.box()"
   ]
  },
  {
   "cell_type": "code",
   "execution_count": null,
   "id": "3421214b-490c-43d4-8f8f-69ae04b8fcbf",
   "metadata": {},
   "outputs": [],
   "source": []
  }
 ],
 "metadata": {
  "kernelspec": {
   "display_name": "Python 3 (ipykernel)",
   "language": "python",
   "name": "python3"
  },
  "language_info": {
   "codemirror_mode": {
    "name": "ipython",
    "version": 3
   },
   "file_extension": ".py",
   "mimetype": "text/x-python",
   "name": "python",
   "nbconvert_exporter": "python",
   "pygments_lexer": "ipython3",
   "version": "3.11.2"
  }
 },
 "nbformat": 4,
 "nbformat_minor": 5
}
